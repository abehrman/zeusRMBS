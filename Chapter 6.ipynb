{
 "cells": [
  {
   "cell_type": "code",
   "execution_count": 1,
   "metadata": {
    "collapsed": false
   },
   "outputs": [],
   "source": [
    "%load_ext autoreload \n",
    "%autoreload 2\n",
    "\n",
    "%aimport -pandas\n",
    "%aimport -scipy.stats\n",
    "%aimport -numpy\n",
    "%aimport -matplotlib.pyplot\n",
    "\n",
    "import default_calcs as default\n",
    "import numpy as np\n",
    "import pandas as pd\n",
    "import matplotlib.pyplot as plt\n",
    "import scipy.stats as stats\n",
    "import pandas\n",
    "import collateral_waterfall as cw\n",
    "import prepayment_calcs as pc\n",
    "import xlwings as xw\n",
    "\n",
    "pd.options.display.float_format = '{:,.2f}'.format"
   ]
  },
  {
   "cell_type": "code",
   "execution_count": 2,
   "metadata": {
    "collapsed": false
   },
   "outputs": [],
   "source": [
    "initial_balance = 100e6    # 100 million\n",
    "net_coupon      = 0.10     # 10%\n",
    "gross_coupon    = 0.1065   # 10.65%\n",
    "maturity        = 360      # 30 years => monthly\n",
    "servicing       = 0.0   # servicing = 25bps\n",
    "\n",
    "bonds = [\n",
    "    {'Bond': 'A',\n",
    "    'Balance': 30e6,\n",
    "    'Coupon': 0.07},\n",
    "\n",
    "    {'Bond': 'B',\n",
    "    'Balance': 40e6,\n",
    "    'Coupon': 0.09},\n",
    "    \n",
    "    {'Bond': 'C',\n",
    "    'Balance': 30e6,\n",
    "    'Coupon': 0.10}\n",
    "]\n",
    "\n",
    "bonds_with_zbond = [\n",
    "    {'Bond': 'A',\n",
    "    'Balance': 30e6,\n",
    "    'Coupon': 0.07},\n",
    "\n",
    "    {'Bond': 'B',\n",
    "    'Balance': 40e6,\n",
    "    'Coupon': 0.09},\n",
    "    \n",
    "    {'Bond': 'Z',\n",
    "    'Balance': 30e6,\n",
    "    'Coupon': 0.10,\n",
    "    'Type': 'accrual'}\n",
    "]"
   ]
  },
  {
   "cell_type": "code",
   "execution_count": null,
   "metadata": {
    "collapsed": false
   },
   "outputs": [],
   "source": [
    "psa_100 = cw.create_waterfall(original_balance=initial_balance,\n",
    "                             pass_thru_cpn=net_coupon,\n",
    "                             wac=gross_coupon,\n",
    "                             wam=maturity,\n",
    "                             psa_speed=1,\n",
    "                             servicing=servicing)\n",
    "psa_175 = cw.create_waterfall(original_balance=initial_balance,\n",
    "                             pass_thru_cpn=net_coupon,\n",
    "                             wac=gross_coupon,\n",
    "                             wam=maturity,\n",
    "                             psa_speed=1.75,\n",
    "                             servicing=servicing)\n",
    "psa_400 = cw.create_waterfall(original_balance=initial_balance,\n",
    "                             pass_thru_cpn=net_coupon,\n",
    "                             wac=gross_coupon,\n",
    "                             wam=maturity,\n",
    "                             psa_speed=4,\n",
    "                             servicing=servicing)"
   ]
  },
  {
   "cell_type": "code",
   "execution_count": null,
   "metadata": {
    "collapsed": false
   },
   "outputs": [],
   "source": [
    "print('PSA\\tAverage Life')\n",
    "print('100%:\\t{0:.2f}'.format(weighted_average_life(psa_100)/12))\n",
    "print('175%:\\t{0:.2f}'.format(weighted_average_life(psa_175)/12))\n",
    "print('400%:\\t{0:.2f}'.format(weighted_average_life(psa_400)/12))\n"
   ]
  },
  {
   "cell_type": "code",
   "execution_count": null,
   "metadata": {
    "collapsed": false
   },
   "outputs": [],
   "source": [
    "%matplotlib\n",
    "frames = [psa_100,psa_175,psa_400]\n",
    "\n",
    "fig, axes = plt.subplots(3,2)\n",
    "for i in range(3):\n",
    "    for j in range(2):\n",
    "        if j == 0:\n",
    "            axes[i,j].fill_between(frames[i].index-1,\n",
    "                                  frames[i].beginning_balance)\n",
    "        else:\n",
    "            axes[i,j].stackplot(frames[i].index-1, \n",
    "                          frames[i].scheduled_principal,\n",
    "                          frames[i].prepayments,\n",
    "                          frames[i].net_interest,\n",
    "                          frames[i].servicing)\n",
    "            \n",
    "plt.tight_layout(True)\n",
    "plt.show()"
   ]
  },
  {
   "cell_type": "code",
   "execution_count": null,
   "metadata": {
    "collapsed": false
   },
   "outputs": [],
   "source": [
    "%%time\n",
    "\n",
    "%matplotlib inline\n",
    "import xlwings as xw\n",
    "wb = xw.Book('G:/Programming/Python/zeusRMBS/workbooks/Chapter 6 - CMOs.xlsx')\n",
    "ChartData = wb.sheets('ChartData')\n",
    "\n",
    "import CMO_waterfall as cmo\n",
    "\n",
    "struct = cmo.CMO(original_balance=initial_balance,\n",
    "                             pass_thru_cpn=net_coupon,\n",
    "                             wac=gross_coupon,\n",
    "                             wam=maturity,\n",
    "                             psa_speed=1.75,\n",
    "                             servicing=servicing,\n",
    "                             bonds=bonds)\n",
    "\n",
    "print(((struct.waterfall.index.values * struct.waterfall['Cashflow_A']).sum() / \n",
    "    struct.waterfall['Cashflow_A'].sum()) / 12)\n",
    "\n",
    "print(((struct.waterfall.index.values * struct.waterfall['Cashflow_B']).sum() / \n",
    "    struct.waterfall['Cashflow_B'].sum()) / 12)\n",
    "\n",
    "print(((struct.waterfall.index.values * struct.waterfall['Cashflow_C']).sum() / \n",
    "    struct.waterfall['Cashflow_C'].sum()) / 12)\n",
    "\n",
    "\n",
    "print(((struct.waterfall.index.values * struct.waterfall['Principal_A']).sum() / \n",
    "    struct.waterfall['Principal_A'].sum()) / 12)\n",
    "\n",
    "print(((struct.waterfall.index.values * struct.waterfall['Principal_B']).sum() / \n",
    "    struct.waterfall['Principal_B'].sum()) / 12)\n",
    "\n",
    "print(((struct.waterfall.index.values * struct.waterfall['Principal_C']).sum() / \n",
    "    struct.waterfall['Principal_C'].sum()) / 12)\n",
    "\n",
    "ChartData.range('A1').expand().value = \"\"\n",
    "ChartData.range('A1').value = struct.waterfall[['Interest_Paid_A',\n",
    "                                           'Principal_A',\n",
    "                                           'Interest_Paid_B',\n",
    "                                           'Principal_B',\n",
    "                                           'Interest_Paid_C',\n",
    "                                           'Principal_C',\n",
    "                                           'remaining_principal',\n",
    "                                           'remaining_interest']]\n",
    "\n",
    "wb.sheets('Waterfall').range('A1').value = struct.waterfall\n",
    "\n",
    "fig, ax = plt.subplots(1,1)\n",
    "ax = plt.stackplot(struct.waterfall.index.values.tolist(),\n",
    "                struct.waterfall.Principal_A.values.tolist(),\n",
    "                struct.waterfall.Principal_B.values.tolist(),\n",
    "                struct.waterfall.Principal_C.values.tolist(),\n",
    "                struct.waterfall.Interest_Paid_A.values.tolist(),\n",
    "                struct.waterfall.Interest_Paid_B.values.tolist(),\n",
    "                struct.waterfall.Interest_Paid_C.values.tolist())\n",
    "handles = []\n",
    "labels = ['Principal A','Principal B','Principal C','Interest A','Interest B','Interest C']\n",
    "for axis in ax:\n",
    "    handles.append(axis)\n",
    "    axis.set_clip_on(True)\n",
    "    axis.axes.grid(True, alpha=0.2)\n",
    "    \n",
    "fig.frameon=False\n",
    "#fig.tightbbox=True\n",
    "fig.tight_layout()\n",
    "fig.legend(handles, labels, loc=(.68,.50), fancybox=True)\n",
    "plt.axis(xmin=0, xmax=360)\n",
    "\n",
    "figure = wb.sheets('figure')\n",
    "figure.pictures.add(fig, name='CMO Watefall', update=True)\n",
    "\n"
   ]
  },
  {
   "cell_type": "code",
   "execution_count": null,
   "metadata": {
    "collapsed": false
   },
   "outputs": [],
   "source": [
    "#%matplotlib inline\n",
    "import CMO_waterfall as cmo\n",
    "\n",
    "struct = cmo.CMO(original_balance=initial_balance,\n",
    "                             pass_thru_cpn=net_coupon,\n",
    "                             wac=gross_coupon,\n",
    "                             wam=maturity,\n",
    "                             psa_speed=1.75,\n",
    "                             servicing=servicing,\n",
    "                             bonds=bonds_with_zbond)"
   ]
  },
  {
   "cell_type": "code",
   "execution_count": null,
   "metadata": {
    "collapsed": false
   },
   "outputs": [],
   "source": [
    "import xlwings as xw\n",
    "wb = xw.Book('G:/Programming/Python/zeusRMBS/workbooks/Chapter 6 - CMOs _ accrual bond.xlsx')\n",
    "ChartData = wb.sheets('ChartData')\n",
    "\n",
    "\n",
    "print(((struct.waterfall.index.values * struct.waterfall['Principal_A']).sum() / \n",
    "    struct.waterfall['Principal_A'].sum()) / 12)\n",
    "\n",
    "print(((struct.waterfall.index.values * struct.waterfall['Principal_B']).sum() / \n",
    "    struct.waterfall['Principal_B'].sum()) / 12)\n",
    "\n",
    "print(((struct.waterfall.index.values * struct.waterfall['Principal_Z']).sum() / \n",
    "    struct.waterfall['Principal_Z'].sum()) / 12)\n",
    "\n",
    "ChartData.range('A1').expand().value = \"\"\n",
    "ChartData.range('A1').value = struct.waterfall[['Interest_Paid_A',\n",
    "                                           'Principal_A',\n",
    "                                           'Interest_Paid_B',\n",
    "                                           'Principal_B',\n",
    "                                           'Interest_Paid_Z',\n",
    "                                           'Principal_Z',\n",
    "                                           'remaining_principal',\n",
    "                                           'remaining_interest']]\n",
    "\n",
    "wb.sheets('Waterfall').range('A1').value = struct.waterfall\n",
    "\n",
    "fig, ax = plt.subplots(1,1)\n",
    "\n",
    "\n",
    "\n",
    "ax = plt.stackplot(struct.waterfall.index.values.tolist(),\n",
    "                struct.waterfall.Principal_A.values.tolist(),\n",
    "                struct.waterfall.Principal_B.values.tolist(),\n",
    "                (struct.waterfall.Principal_Z.values +\n",
    "                (struct.waterfall.Interest_Due_Z.values - \n",
    "                 struct.waterfall.Interest_Paid_Z.values)).tolist(),\n",
    "                struct.waterfall.Interest_Paid_A.values.tolist(),\n",
    "                struct.waterfall.Interest_Paid_B.values.tolist(),\n",
    "                struct.waterfall.Interest_Paid_Z.values.tolist())\n",
    "handles = []\n",
    "labels = ['Principal A','Principal B','Principal Z','Interest A','Interest B','Interest Z']\n",
    "for axis in ax:\n",
    "    handles.append(axis)\n",
    "    axis.set_clip_on(True)\n",
    "    axis.axes.grid(True, alpha=0.2)\n",
    "    \n",
    "fig.frameon=False\n",
    "#fig.tightbbox=True\n",
    "fig.tight_layout()\n",
    "fig.legend(handles, labels, loc=(.68,.50), fancybox=True)\n",
    "plt.axis(xmin=0, xmax=360)\n",
    "\n",
    "figure = wb.sheets('figure')\n",
    "figure.pictures.add(fig, name='CMO Watefall', update=True)"
   ]
  },
  {
   "cell_type": "code",
   "execution_count": null,
   "metadata": {
    "collapsed": false
   },
   "outputs": [],
   "source": [
    "import CMO_waterfall as cmo\n",
    "\n",
    "struct = cmo.CMO(original_balance=initial_balance,\n",
    "                             pass_thru_cpn=net_coupon,\n",
    "                             wac=gross_coupon,\n",
    "                             wam=maturity,\n",
    "                             psa_speed=1.75,\n",
    "                             servicing=servicing,\n",
    "                             bonds=bonds)\n",
    "\n",
    "pro_rata_B = {\n",
    "    'source_bond': 'B',\n",
    "    'child_bonds': {'B1':0.75,'B2':0.25}\n",
    "}\n",
    "\n",
    "pro_ratas = [pro_rata_B]\n",
    "struct.create_pro_rata_bonds(pro_ratas)\n",
    "\n",
    "fig, ax = plt.subplots(1,1)\n",
    "\n",
    "\n",
    "\n",
    "ax = plt.stackplot(struct.waterfall.index.values.tolist(),\n",
    "                struct.waterfall.Principal_A.values.tolist(),\n",
    "                struct.waterfall.Principal_B2.values.tolist(),\n",
    "                struct.waterfall.Principal_B1.values.tolist(),\n",
    "                struct.waterfall.Principal_C.values.tolist())\n",
    "#                struct.waterfall.Interest_Paid_A.values.tolist(),\n",
    "#                struct.waterfall.Interest_Paid_B1.values.tolist(),\n",
    "#                struct.waterfall.Interest_Paid_B2.values.tolist(),\n",
    "#                struct.waterfall.Interest_Paid_C.values.tolist())\n",
    "handles = []\n",
    "labels = ['Principal A',\n",
    "          'Principal B2', \n",
    "          'Principal B1', \n",
    "          'Principal C']\n",
    "#          'Interest A', \n",
    "#          'Interest B1',\n",
    "#          'Interest B2',\n",
    "#          'Interest C']\n",
    "for axis in ax:\n",
    "    handles.append(axis)\n",
    "    axis.set_clip_on(True)\n",
    "    axis.axes.grid(True, alpha=0.2)\n",
    "    \n",
    "fig.frameon=False\n",
    "#fig.tightbbox=True\n",
    "fig.tight_layout()\n",
    "fig.legend(handles, labels, loc=(.68,.50), fancybox=True)\n",
    "plt.axis(xmin=0, xmax=360)\n",
    "\n",
    "plt.show()\n"
   ]
  },
  {
   "cell_type": "code",
   "execution_count": null,
   "metadata": {
    "collapsed": false
   },
   "outputs": [],
   "source": [
    "bonds"
   ]
  },
  {
   "cell_type": "code",
   "execution_count": null,
   "metadata": {
    "collapsed": false
   },
   "outputs": [],
   "source": [
    "round(.09 + (.75 / .25 * (.09 - .08)),5)"
   ]
  },
  {
   "cell_type": "code",
   "execution_count": 3,
   "metadata": {
    "collapsed": false
   },
   "outputs": [
    {
     "ename": "NameError",
     "evalue": "name 'margin' is not defined",
     "output_type": "error",
     "traceback": [
      "\u001b[0;31m---------------------------------------------------------------------------\u001b[0m",
      "\u001b[0;31mNameError\u001b[0m                                 Traceback (most recent call last)",
      "\u001b[0;32m<ipython-input-3-d11d67ab03e7>\u001b[0m in \u001b[0;36m<module>\u001b[0;34m()\u001b[0m\n\u001b[1;32m      4\u001b[0m \u001b[0mfloater_margin\u001b[0m \u001b[1;33m=\u001b[0m \u001b[1;36m0.01\u001b[0m\u001b[1;33m\u001b[0m\u001b[0m\n\u001b[1;32m      5\u001b[0m \u001b[1;33m\u001b[0m\u001b[0m\n\u001b[0;32m----> 6\u001b[0;31m \u001b[0minverse_zero\u001b[0m \u001b[1;33m=\u001b[0m \u001b[0mavailable_coupon\u001b[0m \u001b[1;33m-\u001b[0m \u001b[0mmargin\u001b[0m\u001b[1;33m\u001b[0m\u001b[0m\n\u001b[0m\u001b[1;32m      7\u001b[0m \u001b[1;33m\u001b[0m\u001b[0m\n\u001b[1;32m      8\u001b[0m \u001b[0mleverage\u001b[0m \u001b[1;33m=\u001b[0m \u001b[0mfloater_size\u001b[0m \u001b[1;33m/\u001b[0m \u001b[0minverse_size\u001b[0m\u001b[1;33m\u001b[0m\u001b[0m\n",
      "\u001b[0;31mNameError\u001b[0m: name 'margin' is not defined"
     ]
    }
   ],
   "source": [
    "floater_size = .75\n",
    "inverse_size = .25\n",
    "available_coupon = 0.09\n",
    "floater_margin = 0.01\n",
    "\n",
    "inverse_zero = available_coupon - margin\n",
    "\n",
    "leverage = floater_size / inverse_size\n",
    "inverse_zero_diff = available_coupon - inverse_zero \n",
    "\n",
    "def floater_cap(floater_size = .75,\n",
    "                inverse_size = .25,\n",
    "                available_coupon = 0.09,\n",
    "                floater_margin = 0.01):\n",
    "    \n",
    "    inverse_zero = available_coupon - margin\n",
    "\n",
    "    leverage = floater_size / inverse_size\n",
    "    inverse_zero_diff = available_coupon - inverse_zero \n",
    "\n",
    "    \n",
    "    return round(\n",
    "        available_coupon + (leverage * inverse_zero_diff),\n",
    "        5)\n",
    "\n",
    "def inverse_max(floater_size = .75,\n",
    "                inverse_size = .25,\n",
    "                available_coupon = 0.09,\n",
    "                floater_margin = 0.01):\n",
    "\n",
    "    inverse_zero = available_coupon - margin\n",
    "\n",
    "    leverage = floater_size / inverse_size\n",
    "    inverse_zero_diff = available_coupon - inverse_zero\n",
    "\n",
    "    return round((available_coupon +\n",
    "                   leverage * (available_coupon - margin)),\n",
    "                        5)\n",
    "\n",
    "def floater_rates(floater_size = .75,\n",
    "                 inverse_size = .25,\n",
    "                available_coupon=0.09,\n",
    "                margin=0.01,\n",
    "                rate=0.):\n",
    "    floater_rate = min(rate + margin, available_coupon + (1 / leverage * available_coupon))\n",
    "    \n",
    "    inverse_rate = max((available_coupon + leverage * (available_coupon - floater_rate)),0)\n",
    "    \n",
    "    return floater_rate, inverse_rate\n"
   ]
  },
  {
   "cell_type": "code",
   "execution_count": null,
   "metadata": {
    "collapsed": false
   },
   "outputs": [],
   "source": [
    "rates = pd.Series([3,6,9,12,15])/100\n",
    "ex6_5 = pd.DataFrame(index=rates,columns=['Floater','Inverse'])\n",
    "ex6_5.index.name='LIBOR'"
   ]
  },
  {
   "cell_type": "code",
   "execution_count": null,
   "metadata": {
    "collapsed": false
   },
   "outputs": [],
   "source": [
    "ex6_5[['Floater','Inverse']] = [floater_rates(rate=rate) for rate in ex6_5.index.values]\n",
    "#ex6_5['Inverse'] = [inverse_rate(rate=rate) for rate in ex6_5.index.values]"
   ]
  },
  {
   "cell_type": "code",
   "execution_count": null,
   "metadata": {
    "collapsed": false
   },
   "outputs": [],
   "source": [
    "ex6_5.plot()"
   ]
  },
  {
   "cell_type": "code",
   "execution_count": null,
   "metadata": {
    "collapsed": true
   },
   "outputs": [],
   "source": [
    "import utils"
   ]
  },
  {
   "cell_type": "code",
   "execution_count": null,
   "metadata": {
    "collapsed": false
   },
   "outputs": [],
   "source": [
    "floater_rates(rate=0)"
   ]
  },
  {
   "cell_type": "code",
   "execution_count": null,
   "metadata": {
    "collapsed": false
   },
   "outputs": [],
   "source": [
    "psa_100 = cw.create_waterfall(psa_speed=1)\n",
    "psa_300 = cw.create_waterfall(psa_speed=3)"
   ]
  },
  {
   "cell_type": "code",
   "execution_count": null,
   "metadata": {
    "collapsed": false
   },
   "outputs": [],
   "source": []
  },
  {
   "cell_type": "code",
   "execution_count": 5,
   "metadata": {
    "collapsed": false
   },
   "outputs": [],
   "source": [
    "pd.options.display.float_format = '{:,.2f}'.format\n",
    "\n",
    "def calc_PAC_and_support(collateral_waterfall, \n",
    "                         lower_band=1, \n",
    "                         upper_band=3):\n",
    "    \n",
    "    lower_df = cw.create_waterfall(original_balance=initial_balance,\n",
    "                                     pass_thru_cpn=net_coupon,\n",
    "                                     wac=gross_coupon,\n",
    "                                     wam=maturity,\n",
    "                                     psa_speed=lower_band,\n",
    "                                     servicing=servicing)\n",
    "    upper_df = cw.create_waterfall(original_balance=initial_balance,\n",
    "                                     pass_thru_cpn=net_coupon,\n",
    "                                     wac=gross_coupon,\n",
    "                                     wam=maturity,\n",
    "                                     psa_speed=upper_band,\n",
    "                                     servicing=servicing)\n",
    "    \n",
    "    pac_df = pd.DataFrame(data=[lower_df.total_principal.values, \n",
    "                           upper_df.total_principal.values],\n",
    "                    ).T\n",
    "    pac_df.columns=['PAC_lower_' + str(int(lower_band * 100)),'PAC_upper_' + str(int(upper_band * 100))]\n",
    "    pac_df.index=collateral_waterfall.index\n",
    "    pac_df['PAC_principal_due'] = pac_df.apply(\n",
    "        min,axis=1)\n",
    "    \n",
    "    pac_df['available_principal'] = collateral_waterfall.total_principal\n",
    "\n",
    "    pac_initial_balance = pac_df.PAC_principal_due.sum()\n",
    "    pac_new_balance = pac_initial_balance\n",
    "    support_initial_balance = collateral_waterfall.loc[1,'beginning_balance'] - pac_initial_balance\n",
    "    support_new_balance = support_initial_balance\n",
    "    \n",
    "    pac_df.loc[1,'PAC_balance'] = pac_initial_balance\n",
    "    pac_df.loc[1,'Support_balance'] = support_initial_balance\n",
    "    \n",
    "    pac_df['PAC_unpaid_principal'] = 0\n",
    "    pac_df['PAC_principal_paid'] = 0\n",
    "    pac_df['Support_principal_paid'] = 0\n",
    "    \n",
    "    for period, values in pac_df.loc[1:].iterrows():\n",
    "\n",
    "        pac_accrued_unpaid = 0\n",
    "        \n",
    "        if period > 1:\n",
    "            pac_accrued_unpaid = pac_df.loc[period-1,'PAC_unpaid_principal']\n",
    "        \n",
    "            pac_new_balance = pac_df.loc[period-1,'PAC_balance'] - pac_df.loc[period-1,'PAC_principal_paid']\n",
    "            support_new_balance = pac_df.loc[period-1,'Support_balance'] - pac_df.loc[period-1,'Support_principal_paid']\n",
    "\n",
    "            pac_df.loc[period,'PAC_balance'] = pac_new_balance\n",
    "            pac_df.loc[period,'Support_balance'] = support_new_balance\n",
    "        \n",
    "        \n",
    "        pac_principal_due = values['PAC_principal_due'] + pac_accrued_unpaid\n",
    "        principal_available = values['available_principal']\n",
    "\n",
    "        pac_principal_paid = min(pac_principal_due, principal_available)\n",
    "        support_principal_paid = max(min(support_new_balance, principal_available - pac_principal_paid), 0)\n",
    "        \n",
    "        pac_principal_paid += (principal_available - pac_principal_paid - support_principal_paid)\n",
    "                \n",
    "        unpaid_principal = max(pac_df.loc[:period,'PAC_principal_due'].sum() - \n",
    "                               (pac_df.loc[:period,'PAC_principal_paid'].sum() + pac_principal_paid),0)\n",
    "\n",
    "        pac_df.loc[period, ['PAC_principal_paid',\n",
    "                            'PAC_unpaid_principal',\n",
    "                            'Support_principal_paid']] = [pac_principal_paid, \n",
    "                                                          unpaid_principal,\n",
    "                                                          support_principal_paid]\n",
    "        \n",
    "        \n",
    "\n",
    "\n",
    "    \n",
    "    #collateral_waterfall = collateral_waterfall.merge(PAC_df, left_index=True, right_index=True)\n",
    "    #collateral_waterfall['Support'] = (collateral_waterfall.total_principal - \n",
    "    #                                    collateral_waterfall['PAC_principal_due']).apply(lambda x: max(x,0))\n",
    "\n",
    "    return pac_df\n",
    "    \n",
    "def return_PAC_Support_avg_life(waterfall):\n",
    "    pac = (waterfall.index.values * waterfall.PAC_principal_paid).sum() / (waterfall.PAC_principal_paid.sum())/12\n",
    "    support = (waterfall.index.values * waterfall.Support_principal_paid).sum() / (waterfall.Support_principal_paid.sum())/12\n",
    "    \n",
    "    return [pac, support]\n",
    "    "
   ]
  },
  {
   "cell_type": "code",
   "execution_count": 7,
   "metadata": {
    "collapsed": false
   },
   "outputs": [
    {
     "name": "stdout",
     "output_type": "stream",
     "text": [
      "Wall time: 2.21 s\n"
     ]
    }
   ],
   "source": [
    "%%time\n",
    "\n",
    "import collateral_waterfall as cw\n",
    "\n",
    "# psa=1 for 5 years then psa=3 for remainder\n",
    "\n",
    "speed = [1] * 60 + [3] * 300\n",
    "\n",
    "\n",
    "collateral = cw.create_waterfall(original_balance=initial_balance,\n",
    "                                     pass_thru_cpn=net_coupon,\n",
    "                                     wac=gross_coupon,\n",
    "                                     wam=maturity,\n",
    "                                     psa_speed=speed,\n",
    "                                     servicing=servicing)\n",
    "a=collateral.merge(calc_PAC_and_support(collateral,1,3), left_index=True, right_index=True)\n",
    "\n",
    "wb = xw.Book()\n",
    "wb.sheets(1).range('A1').value = a"
   ]
  },
  {
   "cell_type": "code",
   "execution_count": null,
   "metadata": {
    "collapsed": false
   },
   "outputs": [],
   "source": [
    "return_PAC_Support_avg_life(a)"
   ]
  },
  {
   "cell_type": "code",
   "execution_count": null,
   "metadata": {
    "collapsed": false
   },
   "outputs": [],
   "source": [
    "import xlwings as xw\n",
    "wb = xw.Book()\n",
    "wb.sheets(1).range('A1').value = a\n"
   ]
  },
  {
   "cell_type": "code",
   "execution_count": null,
   "metadata": {
    "collapsed": false
   },
   "outputs": [],
   "source": [
    "speeds = [0.75, 1, 1.75, 3, 4]\n",
    "ex_6_6f = pd.DataFrame(index=speeds, columns=['PAC','Support'])\n",
    "ex_6_6f.index.name='PSA'"
   ]
  },
  {
   "cell_type": "code",
   "execution_count": null,
   "metadata": {
    "collapsed": false
   },
   "outputs": [],
   "source": []
  },
  {
   "cell_type": "code",
   "execution_count": null,
   "metadata": {
    "collapsed": false
   },
   "outputs": [],
   "source": [
    "waterfalls = {}\n",
    "\n",
    "w, h = 3,2\n",
    "\n",
    "rect = 0,0,w,h\n",
    "\n",
    "fig1 = plt.figure(figsize=(w,h))\n",
    "ax1 = fig1.add_axes(rect)\n",
    "\n",
    "fig2 = plt.figure(figsize=(w,h))\n",
    "ax2 = fig2.add_axes(rect)\n",
    "\n",
    "for speed in ex_6_6f.index.values:\n",
    "    waterfalls[speed] = calc_PAC_and_support(cw.create_waterfall(\n",
    "                             original_balance=initial_balance,\n",
    "                             pass_thru_cpn=net_coupon,\n",
    "                             wac=gross_coupon,\n",
    "                             wam=maturity,\n",
    "                             psa_speed=speed,\n",
    "                             servicing=servicing),\n",
    "                             1,\n",
    "                             3)\n",
    "    \n",
    "    waterfalls[speed]['PAC_principal_paid'].plot(style='--', alpha=0.5, ax=ax1, label=speed)\n",
    "    waterfalls[speed]['Support_principal_paid'].plot(style='--', alpha=0.5, ax=ax2, label=speed)\n",
    "    \n",
    "    \n",
    "    ex_6_6f.loc[speed,['PAC','Support']] = return_PAC_Support_avg_life(waterfalls[speed])\n",
    "    \n",
    "speed = [1] * 60 + [3] * 300\n",
    "\n",
    "\n",
    "collateral = cw.create_waterfall(original_balance=initial_balance,\n",
    "                                     pass_thru_cpn=net_coupon,\n",
    "                                     wac=gross_coupon,\n",
    "                                     wam=maturity,\n",
    "                                     psa_speed=speed,\n",
    "                                     servicing=servicing)\n",
    "waterfalls['1 to 3'] = calc_PAC_and_support(collateral,1,3)\n",
    "waterfalls['1 to 3']['PAC_principal_paid'].plot(style='-', alpha=1, ax=ax1, label='1 to 3')\n",
    "waterfalls['1 to 3']['Support_principal_paid'].plot(style='-', alpha=1, ax=ax2, label='1 to 3')\n",
    "\n",
    "\n",
    "loc = (.75,.5)    \n",
    "    \n",
    "handles1, labels1 = ax1.get_legend_handles_labels()\n",
    "fig1.legend(handles1, labels1, loc=loc)\n",
    "handles2, labels2 = ax2.get_legend_handles_labels()\n",
    "fig2.legend(handles2, labels2, loc=loc)\n",
    "\n",
    "plt.show()"
   ]
  },
  {
   "cell_type": "code",
   "execution_count": null,
   "metadata": {
    "collapsed": false
   },
   "outputs": [],
   "source": [
    "waterfalls[.75]['PAC_principal_paid'].plot()\n",
    "plt.show()"
   ]
  },
  {
   "cell_type": "code",
   "execution_count": null,
   "metadata": {
    "collapsed": false
   },
   "outputs": [],
   "source": [
    "for speed in ex_6_6f.index.values:\n",
    "    ex_6_6f.loc[speed,['PAC','Support']] = return_PAC_Support_avg_life(\n",
    "        calc_PAC_and_support(cw.create_waterfall(\n",
    "                             original_balance=initial_balance,\n",
    "                             pass_thru_cpn=net_coupon,\n",
    "                             wac=gross_coupon,\n",
    "                             wam=maturity,\n",
    "                             psa_speed=speed,\n",
    "                             servicing=servicing),\n",
    "                             1,\n",
    "                             3))\n",
    "\n",
    "ex_6_6f"
   ]
  },
  {
   "cell_type": "code",
   "execution_count": null,
   "metadata": {
    "collapsed": false
   },
   "outputs": [],
   "source": [
    "fig3 = plt.figure()\n",
    "rect = 0,0,10,10\n",
    "ax3 = fig3.add_axes(rect)"
   ]
  },
  {
   "cell_type": "code",
   "execution_count": null,
   "metadata": {
    "collapsed": false
   },
   "outputs": [],
   "source": [
    "ax3"
   ]
  },
  {
   "cell_type": "code",
   "execution_count": null,
   "metadata": {
    "collapsed": true
   },
   "outputs": [],
   "source": []
  }
 ],
 "metadata": {
  "kernelspec": {
   "display_name": "Python 3",
   "language": "python",
   "name": "python3"
  },
  "language_info": {
   "codemirror_mode": {
    "name": "ipython",
    "version": 3
   },
   "file_extension": ".py",
   "mimetype": "text/x-python",
   "name": "python",
   "nbconvert_exporter": "python",
   "pygments_lexer": "ipython3",
   "version": "3.6.0"
  }
 },
 "nbformat": 4,
 "nbformat_minor": 2
}
