{
 "cells": [
  {
   "cell_type": "code",
   "execution_count": 1,
   "metadata": {
    "collapsed": false
   },
   "outputs": [],
   "source": [
    "%load_ext autoreload \n",
    "%autoreload 2\n",
    "\n",
    "%aimport -pandas\n",
    "%aimport -scipy.stats\n",
    "%aimport -numpy\n",
    "%aimport -matplotlib.pyplot\n",
    "\n",
    "\n",
    "import default_calcs as default\n",
    "import numpy as np\n",
    "import pandas as pd\n",
    "import matplotlib.pyplot as plt\n",
    "import scipy.stats as stats\n",
    "import pandas\n",
    "import collateral_waterfall as cw\n",
    "import prepayment_calcs as pc"
   ]
  },
  {
   "cell_type": "code",
   "execution_count": 206,
   "metadata": {
    "collapsed": false
   },
   "outputs": [],
   "source": [
    "initial_balance = 100e6    # 100 million\n",
    "net_coupon      = 0.10     # 10%\n",
    "gross_coupon    = 0.1065   # 10.65%\n",
    "maturity        = 360      # 30 years => monthly\n",
    "servicing       = 0.0   # servicing = 25bps\n",
    "\n",
    "bonds = [\n",
    "    {'Bond': 'A',\n",
    "    'Balance': 30e6,\n",
    "    'Coupon': 0.07},\n",
    "\n",
    "    {'Bond': 'B',\n",
    "    'Balance': 40e6,\n",
    "    'Coupon': 0.09},\n",
    "    \n",
    "    {'Bond': 'C',\n",
    "    'Balance': 30e6,\n",
    "    'Coupon': 0.10}\n",
    "]\n",
    "\n",
    "bonds_with_zbond = [\n",
    "    {'Bond': 'A',\n",
    "    'Balance': 30e6,\n",
    "    'Coupon': 0.07},\n",
    "\n",
    "    {'Bond': 'B',\n",
    "    'Balance': 40e6,\n",
    "    'Coupon': 0.09},\n",
    "    \n",
    "    {'Bond': 'Z',\n",
    "    'Balance': 30e6,\n",
    "    'Coupon': 0.10,\n",
    "    'Type': 'accrual'}\n",
    "]"
   ]
  },
  {
   "cell_type": "code",
   "execution_count": 208,
   "metadata": {
    "collapsed": false
   },
   "outputs": [
    {
     "ename": "KeyError",
     "evalue": "'Type'",
     "output_type": "error",
     "traceback": [
      "\u001b[0;31m---------------------------------------------------------------------------\u001b[0m",
      "\u001b[0;31mKeyError\u001b[0m                                  Traceback (most recent call last)",
      "\u001b[0;32m<ipython-input-208-69eb6c199a19>\u001b[0m in \u001b[0;36m<module>\u001b[0;34m()\u001b[0m\n\u001b[0;32m----> 1\u001b[0;31m \u001b[0mbonds_with_zbond\u001b[0m\u001b[1;33m[\u001b[0m\u001b[1;36m0\u001b[0m\u001b[1;33m]\u001b[0m\u001b[1;33m[\u001b[0m\u001b[1;34m'Type'\u001b[0m\u001b[1;33m]\u001b[0m\u001b[1;33m\u001b[0m\u001b[0m\n\u001b[0m",
      "\u001b[0;31mKeyError\u001b[0m: 'Type'"
     ]
    }
   ],
   "source": [
    "bonds_with_zbond[0]['Type']"
   ]
  },
  {
   "cell_type": "code",
   "execution_count": null,
   "metadata": {
    "collapsed": false
   },
   "outputs": [],
   "source": [
    "psa_100 = cw.create_waterfall(original_balance=initial_balance,\n",
    "                             pass_thru_cpn=net_coupon,\n",
    "                             wac=gross_coupon,\n",
    "                             wam=maturity,\n",
    "                             psa_speed=1,\n",
    "                             servicing=servicing)\n",
    "psa_175 = cw.create_waterfall(original_balance=initial_balance,\n",
    "                             pass_thru_cpn=net_coupon,\n",
    "                             wac=gross_coupon,\n",
    "                             wam=maturity,\n",
    "                             psa_speed=1.75,\n",
    "                             servicing=servicing)\n",
    "psa_400 = cw.create_waterfall(original_balance=initial_balance,\n",
    "                             pass_thru_cpn=net_coupon,\n",
    "                             wac=gross_coupon,\n",
    "                             wam=maturity,\n",
    "                             psa_speed=4,\n",
    "                             servicing=servicing)"
   ]
  },
  {
   "cell_type": "code",
   "execution_count": null,
   "metadata": {
    "collapsed": false
   },
   "outputs": [],
   "source": [
    "print('PSA\\tAverage Life')\n",
    "print('100%:\\t{0:.2f}'.format(weighted_average_life(psa_100)/12))\n",
    "print('175%:\\t{0:.2f}'.format(weighted_average_life(psa_175)/12))\n",
    "print('400%:\\t{0:.2f}'.format(weighted_average_life(psa_400)/12))\n"
   ]
  },
  {
   "cell_type": "code",
   "execution_count": null,
   "metadata": {
    "collapsed": false
   },
   "outputs": [],
   "source": [
    "%matplotlib\n",
    "frames = [psa_100,psa_175,psa_400]\n",
    "\n",
    "fig, axes = plt.subplots(3,2)\n",
    "for i in range(3):\n",
    "    for j in range(2):\n",
    "        if j == 0:\n",
    "            axes[i,j].fill_between(frames[i].index-1,\n",
    "                                  frames[i].beginning_balance)\n",
    "        else:\n",
    "            axes[i,j].stackplot(frames[i].index-1, \n",
    "                          frames[i].scheduled_principal,\n",
    "                          frames[i].prepayments,\n",
    "                          frames[i].net_interest,\n",
    "                          frames[i].servicing)\n",
    "            \n",
    "plt.tight_layout(True)\n",
    "plt.show()"
   ]
  },
  {
   "cell_type": "code",
   "execution_count": 244,
   "metadata": {
    "collapsed": false
   },
   "outputs": [
    {
     "name": "stdout",
     "output_type": "stream",
     "text": [
      "Initializing...\n",
      "Creating collateral waterfall...\n",
      "Producing CMO waterfall...\n",
      "Merging waterfalls...\n",
      "Done...\n",
      "2.3970682953904627\n",
      "5.967226957039013\n",
      "12.399383454310076\n",
      "2.5527832443221796\n",
      "7.28874812860645\n",
      "17.51161534928382\n",
      "Wall time: 9.38 s\n"
     ]
    },
    {
     "data": {
      "image/png": "[encoded data removed]",
      "text/plain": [
       "<matplotlib.figure.Figure at 0x2609ce340b8>"
      ]
     },
     "metadata": {},
     "output_type": "display_data"
    }
   ],
   "source": [
    "%%time\n",
    "\n",
    "%matplotlib inline\n",
    "import xlwings as xw\n",
    "wb = xw.Book('G:/Programming/Python/zeusRMBS/workbooks/Chapter 6 - CMOs.xlsx')\n",
    "ChartData = wb.sheets('ChartData')\n",
    "\n",
    "import CMO_waterfall as cmo\n",
    "\n",
    "struct = cmo.CMO(original_balance=initial_balance,\n",
    "                             pass_thru_cpn=net_coupon,\n",
    "                             wac=gross_coupon,\n",
    "                             wam=maturity,\n",
    "                             psa_speed=1.75,\n",
    "                             servicing=servicing,\n",
    "                             bonds=bonds)\n",
    "\n",
    "print(((struct.waterfall.index.values * struct.waterfall['Cashflow_A']).sum() / \n",
    "    struct.waterfall['Cashflow_A'].sum()) / 12)\n",
    "\n",
    "print(((struct.waterfall.index.values * struct.waterfall['Cashflow_B']).sum() / \n",
    "    struct.waterfall['Cashflow_B'].sum()) / 12)\n",
    "\n",
    "print(((struct.waterfall.index.values * struct.waterfall['Cashflow_C']).sum() / \n",
    "    struct.waterfall['Cashflow_C'].sum()) / 12)\n",
    "\n",
    "\n",
    "print(((struct.waterfall.index.values * struct.waterfall['Principal_A']).sum() / \n",
    "    struct.waterfall['Principal_A'].sum()) / 12)\n",
    "\n",
    "print(((struct.waterfall.index.values * struct.waterfall['Principal_B']).sum() / \n",
    "    struct.waterfall['Principal_B'].sum()) / 12)\n",
    "\n",
    "print(((struct.waterfall.index.values * struct.waterfall['Principal_C']).sum() / \n",
    "    struct.waterfall['Principal_C'].sum()) / 12)\n",
    "\n",
    "ChartData.range('A1').expand().value = \"\"\n",
    "ChartData.range('A1').value = struct.waterfall[['Interest_A',\n",
    "                                           'Principal_A',\n",
    "                                           'Interest_B',\n",
    "                                           'Principal_B',\n",
    "                                           'Interest_C',\n",
    "                                           'Principal_C',\n",
    "                                           'remaining_principal',\n",
    "                                           'remaining_interest']]\n",
    "\n",
    "wb.sheets('Waterfall').range('A1').value = struct.waterfall\n",
    "\n",
    "fig, ax = plt.subplots(1,1)\n",
    "ax = plt.stackplot(struct.waterfall.index.values.tolist(),\n",
    "                struct.waterfall.Principal_A.values.tolist(),\n",
    "                struct.waterfall.Principal_B.values.tolist(),\n",
    "                struct.waterfall.Principal_C.values.tolist(),\n",
    "                struct.waterfall.Interest_A.values.tolist(),\n",
    "                struct.waterfall.Interest_B.values.tolist(),\n",
    "                struct.waterfall.Interest_C.values.tolist())\n",
    "handles = []\n",
    "labels = ['Principal A','Principal B','Principal C','Interest A','Interest B','Interest C']\n",
    "for axis in ax:\n",
    "    handles.append(axis)\n",
    "    axis.set_clip_on(True)\n",
    "    axis.axes.grid(True, alpha=0.2)\n",
    "    \n",
    "fig.frameon=False\n",
    "#fig.tightbbox=True\n",
    "fig.tight_layout()\n",
    "fig.legend(handles, labels, loc=(.68,.50), fancybox=True)\n",
    "plt.axis(xmin=0, xmax=360)\n",
    "\n",
    "figure = wb.sheets('figure')\n",
    "figure.pictures.add(fig, name='CMO Watefall', update=True)\n",
    "\n"
   ]
  },
  {
   "cell_type": "code",
   "execution_count": 243,
   "metadata": {
    "collapsed": false
   },
   "outputs": [
    {
     "name": "stdout",
     "output_type": "stream",
     "text": [
      "Initializing...\n",
      "Creating collateral waterfall...\n",
      "Producing CMO waterfall...\n",
      "Merging waterfalls...\n",
      "Done...\n",
      "1.7604223033806239\n",
      "3.9775221477081537\n",
      "12.869374032144295\n",
      "1.840580785740925\n",
      "4.6165728271116535\n",
      "13.308324500551178\n",
      "Wall time: 10.1 s\n"
     ]
    },
    {
     "data": {
      "image/png": "[encoded data removed]",
      "text/plain": [
       "<matplotlib.figure.Figure at 0x2609ccf21d0>"
      ]
     },
     "metadata": {},
     "output_type": "display_data"
    }
   ],
   "source": [
    "%%time\n",
    "\n",
    "%matplotlib inline\n",
    "import xlwings as xw\n",
    "wb = xw.Book('G:/Programming/Python/zeusRMBS/workbooks/Chapter 6 - CMOs _ accrual bond.xlsx')\n",
    "ChartData = wb.sheets('ChartData')\n",
    "\n",
    "import CMO_waterfall as cmo\n",
    "\n",
    "struct = cmo.CMO(original_balance=initial_balance,\n",
    "                             pass_thru_cpn=net_coupon,\n",
    "                             wac=gross_coupon,\n",
    "                             wam=maturity,\n",
    "                             psa_speed=1.75,\n",
    "                             servicing=servicing,\n",
    "                             bonds=bonds_with_zbond)\n",
    "\n",
    "print(((struct.waterfall.index.values * struct.waterfall['Cashflow_A']).sum() / \n",
    "    struct.waterfall['Cashflow_A'].sum()) / 12)\n",
    "\n",
    "print(((struct.waterfall.index.values * struct.waterfall['Cashflow_B']).sum() / \n",
    "    struct.waterfall['Cashflow_B'].sum()) / 12)\n",
    "\n",
    "print(((struct.waterfall.index.values * struct.waterfall['Cashflow_Z']).sum() / \n",
    "    struct.waterfall['Cashflow_Z'].sum()) / 12)\n",
    "\n",
    "\n",
    "print(((struct.waterfall.index.values * struct.waterfall['Principal_A']).sum() / \n",
    "    struct.waterfall['Principal_A'].sum()) / 12)\n",
    "\n",
    "print(((struct.waterfall.index.values * struct.waterfall['Principal_B']).sum() / \n",
    "    struct.waterfall['Principal_B'].sum()) / 12)\n",
    "\n",
    "print(((struct.waterfall.index.values * struct.waterfall['Principal_Z']).sum() / \n",
    "    struct.waterfall['Principal_Z'].sum()) / 12)\n",
    "\n",
    "ChartData.range('A1').expand().value = \"\"\n",
    "ChartData.range('A1').value = struct.waterfall[['Interest_A',\n",
    "                                           'Principal_A',\n",
    "                                           'Interest_B',\n",
    "                                           'Principal_B',\n",
    "                                           'Interest_Z',\n",
    "                                           'Principal_Z',\n",
    "                                           'remaining_principal',\n",
    "                                           'remaining_interest']]\n",
    "\n",
    "wb.sheets('Waterfall').range('A1').value = struct.waterfall\n",
    "\n",
    "fig, ax = plt.subplots(1,1)\n",
    "ax = plt.stackplot(struct.waterfall.index.values.tolist(),\n",
    "                struct.waterfall.Principal_A.values.tolist(),\n",
    "                struct.waterfall.Principal_B.values.tolist(),\n",
    "                struct.waterfall.Principal_Z.values.tolist(),\n",
    "                struct.waterfall.Interest_A.values.tolist(),\n",
    "                struct.waterfall.Interest_B.values.tolist(),\n",
    "                struct.waterfall.Interest_Z.values.tolist())\n",
    "handles = []\n",
    "labels = ['Principal A','Principal B','Principal Z','Interest A','Interest B','Interest Z']\n",
    "for axis in ax:\n",
    "    handles.append(axis)\n",
    "    axis.set_clip_on(True)\n",
    "    axis.axes.grid(True, alpha=0.2)\n",
    "    \n",
    "fig.frameon=False\n",
    "#fig.tightbbox=True\n",
    "fig.tight_layout()\n",
    "fig.legend(handles, labels, loc=(.68,.50), fancybox=True)\n",
    "plt.axis(xmin=0, xmax=360)\n",
    "\n",
    "figure = wb.sheets('figure')\n",
    "figure.pictures.add(fig, name='CMO Watefall', update=True)\n",
    "\n"
   ]
  },
  {
   "cell_type": "code",
   "execution_count": 241,
   "metadata": {
    "collapsed": false
   },
   "outputs": [],
   "source": [
    "struct.waterfall.to_clipboard()"
   ]
  },
  {
   "cell_type": "code",
   "execution_count": 252,
   "metadata": {
    "collapsed": false
   },
   "outputs": [
    {
     "name": "stdout",
     "output_type": "stream",
     "text": [
      "Initializing...\n",
      "Creating collateral waterfall...\n",
      "Producing CMO waterfall...\n",
      "Merging waterfalls...\n",
      "Done...\n"
     ]
    }
   ],
   "source": [
    "import xlwings as xw\n",
    "wb = xw.Book('G:/Programming/Python/zeusRMBS/workbooks/Chapter 6 - CMOs _ accrual bond.xlsx')\n",
    "ChartData = wb.sheets('ChartData')\n",
    "\n",
    "import CMO_waterfall as cmo\n",
    "\n",
    "struct = cmo.CMO(original_balance=initial_balance,\n",
    "                             pass_thru_cpn=net_coupon,\n",
    "                             wac=gross_coupon,\n",
    "                             wam=maturity,\n",
    "                             psa_speed=1.75,\n",
    "                             servicing=servicing,\n",
    "                             bonds=bonds_with_zbond)"
   ]
  },
  {
   "cell_type": "code",
   "execution_count": 255,
   "metadata": {
    "collapsed": false
   },
   "outputs": [],
   "source": [
    "struct.waterfall.to_clipboard()"
   ]
  },
  {
   "cell_type": "code",
   "execution_count": null,
   "metadata": {
    "collapsed": true
   },
   "outputs": [],
   "source": []
  }
 ],
 "metadata": {
  "kernelspec": {
   "display_name": "Python 3",
   "language": "python",
   "name": "python3"
  },
  "language_info": {
   "codemirror_mode": {
    "name": "ipython",
    "version": 3
   },
   "file_extension": ".py",
   "mimetype": "text/x-python",
   "name": "python",
   "nbconvert_exporter": "python",
   "pygments_lexer": "ipython3",
   "version": "3.6.0"
  }
 },
 "nbformat": 4,
 "nbformat_minor": 2
}
