{
 "cells": [
  {
   "cell_type": "code",
   "execution_count": 32,
   "metadata": {
    "collapsed": false
   },
   "outputs": [
    {
     "name": "stdout",
     "output_type": "stream",
     "text": [
      "The autoreload extension is already loaded. To reload it, use:\n",
      "  %reload_ext autoreload\n"
     ]
    }
   ],
   "source": [
    "%load_ext autoreload \n",
    "%autoreload 2\n",
    "\n",
    "%aimport -pandas\n",
    "%aimport -scipy.stats\n",
    "%aimport -numpy\n",
    "%aimport -matplotlib.pyplot\n",
    "\n",
    "\n",
    "import default_calcs as default\n",
    "import numpy as np\n",
    "import pandas as pd\n",
    "import matplotlib.pyplot as plt\n",
    "import scipy.stats as stats\n",
    "import pandas\n",
    "import collateral_waterfall as cw\n",
    "import prepayment_calcs as pc"
   ]
  },
  {
   "cell_type": "code",
   "execution_count": 20,
   "metadata": {
    "collapsed": false
   },
   "outputs": [],
   "source": [
    "initial_balance = 100e6    # 100 million\n",
    "net_coupon      = 0.10     # 10%\n",
    "gross_coupon    = 0.1065   # 10.65%\n",
    "maturity        = 360      # 30 years => monthly\n",
    "servicing       = 0.0025   # servicing = 25bps"
   ]
  },
  {
   "cell_type": "code",
   "execution_count": 21,
   "metadata": {
    "collapsed": false
   },
   "outputs": [],
   "source": [
    "psa_100 = cw.create_waterfall(original_balance=initial_balance,\n",
    "                             pass_thru_cpn=net_coupon,\n",
    "                             wac=gross_coupon,\n",
    "                             wam=maturity,\n",
    "                             psa_speed=1,\n",
    "                             servicing=servicing)\n",
    "psa_175 = cw.create_waterfall(original_balance=initial_balance,\n",
    "                             pass_thru_cpn=net_coupon,\n",
    "                             wac=gross_coupon,\n",
    "                             wam=maturity,\n",
    "                             psa_speed=1.75,\n",
    "                             servicing=servicing)\n",
    "psa_400 = cw.create_waterfall(original_balance=initial_balance,\n",
    "                             pass_thru_cpn=net_coupon,\n",
    "                             wac=gross_coupon,\n",
    "                             wam=maturity,\n",
    "                             psa_speed=4,\n",
    "                             servicing=servicing)"
   ]
  },
  {
   "cell_type": "code",
   "execution_count": 22,
   "metadata": {
    "collapsed": false
   },
   "outputs": [
    {
     "name": "stdout",
     "output_type": "stream",
     "text": [
      "PSA\tAverage Life\n",
      "100%:\t12.40\n",
      "175%:\t8.93\n",
      "400%:\t4.75\n"
     ]
    }
   ],
   "source": [
    "print('PSA\\tAverage Life')\n",
    "print('100%:\\t{0:.2f}'.format(weighted_average_life(psa_100)/12))\n",
    "print('175%:\\t{0:.2f}'.format(weighted_average_life(psa_175)/12))\n",
    "print('400%:\\t{0:.2f}'.format(weighted_average_life(psa_400)/12))\n"
   ]
  },
  {
   "cell_type": "code",
   "execution_count": 31,
   "metadata": {
    "collapsed": false
   },
   "outputs": [],
   "source": [
    "%matplotlib\n",
    "frames = [psa_100,psa_175,psa_400]\n",
    "\n",
    "fig, axes = plt.subplots(3,2)\n",
    "for i in range(3):\n",
    "    for j in range(2):\n",
    "        if j == 0:\n",
    "            axes[i,j].fill_between(frames[i].index-1,\n",
    "                                  frames[i].beginning_balance)\n",
    "        else:\n",
    "            axes[i,j].stackplot(frames[i].index-1, \n",
    "                          frames[i].scheduled_principal,\n",
    "                          frames[i].prepayments,\n",
    "                          frames[i].net_interest,\n",
    "                          frames[i].servicing)\n",
    "            \n",
    "plt.tight_layout(True)\n",
    "plt.show()"
   ]
  },
  {
   "cell_type": "code",
   "execution_count": 27,
   "metadata": {
    "collapsed": false
   },
   "outputs": [
    {
     "name": "stdout",
     "output_type": "stream",
     "text": [
      "Using matplotlib backend: MacOSX\n"
     ]
    }
   ],
   "source": []
  },
  {
   "cell_type": "code",
   "execution_count": null,
   "metadata": {
    "collapsed": true
   },
   "outputs": [],
   "source": []
  }
 ],
 "metadata": {
  "kernelspec": {
   "display_name": "Python 3",
   "language": "python",
   "name": "python3"
  },
  "language_info": {
   "codemirror_mode": {
    "name": "ipython",
    "version": 3
   },
   "file_extension": ".py",
   "mimetype": "text/x-python",
   "name": "python",
   "nbconvert_exporter": "python",
   "pygments_lexer": "ipython3",
   "version": "3.6.0"
  }
 },
 "nbformat": 4,
 "nbformat_minor": 2
}
