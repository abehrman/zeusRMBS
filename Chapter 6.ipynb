{
 "cells": [
  {
   "cell_type": "code",
   "execution_count": 1,
   "metadata": {
    "collapsed": false
   },
   "outputs": [],
   "source": [
    "%load_ext autoreload \n",
    "%autoreload 2\n",
    "\n",
    "%aimport -pandas\n",
    "%aimport -scipy.stats\n",
    "%aimport -numpy\n",
    "%aimport -matplotlib.pyplot\n",
    "\n",
    "\n",
    "import default_calcs as default\n",
    "import numpy as np\n",
    "import pandas as pd\n",
    "import matplotlib.pyplot as plt\n",
    "import scipy.stats as stats\n",
    "import pandas\n",
    "import collateral_waterfall as cw\n",
    "import prepayment_calcs as pc"
   ]
  },
  {
   "cell_type": "code",
   "execution_count": 43,
   "metadata": {
    "collapsed": false
   },
   "outputs": [],
   "source": [
    "initial_balance = 100e6    # 100 million\n",
    "net_coupon      = 0.10     # 10%\n",
    "gross_coupon    = 0.1065   # 10.65%\n",
    "maturity        = 360      # 30 years => monthly\n",
    "servicing       = 0.0025   # servicing = 25bps\n",
    "\n",
    "bonds = [\n",
    "    {'Bond': 'A',\n",
    "    'Balance': 30e6,\n",
    "    'Coupon': 0.07},\n",
    "\n",
    "    {'Bond': 'B',\n",
    "    'Balance': 40e6,\n",
    "    'Coupon': 0.09},\n",
    "    \n",
    "    {'Bond': 'C',\n",
    "    'Balance': 30e6,\n",
    "    'Coupon': 0.10}\n",
    "]"
   ]
  },
  {
   "cell_type": "code",
   "execution_count": null,
   "metadata": {
    "collapsed": false
   },
   "outputs": [],
   "source": [
    "psa_100 = cw.create_waterfall(original_balance=initial_balance,\n",
    "                             pass_thru_cpn=net_coupon,\n",
    "                             wac=gross_coupon,\n",
    "                             wam=maturity,\n",
    "                             psa_speed=1,\n",
    "                             servicing=servicing)\n",
    "psa_175 = cw.create_waterfall(original_balance=initial_balance,\n",
    "                             pass_thru_cpn=net_coupon,\n",
    "                             wac=gross_coupon,\n",
    "                             wam=maturity,\n",
    "                             psa_speed=1.75,\n",
    "                             servicing=servicing)\n",
    "psa_400 = cw.create_waterfall(original_balance=initial_balance,\n",
    "                             pass_thru_cpn=net_coupon,\n",
    "                             wac=gross_coupon,\n",
    "                             wam=maturity,\n",
    "                             psa_speed=4,\n",
    "                             servicing=servicing)"
   ]
  },
  {
   "cell_type": "code",
   "execution_count": null,
   "metadata": {
    "collapsed": false
   },
   "outputs": [],
   "source": [
    "print('PSA\\tAverage Life')\n",
    "print('100%:\\t{0:.2f}'.format(weighted_average_life(psa_100)/12))\n",
    "print('175%:\\t{0:.2f}'.format(weighted_average_life(psa_175)/12))\n",
    "print('400%:\\t{0:.2f}'.format(weighted_average_life(psa_400)/12))\n"
   ]
  },
  {
   "cell_type": "code",
   "execution_count": null,
   "metadata": {
    "collapsed": false
   },
   "outputs": [],
   "source": [
    "%matplotlib\n",
    "frames = [psa_100,psa_175,psa_400]\n",
    "\n",
    "fig, axes = plt.subplots(3,2)\n",
    "for i in range(3):\n",
    "    for j in range(2):\n",
    "        if j == 0:\n",
    "            axes[i,j].fill_between(frames[i].index-1,\n",
    "                                  frames[i].beginning_balance)\n",
    "        else:\n",
    "            axes[i,j].stackplot(frames[i].index-1, \n",
    "                          frames[i].scheduled_principal,\n",
    "                          frames[i].prepayments,\n",
    "                          frames[i].net_interest,\n",
    "                          frames[i].servicing)\n",
    "            \n",
    "plt.tight_layout(True)\n",
    "plt.show()"
   ]
  },
  {
   "cell_type": "code",
   "execution_count": null,
   "metadata": {
    "collapsed": false
   },
   "outputs": [],
   "source": [
    "def calc_seq_bond_cfs(collateral_waterfall, bonds):\n",
    "    bond_waterfalls = {}\n",
    "    for bond in bonds:\n",
    "        current_bond = bond['Bond']\n",
    "        bond_waterfalls[current_bond] = pd.DataFrame(\n",
    "            index=psa_175.index.values,\n",
    "            columns=['Bond_' + current_bond,\n",
    "                    'Coupon_' + current_bond,\n",
    "                    'Balance_' + current_bond,\n",
    "                    'Principal_' + current_bond,\n",
    "                    'Interest_' + current_bond,\n",
    "                    'Cashflow_' + current_bond])\n",
    "        bond_waterfalls[current_bond]['Bond_' + current_bond] = current_bond\n",
    "        bond_waterfalls[current_bond]['Coupon_' + current_bond] = bond['Coupon']\n",
    "        bond_waterfalls[current_bond].loc[1,'Balance_' + current_bond] = bond['Balance']\n",
    "        bond_waterfalls[current_bond].loc[1,'Scheduled_Payment_' + current_bond] = np.nan\n",
    "    \n",
    "    final_df = pd.DataFrame(index=collateral_waterfall.index, columns=['remaining_cash'])\n",
    "    \n",
    "    #for k, v in collateral_waterfall.iterrows():\n",
    "    for k in collateral_waterfall.index.values:\n",
    "        rem_cash = np.float(collateral_waterfall.loc[k,'cash_flow'])\n",
    "        # pay interest\n",
    "        \n",
    "        for i in range(len(bonds)):\n",
    "            \n",
    "            current_bond = bonds[i]['Bond']\n",
    "            \n",
    "            if k > 1:\n",
    "                bond_waterfalls[current_bond].loc[k, 'Balance_' + current_bond] = \\\n",
    "                    bond_waterfalls[current_bond].loc[k-1, 'Balance_' + current_bond] - \\\n",
    "                    (bond_waterfalls[current_bond].loc[k-1, 'Cashflow_' + current_bond] - \\\n",
    "                    bond_waterfalls[current_bond].loc[k-1, 'Interest_' + current_bond])\n",
    "            \n",
    "            bond_waterfalls[current_bond].loc[k, 'Interest_' + current_bond] = round(-np.ppmt(\n",
    "                                                 bond_waterfalls[current_bond].loc[k, 'Coupon_' + current_bond]/12,\n",
    "                                                 1,\n",
    "                                                 361-k,\n",
    "                                                 bond_waterfalls[current_bond].loc[k, 'Balance_' + current_bond]),2)\n",
    "            \n",
    "            bond_waterfalls[current_bond].loc[k, 'Scheduled_Payment_' + current_bond] = round(-np.pmt(\n",
    "                                                 bond_waterfalls[current_bond].loc[k, 'Coupon_' + current_bond]/12,\n",
    "                                                 361-k,\n",
    "                                                 bond_waterfalls[current_bond].loc[k, 'Balance_' + current_bond]),2)\n",
    "            \n",
    "            \n",
    "            interest_cash_flow = min(\n",
    "                np.float(bond_waterfalls[current_bond].loc[k, 'Interest_' + current_bond]), \n",
    "                np.float(rem_cash))\n",
    "            \n",
    "            bond_waterfalls[current_bond].loc[k, 'Cashflow_' + current_bond] = interest_cash_flow\n",
    "            \n",
    "            rem_cash -= interest_cash_flow\n",
    "            \n",
    "        # pay principal\n",
    "        for i in range(len(bonds)):\n",
    "            \n",
    "            current_bond = bonds[i]['Bond']\n",
    "            \n",
    "            principal_cash_flow = min(\n",
    "                np.float(bond_waterfalls[current_bond].loc[k, 'Balance_' + current_bond]), \n",
    "                np.float(rem_cash))\n",
    "                    \n",
    "            bond_waterfalls[current_bond].loc[k, 'Principal_' + current_bond] = principal_cash_flow\n",
    "            bond_waterfalls[current_bond].loc[k, 'Cashflow_' + current_bond] += principal_cash_flow\n",
    "            rem_cash -= principal_cash_flow\n",
    "        \n",
    "        final_df.loc[k,'remaining_cash'] = rem_cash\n",
    "        \n",
    "    for i in range(len(bonds)):\n",
    "        current_bond = bonds[i]['Bond']\n",
    "        final_df = final_df.merge(bond_waterfalls[current_bond], \n",
    "                                  left_index=True,\n",
    "                                  right_index=True)\n",
    "\n",
    "    return final_df\n",
    "        "
   ]
  },
  {
   "cell_type": "code",
   "execution_count": 12,
   "metadata": {
    "collapsed": true
   },
   "outputs": [],
   "source": [
    "import xlwings as xw\n",
    "wb = xw.Book()\n",
    "\n",
    "sheet = wb.sheets(1)"
   ]
  },
  {
   "cell_type": "code",
   "execution_count": 46,
   "metadata": {
    "collapsed": false
   },
   "outputs": [
    {
     "name": "stdout",
     "output_type": "stream",
     "text": [
      "Initializing...\n",
      "Creating collateral waterfall...\n",
      "Producing CMO waterfall...\n",
      "Merging waterfalls...\n",
      "Done...\n",
      "1.2104124301111552\n",
      "3.8768455320743733\n",
      "6.468043233772356\n"
     ]
    }
   ],
   "source": [
    "import CMO_waterfall as cmo\n",
    "\n",
    "struct = cmo.CMO(original_balance=initial_balance,\n",
    "                             pass_thru_cpn=net_coupon,\n",
    "                             wac=gross_coupon,\n",
    "                             wam=maturity,\n",
    "                             psa_speed=0,\n",
    "                             servicing=servicing,\n",
    "                             bonds=bonds)\n",
    "\n",
    "print(((struct.waterfall.index.values * struct.waterfall['Cashflow_A']).sum() / \n",
    "    struct.waterfall['Cashflow_A'].sum()) / 12)\n",
    "\n",
    "print(((struct.waterfall.index.values * struct.waterfall['Cashflow_B']).sum() / \n",
    "    struct.waterfall['Cashflow_B'].sum()) / 12)\n",
    "\n",
    "print(((struct.waterfall.index.values * struct.waterfall['Cashflow_C']).sum() / \n",
    "    struct.waterfall['Cashflow_C'].sum()) / 12)\n",
    "\n",
    "\n",
    "sheet.range('A1').expand().value = \"\"\n",
    "sheet.range('A1').value = struct.waterfall[['Interest_A',\n",
    "                                           'Principal_A',\n",
    "                                           'Interest_B',\n",
    "                                           'Principal_B',\n",
    "                                           'Interest_C',\n",
    "                                           'Principal_C',\n",
    "                                           'remaining_cash']]"
   ]
  },
  {
   "cell_type": "code",
   "execution_count": 47,
   "metadata": {
    "collapsed": false
   },
   "outputs": [],
   "source": [
    "wb.sheets(2).range('A1').value = struct.collateral_waterfall"
   ]
  },
  {
   "cell_type": "code",
   "execution_count": null,
   "metadata": {
    "collapsed": true
   },
   "outputs": [],
   "source": []
  }
 ],
 "metadata": {
  "kernelspec": {
   "display_name": "Python 3",
   "language": "python",
   "name": "python3"
  },
  "language_info": {
   "codemirror_mode": {
    "name": "ipython",
    "version": 3
   },
   "file_extension": ".py",
   "mimetype": "text/x-python",
   "name": "python",
   "nbconvert_exporter": "python",
   "pygments_lexer": "ipython3",
   "version": "3.6.0"
  }
 },
 "nbformat": 4,
 "nbformat_minor": 2
}
