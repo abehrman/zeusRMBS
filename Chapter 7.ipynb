{
 "cells": [
  {
   "cell_type": "code",
   "execution_count": 1,
   "metadata": {
    "collapsed": true
   },
   "outputs": [],
   "source": [
    "%load_ext autoreload \n",
    "%autoreload 2\n",
    "\n",
    "%aimport -pandas\n",
    "%aimport -scipy.stats\n",
    "%aimport -numpy\n",
    "%aimport -matplotlib.pyplot\n",
    "\n",
    "import default_calcs as default\n",
    "import numpy as np\n",
    "import pandas as pd\n",
    "import matplotlib.pyplot as plt\n",
    "import scipy.stats as stats\n",
    "import pandas\n",
    "import collateral_waterfall as cw\n",
    "import prepayment_calcs as pc\n",
    "import xlwings as xw\n",
    "\n",
    "pd.options.display.float_format = '{:,.2f}'.format"
   ]
  },
  {
   "cell_type": "code",
   "execution_count": 2,
   "metadata": {
    "collapsed": true
   },
   "outputs": [],
   "source": [
    "gross = 0.09\n",
    "net = 0.085\n",
    "wam = 355\n",
    "CPR = '15'\n",
    "bal = 1000"
   ]
  },
  {
   "cell_type": "code",
   "execution_count": 19,
   "metadata": {
    "collapsed": false
   },
   "outputs": [],
   "source": [
    "collateral = cw.create_waterfall(original_balance=bal,\n",
    "                                pass_thru_cpn=net,\n",
    "                                wac=gross,\n",
    "                                wam=wam,\n",
    "                                psa_speed=1,\n",
    "                                 servicing=.00042,\n",
    "                                cpr_description=CPR)"
   ]
  },
  {
   "cell_type": "code",
   "execution_count": 32,
   "metadata": {
    "collapsed": false
   },
   "outputs": [],
   "source": [
    "CPR = '15 ramp 40 for 6, 40'"
   ]
  },
  {
   "cell_type": "code",
   "execution_count": 41,
   "metadata": {
    "collapsed": true
   },
   "outputs": [],
   "source": [
    "collateral = cw.create_waterfall(original_balance=bal,\n",
    "                                pass_thru_cpn=net,\n",
    "                                wac=gross,\n",
    "                                wam=wam,\n",
    "                                psa_speed=1,\n",
    "                                 servicing=.005,\n",
    "                                cpr_description=CPR)"
   ]
  },
  {
   "cell_type": "code",
   "execution_count": 42,
   "metadata": {
    "collapsed": false
   },
   "outputs": [
    {
     "data": {
      "text/html": [
       "<div>\n",
       "<table border=\"1\" class=\"dataframe\">\n",
       "  <thead>\n",
       "    <tr style=\"text-align: right;\">\n",
       "      <th></th>\n",
       "      <th>beginning_balance</th>\n",
       "      <th>SMM</th>\n",
       "      <th>cash_flow</th>\n",
       "      <th>mortgage_payments</th>\n",
       "      <th>net_interest</th>\n",
       "      <th>prepayments</th>\n",
       "      <th>scheduled_principal</th>\n",
       "      <th>servicing</th>\n",
       "      <th>total_principal</th>\n",
       "    </tr>\n",
       "    <tr>\n",
       "      <th>month</th>\n",
       "      <th></th>\n",
       "      <th></th>\n",
       "      <th></th>\n",
       "      <th></th>\n",
       "      <th></th>\n",
       "      <th></th>\n",
       "      <th></th>\n",
       "      <th></th>\n",
       "      <th></th>\n",
       "    </tr>\n",
       "  </thead>\n",
       "  <tbody>\n",
       "    <tr>\n",
       "      <th>1</th>\n",
       "      <td>1,000.00</td>\n",
       "      <td>0.01</td>\n",
       "      <td>21.10</td>\n",
       "      <td>8.07</td>\n",
       "      <td>7.08</td>\n",
       "      <td>13.44</td>\n",
       "      <td>0.57</td>\n",
       "      <td>0.42</td>\n",
       "      <td>14.01</td>\n",
       "    </tr>\n",
       "    <tr>\n",
       "      <th>2</th>\n",
       "      <td>985.99</td>\n",
       "      <td>0.02</td>\n",
       "      <td>25.70</td>\n",
       "      <td>7.96</td>\n",
       "      <td>6.98</td>\n",
       "      <td>18.15</td>\n",
       "      <td>0.57</td>\n",
       "      <td>0.41</td>\n",
       "      <td>18.72</td>\n",
       "    </tr>\n",
       "    <tr>\n",
       "      <th>3</th>\n",
       "      <td>967.27</td>\n",
       "      <td>0.02</td>\n",
       "      <td>30.31</td>\n",
       "      <td>7.81</td>\n",
       "      <td>6.85</td>\n",
       "      <td>22.90</td>\n",
       "      <td>0.56</td>\n",
       "      <td>0.40</td>\n",
       "      <td>23.46</td>\n",
       "    </tr>\n",
       "    <tr>\n",
       "      <th>4</th>\n",
       "      <td>943.81</td>\n",
       "      <td>0.03</td>\n",
       "      <td>34.86</td>\n",
       "      <td>7.63</td>\n",
       "      <td>6.69</td>\n",
       "      <td>27.62</td>\n",
       "      <td>0.55</td>\n",
       "      <td>0.39</td>\n",
       "      <td>28.17</td>\n",
       "    </tr>\n",
       "    <tr>\n",
       "      <th>5</th>\n",
       "      <td>915.63</td>\n",
       "      <td>0.04</td>\n",
       "      <td>39.29</td>\n",
       "      <td>7.40</td>\n",
       "      <td>6.49</td>\n",
       "      <td>32.27</td>\n",
       "      <td>0.54</td>\n",
       "      <td>0.38</td>\n",
       "      <td>32.81</td>\n",
       "    </tr>\n",
       "    <tr>\n",
       "      <th>6</th>\n",
       "      <td>882.83</td>\n",
       "      <td>0.04</td>\n",
       "      <td>43.55</td>\n",
       "      <td>7.14</td>\n",
       "      <td>6.25</td>\n",
       "      <td>36.77</td>\n",
       "      <td>0.52</td>\n",
       "      <td>0.37</td>\n",
       "      <td>37.29</td>\n",
       "    </tr>\n",
       "  </tbody>\n",
       "</table>\n",
       "</div>"
      ],
      "text/plain": [
       "       beginning_balance  SMM  cash_flow  mortgage_payments  net_interest  \\\n",
       "month                                                                       \n",
       "1               1,000.00 0.01      21.10               8.07          7.08   \n",
       "2                 985.99 0.02      25.70               7.96          6.98   \n",
       "3                 967.27 0.02      30.31               7.81          6.85   \n",
       "4                 943.81 0.03      34.86               7.63          6.69   \n",
       "5                 915.63 0.04      39.29               7.40          6.49   \n",
       "6                 882.83 0.04      43.55               7.14          6.25   \n",
       "\n",
       "       prepayments  scheduled_principal  servicing  total_principal  \n",
       "month                                                                \n",
       "1            13.44                 0.57       0.42            14.01  \n",
       "2            18.15                 0.57       0.41            18.72  \n",
       "3            22.90                 0.56       0.40            23.46  \n",
       "4            27.62                 0.55       0.39            28.17  \n",
       "5            32.27                 0.54       0.38            32.81  \n",
       "6            36.77                 0.52       0.37            37.29  "
      ]
     },
     "execution_count": 42,
     "metadata": {},
     "output_type": "execute_result"
    }
   ],
   "source": [
    "collateral[:6]"
   ]
  },
  {
   "cell_type": "code",
   "execution_count": 67,
   "metadata": {
    "collapsed": false
   },
   "outputs": [],
   "source": [
    "CPR = '40'\n",
    "df = cw.create_waterfall(original_balance=100,\n",
    "                                pass_thru_cpn=net,\n",
    "                                wac=gross,\n",
    "                                wam=wam,\n",
    "                                psa_speed=1,\n",
    "                                 servicing=.005,\n",
    "                                cpr_description=CPR)\n",
    "df.to_clipboard()"
   ]
  },
  {
   "cell_type": "code",
   "execution_count": 66,
   "metadata": {
    "collapsed": false
   },
   "outputs": [],
   "source": [
    "df = pd.DataFrame()\n",
    "\n",
    "CPR = ['5','15','20']\n",
    "for speed in CPR:\n",
    "    cw.create_waterfall(original_balance=bal,\n",
    "                                pass_thru_cpn=net,\n",
    "                                wac=gross,\n",
    "                                wam=wam,\n",
    "                                psa_speed=1,\n",
    "                                cpr_description=speed)[[\n",
    "        'beginning_balance','net_interest','total_principal']][:6]"
   ]
  },
  {
   "cell_type": "code",
   "execution_count": 57,
   "metadata": {
    "collapsed": false
   },
   "outputs": [
    {
     "name": "stdout",
     "output_type": "stream",
     "text": [
      "         5   15   20\n",
      "month               \n",
      "1     7.08 7.08 7.08\n",
      "2     7.05 6.98 6.95\n",
      "3     7.02 6.89 6.82\n",
      "4     6.98 6.79 6.69\n",
      "5     6.95 6.69 6.56\n",
      "6     6.91 6.60 6.44\n"
     ]
    },
    {
     "data": {
      "text/plain": [
       "5    41.99\n",
       "15   41.04\n",
       "20   40.53\n",
       "dtype: float64"
      ]
     },
     "execution_count": 57,
     "metadata": {},
     "output_type": "execute_result"
    }
   ],
   "source": [
    "print(df)\n",
    "df.apply(sum)"
   ]
  },
  {
   "cell_type": "code",
   "execution_count": null,
   "metadata": {
    "collapsed": true
   },
   "outputs": [],
   "source": []
  }
 ],
 "metadata": {
  "kernelspec": {
   "display_name": "Python 3",
   "language": "python",
   "name": "python3"
  },
  "language_info": {
   "codemirror_mode": {
    "name": "ipython",
    "version": 3
   },
   "file_extension": ".py",
   "mimetype": "text/x-python",
   "name": "python",
   "nbconvert_exporter": "python",
   "pygments_lexer": "ipython3",
   "version": "3.6.0"
  }
 },
 "nbformat": 4,
 "nbformat_minor": 2
}
