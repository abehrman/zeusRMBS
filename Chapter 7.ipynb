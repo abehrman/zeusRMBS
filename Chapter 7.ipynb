{
 "cells": [
  {
   "cell_type": "code",
   "execution_count": 103,
   "metadata": {
    "collapsed": false
   },
   "outputs": [
    {
     "name": "stdout",
     "output_type": "stream",
     "text": [
      "The autoreload extension is already loaded. To reload it, use:\n",
      "  %reload_ext autoreload\n"
     ]
    },
    {
     "data": {
      "text/html": [
       "\n",
       "    <div class=\"bk-root\">\n",
       "        <a href=\"http://bokeh.pydata.org\" target=\"_blank\" class=\"bk-logo bk-logo-small bk-logo-notebook\"></a>\n",
       "        <span id=\"5485f95d-736e-4707-b066-59b41913535b\">Loading BokehJS ...</span>\n",
       "    </div>"
      ]
     },
     "metadata": {},
     "output_type": "display_data"
    },
    {
     "data": {
      "application/javascript": [
       "\n",
       "(function(global) {\n",
       "  function now() {\n",
       "    return new Date();\n",
       "  }\n",
       "\n",
       "  var force = true;\n",
       "\n",
       "  if (typeof (window._bokeh_onload_callbacks) === \"undefined\" || force === true) {\n",
       "    window._bokeh_onload_callbacks = [];\n",
       "    window._bokeh_is_loading = undefined;\n",
       "  }\n",
       "\n",
       "\n",
       "  \n",
       "  if (typeof (window._bokeh_timeout) === \"undefined\" || force === true) {\n",
       "    window._bokeh_timeout = Date.now() + 5000;\n",
       "    window._bokeh_failed_load = false;\n",
       "  }\n",
       "\n",
       "  var NB_LOAD_WARNING = {'data': {'text/html':\n",
       "     \"<div style='background-color: #fdd'>\\n\"+\n",
       "     \"<p>\\n\"+\n",
       "     \"BokehJS does not appear to have successfully loaded. If loading BokehJS from CDN, this \\n\"+\n",
       "     \"may be due to a slow or bad network connection. Possible fixes:\\n\"+\n",
       "     \"</p>\\n\"+\n",
       "     \"<ul>\\n\"+\n",
       "     \"<li>re-rerun `output_notebook()` to attempt to load from CDN again, or</li>\\n\"+\n",
       "     \"<li>use INLINE resources instead, as so:</li>\\n\"+\n",
       "     \"</ul>\\n\"+\n",
       "     \"<code>\\n\"+\n",
       "     \"from bokeh.resources import INLINE\\n\"+\n",
       "     \"output_notebook(resources=INLINE)\\n\"+\n",
       "     \"</code>\\n\"+\n",
       "     \"</div>\"}};\n",
       "\n",
       "  function display_loaded() {\n",
       "    if (window.Bokeh !== undefined) {\n",
       "      document.getElementById(\"5485f95d-736e-4707-b066-59b41913535b\").textContent = \"BokehJS successfully loaded.\";\n",
       "    } else if (Date.now() < window._bokeh_timeout) {\n",
       "      setTimeout(display_loaded, 100)\n",
       "    }\n",
       "  }\n",
       "\n",
       "  function run_callbacks() {\n",
       "    window._bokeh_onload_callbacks.forEach(function(callback) { callback() });\n",
       "    delete window._bokeh_onload_callbacks\n",
       "    console.info(\"Bokeh: all callbacks have finished\");\n",
       "  }\n",
       "\n",
       "  function load_libs(js_urls, callback) {\n",
       "    window._bokeh_onload_callbacks.push(callback);\n",
       "    if (window._bokeh_is_loading > 0) {\n",
       "      console.log(\"Bokeh: BokehJS is being loaded, scheduling callback at\", now());\n",
       "      return null;\n",
       "    }\n",
       "    if (js_urls == null || js_urls.length === 0) {\n",
       "      run_callbacks();\n",
       "      return null;\n",
       "    }\n",
       "    console.log(\"Bokeh: BokehJS not loaded, scheduling load and callback at\", now());\n",
       "    window._bokeh_is_loading = js_urls.length;\n",
       "    for (var i = 0; i < js_urls.length; i++) {\n",
       "      var url = js_urls[i];\n",
       "      var s = document.createElement('script');\n",
       "      s.src = url;\n",
       "      s.async = false;\n",
       "      s.onreadystatechange = s.onload = function() {\n",
       "        window._bokeh_is_loading--;\n",
       "        if (window._bokeh_is_loading === 0) {\n",
       "          console.log(\"Bokeh: all BokehJS libraries loaded\");\n",
       "          run_callbacks()\n",
       "        }\n",
       "      };\n",
       "      s.onerror = function() {\n",
       "        console.warn(\"failed to load library \" + url);\n",
       "      };\n",
       "      console.log(\"Bokeh: injecting script tag for BokehJS library: \", url);\n",
       "      document.getElementsByTagName(\"head\")[0].appendChild(s);\n",
       "    }\n",
       "  };var element = document.getElementById(\"5485f95d-736e-4707-b066-59b41913535b\");\n",
       "  if (element == null) {\n",
       "    console.log(\"Bokeh: ERROR: autoload.js configured with elementid '5485f95d-736e-4707-b066-59b41913535b' but no matching script tag was found. \")\n",
       "    return false;\n",
       "  }\n",
       "\n",
       "  var js_urls = [\"https://cdn.pydata.org/bokeh/release/bokeh-0.12.4.min.js\", \"https://cdn.pydata.org/bokeh/release/bokeh-widgets-0.12.4.min.js\"];\n",
       "\n",
       "  var inline_js = [\n",
       "    function(Bokeh) {\n",
       "      Bokeh.set_log_level(\"info\");\n",
       "    },\n",
       "    \n",
       "    function(Bokeh) {\n",
       "      \n",
       "      document.getElementById(\"5485f95d-736e-4707-b066-59b41913535b\").textContent = \"BokehJS is loading...\";\n",
       "    },\n",
       "    function(Bokeh) {\n",
       "      console.log(\"Bokeh: injecting CSS: https://cdn.pydata.org/bokeh/release/bokeh-0.12.4.min.css\");\n",
       "      Bokeh.embed.inject_css(\"https://cdn.pydata.org/bokeh/release/bokeh-0.12.4.min.css\");\n",
       "      console.log(\"Bokeh: injecting CSS: https://cdn.pydata.org/bokeh/release/bokeh-widgets-0.12.4.min.css\");\n",
       "      Bokeh.embed.inject_css(\"https://cdn.pydata.org/bokeh/release/bokeh-widgets-0.12.4.min.css\");\n",
       "    }\n",
       "  ];\n",
       "\n",
       "  function run_inline_js() {\n",
       "    \n",
       "    if ((window.Bokeh !== undefined) || (force === true)) {\n",
       "      for (var i = 0; i < inline_js.length; i++) {\n",
       "        inline_js[i](window.Bokeh);\n",
       "      }if (force === true) {\n",
       "        display_loaded();\n",
       "      }} else if (Date.now() < window._bokeh_timeout) {\n",
       "      setTimeout(run_inline_js, 100);\n",
       "    } else if (!window._bokeh_failed_load) {\n",
       "      console.log(\"Bokeh: BokehJS failed to load within specified timeout.\");\n",
       "      window._bokeh_failed_load = true;\n",
       "    } else if (force !== true) {\n",
       "      var cell = $(document.getElementById(\"5485f95d-736e-4707-b066-59b41913535b\")).parents('.cell').data().cell;\n",
       "      cell.output_area.append_execute_result(NB_LOAD_WARNING)\n",
       "    }\n",
       "\n",
       "  }\n",
       "\n",
       "  if (window._bokeh_is_loading === 0) {\n",
       "    console.log(\"Bokeh: BokehJS loaded, going straight to plotting\");\n",
       "    run_inline_js();\n",
       "  } else {\n",
       "    load_libs(js_urls, function() {\n",
       "      console.log(\"Bokeh: BokehJS plotting callback run at\", now());\n",
       "      run_inline_js();\n",
       "    });\n",
       "  }\n",
       "}(this));"
      ]
     },
     "metadata": {},
     "output_type": "display_data"
    }
   ],
   "source": [
    "%load_ext autoreload \n",
    "%autoreload 2\n",
    "\n",
    "%aimport -pandas\n",
    "%aimport -scipy.stats\n",
    "%aimport -numpy\n",
    "%aimport -matplotlib.pyplot\n",
    "\n",
    "import default_calcs as default\n",
    "import numpy as np\n",
    "import pandas as pd\n",
    "import matplotlib.pyplot as plt\n",
    "import scipy.stats as stats\n",
    "import pandas\n",
    "import collateral_waterfall as cw\n",
    "import prepayment_calcs as pc\n",
    "import xlwings as xw\n",
    "\n",
    "from bokeh.charts import Area, show, output_file, defaults, output_notebook\n",
    "from bokeh.layouts import row\n",
    "from bokeh.mpl import to_bokeh\n",
    "\n",
    "\n",
    "pd.options.display.float_format = '{:,.5f}'.format\n",
    "output_notebook()\n",
    "defaults.width = 400\n",
    "defaults.height = 400"
   ]
  },
  {
   "cell_type": "code",
   "execution_count": null,
   "metadata": {
    "collapsed": false
   },
   "outputs": [],
   "source": [
    "#example Bokeh area chart\n",
    "\n",
    "data = dict(\n",
    "    python=[2, 3, 7, 5, 26, 221, 44, 233, 254, 265, 266, 267, 120, 111],\n",
    "    pypy=[12, 33, 47, 15, 126, 121, 144, 233, 254, 225, 226, 267, 110, 130],\n",
    "    jython=[22, 43, 10, 25, 26, 101, 114, 203, 194, 215, 201, 227, 139, 160],\n",
    ")\n",
    "\n",
    "area1 = Area(data, title=\"Area Chart\", legend=\"top_left\",\n",
    "             xlabel='time', ylabel='memory')\n",
    "\n",
    "area2 = Area(data, title=\"Stacked Area Chart\", legend=\"top_left\",\n",
    "             stack=True, xlabel='time', ylabel='memory')\n",
    "\n",
    "\n",
    "show(row(area1, area2))\n"
   ]
  },
  {
   "cell_type": "code",
   "execution_count": 14,
   "metadata": {
    "collapsed": false
   },
   "outputs": [
    {
     "name": "stdout",
     "output_type": "stream",
     "text": [
      "6m:\t3.96%\n",
      "1y:\t8.07\n"
     ]
    }
   ],
   "source": [
    "# exercise 7-1\n",
    "sixM_TRR = ((5.9126/2 + 101) / 100) - 1\n",
    "ann_TRR = ((1+sixM_TRR)**2) - 1\n",
    "\n",
    "print('6m:\\t{0:.2f}%\\n1y:\\t{1:.2f}'.format(sixM_TRR*100, ann_TRR*100))"
   ]
  },
  {
   "cell_type": "code",
   "execution_count": 99,
   "metadata": {
    "collapsed": false
   },
   "outputs": [],
   "source": [
    "waterfall = cw.create_waterfall(original_balance=100,wac=.09,pass_thru_cpn=0.085, wam=355,cpr_description=15)"
   ]
  },
  {
   "cell_type": "code",
   "execution_count": 100,
   "metadata": {
    "collapsed": false
   },
   "outputs": [],
   "source": [
    "periods = 6\n",
    "reinvestment_rate = .06\n",
    "\n",
    "table_7_2 = waterfall.loc[:6,['beginning_balance',\n",
    "                  'ending_balance', \n",
    "                  'net_interest',\n",
    "                  'total_principal']]\n",
    "table_7_2['re_investment'] = (1+\n",
    "                              reinvestment_rate/12) ** (periods - \n",
    "                                                          table_7_2.index.values)\n",
    "table_7_2['interest_w_reinvest'] = table_7_2['re_investment'] * table_7_2['net_interest']\n",
    "table_7_2['principal_w_reinvest'] = table_7_2['re_investment'] * table_7_2['total_principal']\n"
   ]
  },
  {
   "cell_type": "code",
   "execution_count": 104,
   "metadata": {
    "collapsed": false
   },
   "outputs": [
    {
     "data": {
      "text/html": [
       "<div>\n",
       "<table border=\"1\" class=\"dataframe\">\n",
       "  <thead>\n",
       "    <tr style=\"text-align: right;\">\n",
       "      <th></th>\n",
       "      <th>beginning_balance</th>\n",
       "      <th>ending_balance</th>\n",
       "      <th>net_interest</th>\n",
       "      <th>total_principal</th>\n",
       "      <th>re_investment</th>\n",
       "      <th>interest_w_reinvest</th>\n",
       "      <th>principal_w_reinvest</th>\n",
       "    </tr>\n",
       "    <tr>\n",
       "      <th>month</th>\n",
       "      <th></th>\n",
       "      <th></th>\n",
       "      <th></th>\n",
       "      <th></th>\n",
       "      <th></th>\n",
       "      <th></th>\n",
       "      <th></th>\n",
       "    </tr>\n",
       "  </thead>\n",
       "  <tbody>\n",
       "    <tr>\n",
       "      <th>1</th>\n",
       "      <td>100.00000</td>\n",
       "      <td>98.59871</td>\n",
       "      <td>0.70833</td>\n",
       "      <td>1.40129</td>\n",
       "      <td>1.02525</td>\n",
       "      <td>0.72622</td>\n",
       "      <td>1.43667</td>\n",
       "    </tr>\n",
       "    <tr>\n",
       "      <th>2</th>\n",
       "      <td>98.59871</td>\n",
       "      <td>97.21661</td>\n",
       "      <td>0.69841</td>\n",
       "      <td>1.38210</td>\n",
       "      <td>1.02015</td>\n",
       "      <td>0.71248</td>\n",
       "      <td>1.40995</td>\n",
       "    </tr>\n",
       "    <tr>\n",
       "      <th>3</th>\n",
       "      <td>97.21661</td>\n",
       "      <td>95.85344</td>\n",
       "      <td>0.68862</td>\n",
       "      <td>1.36317</td>\n",
       "      <td>1.01508</td>\n",
       "      <td>0.69900</td>\n",
       "      <td>1.38372</td>\n",
       "    </tr>\n",
       "    <tr>\n",
       "      <th>4</th>\n",
       "      <td>95.85344</td>\n",
       "      <td>94.50894</td>\n",
       "      <td>0.67896</td>\n",
       "      <td>1.34450</td>\n",
       "      <td>1.01002</td>\n",
       "      <td>0.68577</td>\n",
       "      <td>1.35798</td>\n",
       "    </tr>\n",
       "    <tr>\n",
       "      <th>5</th>\n",
       "      <td>94.50894</td>\n",
       "      <td>93.18286</td>\n",
       "      <td>0.66944</td>\n",
       "      <td>1.32608</td>\n",
       "      <td>1.00500</td>\n",
       "      <td>0.67279</td>\n",
       "      <td>1.33271</td>\n",
       "    </tr>\n",
       "    <tr>\n",
       "      <th>6</th>\n",
       "      <td>93.18286</td>\n",
       "      <td>91.87496</td>\n",
       "      <td>0.66005</td>\n",
       "      <td>1.30791</td>\n",
       "      <td>1.00000</td>\n",
       "      <td>0.66005</td>\n",
       "      <td>1.30791</td>\n",
       "    </tr>\n",
       "  </tbody>\n",
       "</table>\n",
       "</div>"
      ],
      "text/plain": [
       "       beginning_balance  ending_balance  net_interest  total_principal  \\\n",
       "month                                                                     \n",
       "1              100.00000        98.59871       0.70833          1.40129   \n",
       "2               98.59871        97.21661       0.69841          1.38210   \n",
       "3               97.21661        95.85344       0.68862          1.36317   \n",
       "4               95.85344        94.50894       0.67896          1.34450   \n",
       "5               94.50894        93.18286       0.66944          1.32608   \n",
       "6               93.18286        91.87496       0.66005          1.30791   \n",
       "\n",
       "       re_investment  interest_w_reinvest  principal_w_reinvest  \n",
       "month                                                            \n",
       "1            1.02525              0.72622               1.43667  \n",
       "2            1.02015              0.71248               1.40995  \n",
       "3            1.01508              0.69900               1.38372  \n",
       "4            1.01002              0.68577               1.35798  \n",
       "5            1.00500              0.67279               1.33271  \n",
       "6            1.00000              0.66005               1.30791  "
      ]
     },
     "execution_count": 104,
     "metadata": {},
     "output_type": "execute_result"
    }
   ],
   "source": [
    "table_7_2"
   ]
  },
  {
   "cell_type": "code",
   "execution_count": 106,
   "metadata": {
    "collapsed": false
   },
   "outputs": [],
   "source": [
    "import scenario_analysis as sa"
   ]
  },
  {
   "cell_type": "code",
   "execution_count": 108,
   "metadata": {
    "collapsed": false
   },
   "outputs": [
    {
     "data": {
      "text/plain": [
       "month\n",
       "1   1.02525\n",
       "2   1.02015\n",
       "3   1.01508\n",
       "4   1.01002\n",
       "5   1.00500\n",
       "6   1.00000\n",
       "Name: re_investment, dtype: float64"
      ]
     },
     "execution_count": 108,
     "metadata": {},
     "output_type": "execute_result"
    }
   ],
   "source": [
    "table_7_2['re_investment']"
   ]
  },
  {
   "cell_type": "code",
   "execution_count": 107,
   "metadata": {
    "collapsed": false
   },
   "outputs": [
    {
     "data": {
      "text/plain": [
       "(array([ 1.03037751,  1.02525125,  1.0201505 ,  1.01507512,  1.010025  ,\n",
       "         1.005     ]), month\n",
       " 1   0.72985\n",
       " 2   0.71604\n",
       " 3   0.70249\n",
       " 4   0.68920\n",
       " 5   0.67615\n",
       " 6   0.66335\n",
       " Name: net_interest, dtype: float64, month\n",
       " 1   1.44386\n",
       " 2   1.41700\n",
       " 3   1.39064\n",
       " 4   1.36477\n",
       " 5   1.33937\n",
       " 6   1.31445\n",
       " Name: total_principal, dtype: float64)"
      ]
     },
     "execution_count": 107,
     "metadata": {},
     "output_type": "execute_result"
    }
   ],
   "source": [
    "sa.calc_reinvestments(waterfall['net_interest'],\n",
    "                     waterfall['total_principal'],\n",
    "                     .06/12,\n",
    "                     periods=np.arange(0,6))"
   ]
  },
  {
   "cell_type": "code",
   "execution_count": 96,
   "metadata": {
    "collapsed": false
   },
   "outputs": [
    {
     "data": {
      "text/plain": [
       "array([0, 1, 2, 3, 4, 5])"
      ]
     },
     "execution_count": 96,
     "metadata": {},
     "output_type": "execute_result"
    }
   ],
   "source": [
    "np.arange(0,6)"
   ]
  },
  {
   "cell_type": "code",
   "execution_count": null,
   "metadata": {
    "collapsed": true
   },
   "outputs": [],
   "source": []
  }
 ],
 "metadata": {
  "kernelspec": {
   "display_name": "Python 3",
   "language": "python",
   "name": "python3"
  },
  "language_info": {
   "codemirror_mode": {
    "name": "ipython",
    "version": 3
   },
   "file_extension": ".py",
   "mimetype": "text/x-python",
   "name": "python",
   "nbconvert_exporter": "python",
   "pygments_lexer": "ipython3",
   "version": "3.6.0"
  }
 },
 "nbformat": 4,
 "nbformat_minor": 2
}
