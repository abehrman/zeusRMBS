{
 "cells": [
  {
   "cell_type": "code",
   "execution_count": 1,
   "metadata": {
    "collapsed": true
   },
   "outputs": [],
   "source": [
    "%load_ext autoreload \n",
    "%autoreload 2\n",
    "\n",
    "%aimport -pandas\n",
    "%aimport -scipy.stats\n",
    "%aimport -numpy\n",
    "%aimport -matplotlib.pyplot\n",
    "\n",
    "\n",
    "import default_calcs as default\n",
    "import numpy as np\n",
    "import matplotlib.pyplot as plt\n",
    "import scipy.stats as stats\n",
    "import pandas"
   ]
  },
  {
   "cell_type": "code",
   "execution_count": null,
   "metadata": {
    "collapsed": true
   },
   "outputs": [],
   "source": [
    "default.default_rate_normal_dist(-2,.3,.01)"
   ]
  },
  {
   "cell_type": "code",
   "execution_count": null,
   "metadata": {
    "collapsed": true
   },
   "outputs": [],
   "source": [
    "a  = stats.norm.ppf(.01)"
   ]
  },
  {
   "cell_type": "code",
   "execution_count": null,
   "metadata": {
    "collapsed": true
   },
   "outputs": [],
   "source": [
    "# x = effects of economic driver\n",
    "x = np.linspace(-3,3,100)"
   ]
  },
  {
   "cell_type": "code",
   "execution_count": null,
   "metadata": {
    "collapsed": true
   },
   "outputs": [],
   "source": [
    "x_dist = stats.norm.pdf(x)"
   ]
  },
  {
   "cell_type": "code",
   "execution_count": null,
   "metadata": {
    "collapsed": true
   },
   "outputs": [],
   "source": [
    "plt.plot(x,a_dist)\n",
    "plt.show()"
   ]
  },
  {
   "cell_type": "code",
   "execution_count": null,
   "metadata": {
    "collapsed": true
   },
   "outputs": [],
   "source": [
    "defaults= default.default_rate_normal_dist(x,.5,.01)"
   ]
  },
  {
   "cell_type": "code",
   "execution_count": null,
   "metadata": {
    "collapsed": true
   },
   "outputs": [],
   "source": [
    "plt.plot(x,defaults)\n",
    "plt.show()"
   ]
  },
  {
   "cell_type": "code",
   "execution_count": null,
   "metadata": {
    "collapsed": true
   },
   "outputs": [],
   "source": [
    "# cum default probability\n",
    "cum_def = default.inv_default_rate_normal_dist(.01,.3,defaults)"
   ]
  },
  {
   "cell_type": "code",
   "execution_count": null,
   "metadata": {
    "collapsed": true
   },
   "outputs": [],
   "source": [
    "df = pandas.DataFrame(data=[defaults,(cum_def)]).T\n",
    "df.columns=['defaults','cum_def']"
   ]
  },
  {
   "cell_type": "code",
   "execution_count": null,
   "metadata": {
    "collapsed": true
   },
   "outputs": [],
   "source": [
    "df.tail()"
   ]
  },
  {
   "cell_type": "code",
   "execution_count": null,
   "metadata": {
    "collapsed": true
   },
   "outputs": [],
   "source": [
    "plt.plot(defaults,x_dist.cumsum())\n",
    "plt.show()"
   ]
  },
  {
   "cell_type": "code",
   "execution_count": null,
   "metadata": {
    "collapsed": true
   },
   "outputs": [],
   "source": [
    ""
   ]
  },
  {
   "cell_type": "code",
   "execution_count": null,
   "metadata": {
    "collapsed": true
   },
   "outputs": [],
   "source": [
    "len(cum_def)"
   ]
  },
  {
   "cell_type": "code",
   "execution_count": null,
   "metadata": {
    "collapsed": true
   },
   "outputs": [],
   "source": [
    "import prepayment_calcs as pc\n",
    "import numpy as np\n",
    "import pandas as pd\n",
    "import matplotlib.pyplot as plt"
   ]
  },
  {
   "cell_type": "code",
   "execution_count": null,
   "metadata": {
    "collapsed": true
   },
   "outputs": [],
   "source": [
    "fast_smm = np.random.randint(50,100,size=60)/1000"
   ]
  },
  {
   "cell_type": "code",
   "execution_count": null,
   "metadata": {
    "collapsed": true
   },
   "outputs": [],
   "source": [
    "a = pc.prepayment_curve_from_passive_active_composition(.09, .8, .01, .2, 60)"
   ]
  },
  {
   "cell_type": "code",
   "execution_count": null,
   "metadata": {
    "collapsed": true
   },
   "outputs": [],
   "source": [
    "a.plot(a.index,['fast_amount','pool_cpr'])\n",
    "plt.grid()\n",
    "plt.show()"
   ]
  },
  {
   "cell_type": "code",
   "execution_count": null,
   "metadata": {
    "collapsed": true
   },
   "outputs": [],
   "source": [
    "a['total'] = a.fast_amount + a.slow_amount"
   ]
  },
  {
   "cell_type": "code",
   "execution_count": null,
   "metadata": {
    "collapsed": true
   },
   "outputs": [],
   "source": [
    "a.head()"
   ]
  },
  {
   "cell_type": "code",
   "execution_count": null,
   "metadata": {
    "collapsed": true
   },
   "outputs": [],
   "source": [
    "from bs4 import BeautifulSoup\n",
    "import requests"
   ]
  },
  {
   "cell_type": "code",
   "execution_count": null,
   "metadata": {
    "collapsed": true
   },
   "outputs": [],
   "source": [
    "USD_LIBOR = BeautifulSoup(requests.get(\"http://www.global-rates.com/interest-rates/libor/american-dollar/american-dollar.aspx\").text,\n",
    "                         \"html.parser\")"
   ]
  },
  {
   "cell_type": "code",
   "execution_count": null,
   "metadata": {
    "collapsed": true
   },
   "outputs": [],
   "source": [
    "USD_LIBOR.title"
   ]
  },
  {
   "cell_type": "code",
   "execution_count": null,
   "metadata": {
    "collapsed": true
   },
   "outputs": [],
   "source": [
    "balances = np.array([[50000],[100000],[150000],[200000],[250000]])\n",
    "coupon = np.array([0.04,0.06,0.08,0.10,0.12,.14])"
   ]
  },
  {
   "cell_type": "code",
   "execution_count": null,
   "metadata": {
    "collapsed": true
   },
   "outputs": [],
   "source": [
    "df = pd.DataFrame(np.pmt(rate=coupon/12,nper=360,pv=balances)).T"
   ]
  },
  {
   "cell_type": "code",
   "execution_count": null,
   "metadata": {
    "collapsed": true
   },
   "outputs": [],
   "source": [
    "np.arange(1,10)"
   ]
  },
  {
   "cell_type": "code",
   "execution_count": null,
   "metadata": {
    "collapsed": true
   },
   "outputs": [],
   "source": [
    "nper=360\n",
    "pv=400000\n",
    "cpn=0.055/12\n",
    "df = pd.DataFrame(data=np.zeros([nper+1,1]),columns=['scheduled_balance'],\n",
    "                 index =[np.arange(0,nper+1)])\n",
    "df.loc[0,'scheduled_balance'] = pv"
   ]
  },
  {
   "cell_type": "code",
   "execution_count": null,
   "metadata": {
    "collapsed": true
   },
   "outputs": [],
   "source": [
    "def scheduled_balances(rate, nper, pv):\n",
    "    df = pd.DataFrame(data=np.zeros([nper + 1, 1]), columns=['scheduled_balance'],\n",
    "                      index=[np.arange(0, nper + 1)])\n",
    "    df.loc[0, 'scheduled_balance'] = pv\n",
    "\n",
    "    df['bal_percent'] = (1 - ((((1 + rate) ** np.array(df.index)) - 1) /\n",
    "                           (((1 + rate) ** df.index.max()) - 1)))\n",
    "\n",
    "    df.loc[:, 'scheduled_balance'] = df['bal_percent'] * df.loc[0,'scheduled_balance']\n",
    "\n",
    "    return df"
   ]
  },
  {
   "cell_type": "code",
   "execution_count": null,
   "metadata": {
    "collapsed": true
   },
   "outputs": [],
   "source": [
    "df1 = scheduled_balances(0.055/12,360,400000)"
   ]
  },
  {
   "cell_type": "code",
   "execution_count": null,
   "metadata": {
    "collapsed": true
   },
   "outputs": [],
   "source": [
    "def scheduled_balance_percent(rate, nper, age):\n",
    "    return (1 - ((((1 + rate) ** age) - 1) /\n",
    "          (((1 + rate) ** nper) - 1)))"
   ]
  },
  {
   "cell_type": "code",
   "execution_count": null,
   "metadata": {
    "collapsed": true
   },
   "outputs": [],
   "source": [
    "scheduled_balance_percent(0.06/12,360,60)"
   ]
  },
  {
   "cell_type": "code",
   "execution_count": null,
   "metadata": {
    "collapsed": true
   },
   "outputs": [],
   "source": [
    "coupon = list([0.06, 0.08, 0.10])\n",
    "age = list([60,120,180,240,300,359])"
   ]
  },
  {
   "cell_type": "code",
   "execution_count": null,
   "metadata": {
    "collapsed": true
   },
   "outputs": [],
   "source": [
    "results = []\n",
    "for i in coupon:\n",
    "    column = []\n",
    "    for j in age:\n",
    "        column.append(scheduled_balance_percent(i/12, 360, j))\n",
    "    results.append(column)"
   ]
  },
  {
   "cell_type": "code",
   "execution_count": null,
   "metadata": {
    "collapsed": true
   },
   "outputs": [],
   "source": [
    "df = pd.DataFrame(results).T\n",
    "df.columns=coupon\n",
    "df.index=age"
   ]
  },
  {
   "cell_type": "code",
   "execution_count": null,
   "metadata": {
    "collapsed": true
   },
   "outputs": [],
   "source": [
    "df"
   ]
  },
  {
   "cell_type": "code",
   "execution_count": null,
   "metadata": {
    "collapsed": true
   },
   "outputs": [],
   "source": [
    "df = pd.DataFrame(data=np.zeros([nper + 1, 1]), columns=['scheduled_balance'],\n",
    "                      index=[np.arange(0, nper + 1)])\n",
    "df.loc[0, 'scheduled_balance'] = pv"
   ]
  },
  {
   "cell_type": "code",
   "execution_count": null,
   "metadata": {
    "collapsed": true
   },
   "outputs": [],
   "source": [
    "rate = 0.055\n",
    "nper = 360\n",
    "\n",
    "df['bal_percent'] = df.reset_index()['index'].apply(lambda x: \n",
    "                                                    scheduled_balance_percent(\n",
    "                                                    rate/12, nper, x))"
   ]
  },
  {
   "cell_type": "code",
   "execution_count": null,
   "metadata": {
    "collapsed": true
   },
   "outputs": [],
   "source": [
    "def scheduled_balances(rate, nper, pv):\n",
    "    \"\"\" Returns data frame of scheduled balances and each periods scheduled balance as a %\n",
    "    of the original balance\"\"\"\n",
    "\n",
    "    df = pd.DataFrame(data=np.zeros([nper + 1, 1]), columns=['scheduled_balance'],\n",
    "                      index=[np.arange(0, nper + 1)])\n",
    "    df.loc[0, 'scheduled_balance'] = pv\n",
    "\n",
    "    df['bal_percent'] = df.reset_index()['index'].apply(lambda x:\n",
    "                                                        scheduled_balance_percent(\n",
    "                                                            rate / 12, nper, x))\n",
    "\n",
    "    df.loc[:, 'scheduled_balance'] = df['bal_percent'] * df.loc[0,'scheduled_balance']\n",
    "\n",
    "    return df"
   ]
  },
  {
   "cell_type": "code",
   "execution_count": null,
   "metadata": {
    "collapsed": true
   },
   "outputs": [],
   "source": [
    "def scheduled_balances(rate, nper, pv):\n",
    "    \"\"\" Returns data frame of scheduled balances and each periods scheduled balance as a %\n",
    "    of the original balance\"\"\"\n",
    "\n",
    "    df = pd.DataFrame(data=np.zeros([nper + 1, 1]), columns=['scheduled_balance'],\n",
    "                      index=[np.arange(0, nper + 1)])\n",
    "    df.loc[0, 'scheduled_balance'] = pv\n",
    "    \n",
    "    df['bal_percent'] = (1 - (((1 + rate/12) ** np.array(df.index) - 1) / \n",
    "                        ((1 + rate/12) ** nper - 1)))\n",
    "\n",
    "    df.loc[:, 'scheduled_balance'] = df['bal_percent'] * df.loc[0,'scheduled_balance']\n",
    "\n",
    "    return df"
   ]
  },
  {
   "cell_type": "code",
   "execution_count": null,
   "metadata": {
    "collapsed": true
   },
   "outputs": [],
   "source": [
    "%time df = scheduled_balances(0.055, 358, 400000000)"
   ]
  },
  {
   "cell_type": "code",
   "execution_count": null,
   "metadata": {
    "collapsed": true
   },
   "outputs": [],
   "source": [
    "df.head()"
   ]
  },
  {
   "cell_type": "code",
   "execution_count": null,
   "metadata": {
    "collapsed": true
   },
   "outputs": [],
   "source": [
    "df = pd.DataFrame(data=np.zeros([nper + 1, 1]), columns=['scheduled_balance'],\n",
    "                      index=[np.arange(0, nper + 1)])\n",
    "df.loc[0, 'scheduled_balance'] = pv\n",
    "df.loc[1:,'interest'] = np.ipmt(cpn/12,per=nper,pv=df.loc[1:].shift(-1))"
   ]
  },
  {
   "cell_type": "code",
   "execution_count": null,
   "metadata": {
    "collapsed": true
   },
   "outputs": [],
   "source": [
    "import collateral_waterfall as cw\n",
    "import prepayment_calcs as pc\n",
    "import numpy as np\n",
    "import pandas as pd"
   ]
  },
  {
   "cell_type": "code",
   "execution_count": null,
   "metadata": {
    "collapsed": true
   },
   "outputs": [],
   "source": [
    "a=pc.cpr_curve_creator()"
   ]
  },
  {
   "cell_type": "code",
   "execution_count": null,
   "metadata": {
    "collapsed": true
   },
   "outputs": [],
   "source": [
    "factor = []\n",
    "factor.append(1-pc.SMM(a[0]))\n",
    "\n",
    "for i in range(1,len(a)):\n",
    "    factor.append(factor[i-1] * (1-pc.SMM(a[i])))"
   ]
  },
  {
   "cell_type": "code",
   "execution_count": null,
   "metadata": {
    "collapsed": true
   },
   "outputs": [],
   "source": [
    "sched = cw.schedule_of_ending_balances(0.09, 360, 200000)['scheduled_balance']"
   ]
  },
  {
   "cell_type": "code",
   "execution_count": null,
   "metadata": {
    "collapsed": true
   },
   "outputs": [],
   "source": [
    "sched.head()"
   ]
  },
  {
   "cell_type": "code",
   "execution_count": null,
   "metadata": {
    "collapsed": true
   },
   "outputs": [],
   "source": [
    "waterfall = cw.create_waterfall(original_balance=4e8, pass_thru_cpn=0.055,\n",
    "                                psa_speed=0,wam=360, wac=0.055)"
   ]
  },
  {
   "cell_type": "code",
   "execution_count": null,
   "metadata": {
    "collapsed": true
   },
   "outputs": [],
   "source": [
    "waterfall.tail()"
   ]
  },
  {
   "cell_type": "code",
   "execution_count": null,
   "metadata": {
    "collapsed": true
   },
   "outputs": [],
   "source": [
    "cpr = pc.cpr_curve_creator()"
   ]
  },
  {
   "cell_type": "code",
   "execution_count": null,
   "metadata": {
    "collapsed": true
   },
   "outputs": [],
   "source": [
    "smm = [0.01]*360"
   ]
  },
  {
   "cell_type": "code",
   "execution_count": null,
   "metadata": {
    "collapsed": true
   },
   "outputs": [],
   "source": [
    "age = 361-len(sched)\n",
    "ab = sched['scheduled_balance'][:-1] * (1-0.01)"
   ]
  },
  {
   "cell_type": "code",
   "execution_count": null,
   "metadata": {
    "collapsed": true
   },
   "outputs": [],
   "source": [
    "ab.head()"
   ]
  },
  {
   "cell_type": "code",
   "execution_count": null,
   "metadata": {
    "collapsed": true
   },
   "outputs": [],
   "source": [
    "sched['scheduled_balance'][:-1].tail()"
   ]
  },
  {
   "cell_type": "code",
   "execution_count": null,
   "metadata": {
    "collapsed": true
   },
   "outputs": [],
   "source": [
    "import collateral_waterfall as cw\n",
    "import prepayment_calcs as pc\n",
    "import numpy as np\n",
    "import pandas as pd\n",
    "\n",
    "scheduled_ending = cw.schedule_of_ending_balances(0.09, \n",
    "                                       360, \n",
    "                                       150000)['scheduled_balance']\n",
    "\n",
    "smm = [.01]\n",
    "\n",
    "actual_ending = cw.actual_balances(scheduled_ending, smm)\n",
    "df = pd.DataFrame(\n",
    "    data=[scheduled_ending, actual_ending]).T.fillna(0)\n",
    "df.columns=['scheduled','actual']\n",
    "df = df.applymap('${:,.2f}'.format)\n",
    "print(df.head())\n",
    "\n",
    "cpr = pc.cpr_curve_creator()\n",
    "smm = [pc.SMM(.10)]\n",
    "\n",
    "actual_ending = cw.actual_balances(scheduled_ending, smm)\n",
    "df = pd.DataFrame(\n",
    "    data=[scheduled_ending, actual_ending]).T.fillna(0)\n",
    "df.columns=['scheduled','actual']\n",
    "df = df.applymap('${:,.2f}'.format)\n",
    "print(df.head())"
   ]
  },
  {
   "cell_type": "code",
   "execution_count": null,
   "metadata": {
    "collapsed": true
   },
   "outputs": [],
   "source": [
    "pc.SMM(0.4) * 1.5"
   ]
  },
  {
   "cell_type": "code",
   "execution_count": null,
   "metadata": {
    "collapsed": true
   },
   "outputs": [],
   "source": [
    "pd.options.display.float_format = '{:,.2f}'.format\n",
    "waterfall = cw.create_waterfall(original_balance=200000, \n",
    "                    psa_speed=3, \n",
    "                    pass_thru_cpn=0.075, \n",
    "                    wac=0.075,\n",
    "                    wam=360)"
   ]
  },
  {
   "cell_type": "code",
   "execution_count": null,
   "metadata": {
    "collapsed": true
   },
   "outputs": [],
   "source": [
    ""
   ]
  },
  {
   "cell_type": "code",
   "execution_count": null,
   "metadata": {
    "collapsed": true
   },
   "outputs": [],
   "source": [
    "waterfall = {}\n",
    "\n",
    "figure, axes = plt.subplots()\n",
    "for i in range(15):\n",
    "    for j in range(4):\n",
    "        waterfall[i,j] = cw.create_waterfall(original_balance=200000, \n",
    "                        psa_speed=i + (j * 0.25), \n",
    "                        pass_thru_cpn=0.075, \n",
    "                        wac=0.075,\n",
    "                        wam=360)\n",
    "        waterfall[i,j].beginning_balance.plot(ax=axes)\n",
    "plt.show()"
   ]
  },
  {
   "cell_type": "code",
   "execution_count": null,
   "metadata": {
    "collapsed": true
   },
   "outputs": [],
   "source": [
    "def arm_coupons(rate_curve, \n",
    "                gross_margin, \n",
    "                total_fees, \n",
    "                initial_coupon,\n",
    "                periodic_cap):\n",
    "    df = pd.DataFrame(index=pd.Index(range(len(rate_curve))),\n",
    "                     columns=['rates','Gross','Net'])\n",
    "    df.rates=rate_curve\n",
    "    df.loc[0,'Gross'] = initial_coupon\n",
    "    \n",
    "    for i in range(1,df.index.max()+1):\n",
    "        if df.rates[i] + 1.75 <= df.Gross[i-1] + 1:\n",
    "            df.loc[i, 'Gross'] = df.rates[i] + 1.75 \n",
    "        else:\n",
    "            df.loc[i, 'Gross'] = df.Gross[i-1] + 1 \n",
    "    \n",
    "    df.loc[:,'Net'] = df.Gross - total_fees\n",
    "    \n",
    "    return df"
   ]
  },
  {
   "cell_type": "code",
   "execution_count": null,
   "metadata": {
    "collapsed": true
   },
   "outputs": [],
   "source": [
    "rates = [None,8.2,5.,5.75,4.]\n",
    "df = arm_coupons(rates,1.75,0.65,5.1,1)"
   ]
  },
  {
   "cell_type": "code",
   "execution_count": null,
   "metadata": {
    "collapsed": true
   },
   "outputs": [],
   "source": [
    "df"
   ]
  },
  {
   "cell_type": "code",
   "execution_count": null,
   "metadata": {
    "collapsed": true
   },
   "outputs": [],
   "source": [
    "df.plot()\n",
    "plt.show()"
   ]
  },
  {
   "cell_type": "code",
   "execution_count": null,
   "metadata": {
    "collapsed": true
   },
   "outputs": [],
   "source": [
    "1e6 * ((1.085) ** (14/365) - 1)"
   ]
  },
  {
   "cell_type": "code",
   "execution_count": null,
   "metadata": {
    "collapsed": true
   },
   "outputs": [],
   "source": [
    "mey = np.irr([-99,5,105])\n",
    "mey = 0.0\n",
    "bey = 2 * ((1+mey/12)**6-1)"
   ]
  },
  {
   "cell_type": "code",
   "execution_count": null,
   "metadata": {
    "collapsed": true
   },
   "outputs": [],
   "source": [
    "print('%f,%f' % (mey,bey))"
   ]
  },
  {
   "cell_type": "code",
   "execution_count": null,
   "metadata": {
    "collapsed": true
   },
   "outputs": [],
   "source": [
    "time = np.array([1,2,3,4,5])\n",
    "principal = np.array([5,10,20,40,80])"
   ]
  },
  {
   "cell_type": "code",
   "execution_count": null,
   "metadata": {
    "collapsed": true
   },
   "outputs": [],
   "source": [
    "WAL = ((time * principal) / principal.sum()).sum()"
   ]
  },
  {
   "cell_type": "code",
   "execution_count": null,
   "metadata": {
    "collapsed": true
   },
   "outputs": [],
   "source": [
    "WAL"
   ]
  },
  {
   "cell_type": "code",
   "execution_count": null,
   "metadata": {
    "collapsed": true
   },
   "outputs": [],
   "source": [
    "def macauley_duration(price, times, cash_flows, yld):\n",
    "    return (1 / price) * ((times * cash_flows) /\n",
    "                        (1 + yld/2)**(2*times)).sum()\n",
    "\n",
    "\n",
    "def modified_duration(duration, yld):\n",
    "    return duration / (1 + yld/2)\n",
    "\n",
    "\n",
    "def effective_duration(price, delta_down_price, delta_up_price, yld_delta):\n",
    "    return (-100/price) * ((delta_down_price - delta_up_price) / (2 * yld_delta))"
   ]
  },
  {
   "cell_type": "code",
   "execution_count": null,
   "metadata": {
    "collapsed": true
   },
   "outputs": [],
   "source": [
    "duration = macauley_duration(price,times,cash_flows,yld)\n",
    "modified_duration = modified_duration(duration,yld)"
   ]
  },
  {
   "cell_type": "code",
   "execution_count": null,
   "metadata": {
    "collapsed": true
   },
   "outputs": [],
   "source": [
    "modified_duration"
   ]
  },
  {
   "cell_type": "code",
   "execution_count": null,
   "metadata": {
    "collapsed": true
   },
   "outputs": [],
   "source": [
    "effective_duration(100,99.75,100.25,.01)"
   ]
  },
  {
   "cell_type": "code",
   "execution_count": null,
   "metadata": {
    "collapsed": true
   },
   "outputs": [],
   "source": [
    "speeds = [.5,1,2,5]\n",
    "curves = [pc.cpr_curve_creator()*np.array(speed) for speed in speeds]"
   ]
  },
  {
   "cell_type": "code",
   "execution_count": null,
   "metadata": {
    "collapsed": true
   },
   "outputs": [],
   "source": [
    "fig, ax = plt.subplots()\n",
    "for curve in curves:\n",
    "    print(ax.plot(curve))"
   ]
  },
  {
   "cell_type": "code",
   "execution_count": null,
   "metadata": {
    "collapsed": true
   },
   "outputs": [],
   "source": [
    "plt.show()"
   ]
  },
  {
   "cell_type": "code",
   "execution_count": null,
   "metadata": {
    "collapsed": true
   },
   "outputs": [],
   "source": [
    "def schedule_of_ending_balance_percent_for_period(rate, nper, age):\n",
    "    return (1. - ((((1 + rate) ** age) - 1.) /\n",
    "                  (((1 + rate) ** nper) - 1.)))"
   ]
  },
  {
   "cell_type": "code",
   "execution_count": null,
   "metadata": {
    "collapsed": true
   },
   "outputs": [],
   "source": [
    "def example_matrix_of_balance_outstanding_by_age_and_term():\n",
    "    coupon = 0.08\n",
    "    terms = [180,360]\n",
    "    ages = [24,48,72,96,120,144,168]\n",
    "    \n",
    "    df = pd.DataFrame(index=ages, columns=[terms]).unstack()\n",
    "    \n",
    "    return results"
   ]
  },
  {
   "cell_type": "code",
   "execution_count": null,
   "metadata": {
    "collapsed": true
   },
   "outputs": [],
   "source": [
    "results = {}\n",
    "\n",
    "coupon = 0.08/12.\n",
    "terms = [180,360]\n",
    "ages = [24,48,72,96,120,144,168]\n",
    "    \n",
    "for term in terms:\n",
    "    for age in ages:\n",
    "        results[term,age] = scheduled_balance_percent(\n",
    "        coupon, term, age)"
   ]
  },
  {
   "cell_type": "code",
   "execution_count": null,
   "metadata": {
    "collapsed": true
   },
   "outputs": [],
   "source": [
    "results"
   ]
  },
  {
   "cell_type": "code",
   "execution_count": null,
   "metadata": {
    "collapsed": true
   },
   "outputs": [],
   "source": [
    "original_balance=150000\n",
    "pass_thru_coupon=0.08\n",
    "wac=0.08\n",
    "wam=360\n",
    "\n",
    "first_wf = cw.create_waterfall(original_balance=original_balance, \n",
    "                               pass_thru_cpn=pass_thru_coupon,\n",
    "                              wac=wac,\n",
    "                              wam=wam,\n",
    "                              cpr_description='7')\n",
    "first_wf['CPR']=first_wf['SMM'].apply(pc.cpr)\n",
    "first_wf.head()"
   ]
  },
  {
   "cell_type": "code",
   "execution_count": null,
   "metadata": {
    "collapsed": true
   },
   "outputs": [],
   "source": [
    "original_balance=150000\n",
    "pass_thru_coupon=0.08\n",
    "wac=0.08\n",
    "wam=360\n",
    "\n",
    "second_wf = cw.create_waterfall(original_balance=original_balance, \n",
    "                               pass_thru_cpn=pass_thru_coupon,\n",
    "                              wac=wac,\n",
    "                              wam=wam,\n",
    "                              psa_speed=3)\n",
    "second_wf['CPR']=second_wf['SMM'].apply(pc.cpr)\n",
    "second_wf.head()"
   ]
  },
  {
   "cell_type": "code",
   "execution_count": null,
   "metadata": {
    "collapsed": true
   },
   "outputs": [],
   "source": [
    "def example_matrix_of_balance_outstanding_by_age_and_coupon():\n",
    "    coupon = list([0.06, 0.08, 0.10])\n",
    "    age = list([60, 120, 180, 240, 300, 359])\n",
    "\n",
    "    results = []\n",
    "    for i in coupon:\n",
    "        column = []\n",
    "        for j in age:\n",
    "            column.append(schedule_of_ending_balance_percent_for_period(i / 12, 360, j))\n",
    "        results.append(column)\n",
    "\n",
    "    df = pd.DataFrame(results).T\n",
    "    df.columns = coupon\n",
    "    df.index = age\n",
    "    return df"
   ]
  },
  {
   "cell_type": "code",
   "execution_count": 13,
   "metadata": {
    "collapsed": true
   },
   "outputs": [],
   "source": [
    "import numpy as np\n",
    "import pandas as pd\n",
    "import bond_pricing as bp"
   ]
  },
  {
   "cell_type": "code",
   "execution_count": 14,
   "metadata": {
    "collapsed": true
   },
   "outputs": [],
   "source": [
    "bonds = pd.DataFrame([\n",
    "    {'Face': 100, 'Maturity': 0.25, 'Coupon': 0, 'Price': 97.50},\n",
    "    {'Face': 100, 'Maturity': 0.5, 'Coupon': 0, 'Price': 94.90},\n",
    "    {'Face': 100, 'Maturity': 1.0, 'Coupon': 0, 'Price': 90.00},\n",
    "    {'Face': 100, 'Maturity': 1.5, 'Coupon': 8, 'Price': 96.00},\n",
    "    {'Face': 100, 'Maturity': 2.0, 'Coupon': 12, 'Price': 101.60}\n",
    "])\n",
    "\n",
    "bonds['coupon_freq'] = 1\n",
    "\n",
    "bonds = bp.BondPricing(bonds).bonds"
   ]
  },
  {
   "cell_type": "code",
   "execution_count": 15,
   "metadata": {
    "collapsed": true
   },
   "outputs": [],
   "source": [
    "bonds = pd.DataFrame([\n",
    "    {'Face': 100, 'Maturity': 1., 'Coupon': 7, 'Price': 100.},\n",
    "    {'Face': 100, 'Maturity': 2., 'Coupon': 8, 'Price': 100.},\n",
    "    {'Face': 100, 'Maturity': 3., 'Coupon': 9, 'Price': 100.},\n",
    "    {'Face': 100, 'Maturity': 4., 'Coupon': 10, 'Price': 100.}\n",
    "])\n",
    "\n",
    "bonds['coupon_freq'] = 1"
   ]
  },
  {
   "cell_type": "code",
   "execution_count": 16,
   "metadata": {
    "collapsed": false
   },
   "outputs": [
    {
     "data": {
      "text/html": [
       "<div>\n",
       "<table border=\"1\" class=\"dataframe\">\n",
       "  <thead>\n",
       "    <tr style=\"text-align: right;\">\n",
       "      <th></th>\n",
       "      <th>Coupon</th>\n",
       "      <th>Face</th>\n",
       "      <th>Maturity</th>\n",
       "      <th>Price</th>\n",
       "      <th>coupon_freq</th>\n",
       "    </tr>\n",
       "  </thead>\n",
       "  <tbody>\n",
       "    <tr>\n",
       "      <th>0</th>\n",
       "      <td>7</td>\n",
       "      <td>100</td>\n",
       "      <td>1.0</td>\n",
       "      <td>100.0</td>\n",
       "      <td>1</td>\n",
       "    </tr>\n",
       "    <tr>\n",
       "      <th>1</th>\n",
       "      <td>8</td>\n",
       "      <td>100</td>\n",
       "      <td>2.0</td>\n",
       "      <td>100.0</td>\n",
       "      <td>1</td>\n",
       "    </tr>\n",
       "    <tr>\n",
       "      <th>2</th>\n",
       "      <td>9</td>\n",
       "      <td>100</td>\n",
       "      <td>3.0</td>\n",
       "      <td>100.0</td>\n",
       "      <td>1</td>\n",
       "    </tr>\n",
       "    <tr>\n",
       "      <th>3</th>\n",
       "      <td>10</td>\n",
       "      <td>100</td>\n",
       "      <td>4.0</td>\n",
       "      <td>100.0</td>\n",
       "      <td>1</td>\n",
       "    </tr>\n",
       "  </tbody>\n",
       "</table>\n",
       "</div>"
      ],
      "text/plain": [
       "   Coupon  Face  Maturity  Price  coupon_freq\n",
       "0       7   100       1.0  100.0            1\n",
       "1       8   100       2.0  100.0            1\n",
       "2       9   100       3.0  100.0            1\n",
       "3      10   100       4.0  100.0            1"
      ]
     },
     "execution_count": 16,
     "metadata": {},
     "output_type": "execute_result"
    }
   ],
   "source": [
    "bonds"
   ]
  },
  {
   "cell_type": "code",
   "execution_count": 126,
   "metadata": {
    "collapsed": true
   },
   "outputs": [],
   "source": [
    "bonds = pd.DataFrame([\n",
    "    {'Maturity': 1., 'Yield': 7.},\n",
    "    {'Maturity': 2., 'Yield': 8.},\n",
    "    {'Maturity': 3., 'Yield': 9.},\n",
    "    {'Maturity': 4., 'Yield': 10.},\n",
    "])"
   ]
  },
  {
   "cell_type": "code",
   "execution_count": 214,
   "metadata": {
    "collapsed": true
   },
   "outputs": [],
   "source": [
    "def spot_from_par(bonds):\n",
    "    bonds.loc[0,'spot_rate'] = bonds.loc[0,'Yield']\n",
    "    for i in np.arange(1,len(bonds)):\n",
    "        result = 0\n",
    "        for j in range(i):\n",
    "            #print(i,j)\n",
    "            print('{0:.10f} / ( 1 + {1:.10f}/100)**({2:.0f})'.format(bonds.loc[i,'Yield'],\n",
    "                                                                       bonds.loc[j,'spot_rate'],\n",
    "                                                                       j+1))\n",
    "            a = bonds.loc[i,'Yield'] / (1. + bonds.loc[j,'spot_rate']/100.)**(j + 1.)\n",
    "            result += a\n",
    "        bonds.loc[i,'spot_rate'] = (((100.+bonds.loc[i,'Yield']) / (100. - result)) ** (1./ (i+1.)) - 1.) * 100\n",
    "    return bonds"
   ]
  },
  {
   "cell_type": "code",
   "execution_count": 215,
   "metadata": {
    "collapsed": false
   },
   "outputs": [
    {
     "name": "stdout",
     "output_type": "stream",
     "text": [
      "8.0000000000 / ( 1 + 7.0000000000/100)**(1)\n",
      "9.0000000000 / ( 1 + 7.0000000000/100)**(1)\n",
      "9.0000000000 / ( 1 + 8.0403964854/100)**(2)\n",
      "10.0000000000 / ( 1 + 7.0000000000/100)**(1)\n",
      "10.0000000000 / ( 1 + 8.0403964854/100)**(2)\n",
      "10.0000000000 / ( 1 + 9.1252553099/100)**(3)\n"
     ]
    }
   ],
   "source": [
    "a = spot_from_par(bonds)"
   ]
  },
  {
   "cell_type": "code",
   "execution_count": 216,
   "metadata": {
    "collapsed": false
   },
   "outputs": [
    {
     "data": {
      "text/html": [
       "<div>\n",
       "<table border=\"1\" class=\"dataframe\">\n",
       "  <thead>\n",
       "    <tr style=\"text-align: right;\">\n",
       "      <th></th>\n",
       "      <th>Maturity</th>\n",
       "      <th>Yield</th>\n",
       "      <th>spot_rate</th>\n",
       "    </tr>\n",
       "  </thead>\n",
       "  <tbody>\n",
       "    <tr>\n",
       "      <th>0</th>\n",
       "      <td>1.0</td>\n",
       "      <td>7.0</td>\n",
       "      <td>7.000000</td>\n",
       "    </tr>\n",
       "    <tr>\n",
       "      <th>1</th>\n",
       "      <td>2.0</td>\n",
       "      <td>8.0</td>\n",
       "      <td>8.040396</td>\n",
       "    </tr>\n",
       "    <tr>\n",
       "      <th>2</th>\n",
       "      <td>3.0</td>\n",
       "      <td>9.0</td>\n",
       "      <td>9.125255</td>\n",
       "    </tr>\n",
       "    <tr>\n",
       "      <th>3</th>\n",
       "      <td>4.0</td>\n",
       "      <td>10.0</td>\n",
       "      <td>10.272363</td>\n",
       "    </tr>\n",
       "  </tbody>\n",
       "</table>\n",
       "</div>"
      ],
      "text/plain": [
       "   Maturity  Yield  spot_rate\n",
       "0       1.0    7.0   7.000000\n",
       "1       2.0    8.0   8.040396\n",
       "2       3.0    9.0   9.125255\n",
       "3       4.0   10.0  10.272363"
      ]
     },
     "execution_count": 216,
     "metadata": {},
     "output_type": "execute_result"
    }
   ],
   "source": [
    "a"
   ]
  },
  {
   "cell_type": "code",
   "execution_count": 190,
   "metadata": {
    "collapsed": false
   },
   "outputs": [
    {
     "data": {
      "text/plain": [
       "7.710280373834972"
      ]
     },
     "execution_count": 190,
     "metadata": {},
     "output_type": "execute_result"
    }
   ],
   "source": [
    "9.0000000000 / ( 1 + 8.0403964854/100.)**(1 + 1)"
   ]
  },
  {
   "cell_type": "code",
   "execution_count": 203,
   "metadata": {
    "collapsed": false
   },
   "outputs": [
    {
     "data": {
      "text/plain": [
       "1.080403964854224"
      ]
     },
     "execution_count": 203,
     "metadata": {},
     "output_type": "execute_result"
    }
   ],
   "source": [
    "c ** .5"
   ]
  },
  {
   "cell_type": "code",
   "execution_count": 166,
   "metadata": {
    "collapsed": false
   },
   "outputs": [
    {
     "data": {
      "text/plain": [
       "16.121495327106"
      ]
     },
     "execution_count": 166,
     "metadata": {},
     "output_type": "execute_result"
    }
   ],
   "source": [
    "9/b + 9.0000000000 / ( 1 + 8.0403964854/100)**(1 + 1)"
   ]
  },
  {
   "cell_type": "code",
   "execution_count": 64,
   "metadata": {
    "collapsed": true
   },
   "outputs": [],
   "source": [
    "b= 1.07"
   ]
  },
  {
   "cell_type": "code",
   "execution_count": 65,
   "metadata": {
    "collapsed": true
   },
   "outputs": [],
   "source": [
    "c = (108 / (100 - (8 / b)))"
   ]
  },
  {
   "cell_type": "code",
   "execution_count": null,
   "metadata": {
    "collapsed": true
   },
   "outputs": [],
   "source": [
    ""
   ]
  },
  {
   "cell_type": "code",
   "execution_count": 66,
   "metadata": {
    "collapsed": true
   },
   "outputs": [],
   "source": [
    "d = (109 / (100 - (9/c + 9/b)))"
   ]
  },
  {
   "cell_type": "code",
   "execution_count": 75,
   "metadata": {
    "collapsed": true
   },
   "outputs": [],
   "source": [
    "e = (110 / (100 - (10/d + 10/c + 10/b)))"
   ]
  },
  {
   "cell_type": "code",
   "execution_count": 77,
   "metadata": {
    "collapsed": false
   },
   "outputs": [
    {
     "data": {
      "text/html": [
       "<div>\n",
       "<table border=\"1\" class=\"dataframe\">\n",
       "  <thead>\n",
       "    <tr style=\"text-align: right;\">\n",
       "      <th></th>\n",
       "      <th>Maturity</th>\n",
       "      <th>Yield</th>\n",
       "      <th>spot_rate</th>\n",
       "    </tr>\n",
       "  </thead>\n",
       "  <tbody>\n",
       "    <tr>\n",
       "      <th>0</th>\n",
       "      <td>1.0</td>\n",
       "      <td>7.0</td>\n",
       "      <td>7.000000</td>\n",
       "    </tr>\n",
       "    <tr>\n",
       "      <th>1</th>\n",
       "      <td>2.0</td>\n",
       "      <td>8.0</td>\n",
       "      <td>8.040396</td>\n",
       "    </tr>\n",
       "    <tr>\n",
       "      <th>2</th>\n",
       "      <td>3.0</td>\n",
       "      <td>9.0</td>\n",
       "      <td>9.127757</td>\n",
       "    </tr>\n",
       "    <tr>\n",
       "      <th>3</th>\n",
       "      <td>4.0</td>\n",
       "      <td>10.0</td>\n",
       "      <td>10.284585</td>\n",
       "    </tr>\n",
       "  </tbody>\n",
       "</table>\n",
       "</div>"
      ],
      "text/plain": [
       "   Maturity  Yield  spot_rate\n",
       "0       1.0    7.0   7.000000\n",
       "1       2.0    8.0   8.040396\n",
       "2       3.0    9.0   9.127757\n",
       "3       4.0   10.0  10.284585"
      ]
     },
     "execution_count": 77,
     "metadata": {},
     "output_type": "execute_result"
    }
   ],
   "source": [
    "a"
   ]
  },
  {
   "cell_type": "code",
   "execution_count": 76,
   "metadata": {
    "collapsed": false
   },
   "outputs": [
    {
     "name": "stdout",
     "output_type": "stream",
     "text": [
      "1.07 1.080403964854224 1.0912525530985964 1.102723634972019\n"
     ]
    }
   ],
   "source": [
    "print(b, c**.5, d**(1/3),e**.25 )"
   ]
  },
  {
   "cell_type": "code",
   "execution_count": 11,
   "metadata": {
    "collapsed": true
   },
   "outputs": [],
   "source": [
    "import collateral_waterfall as cw\n",
    "import prepayment_calcs as pc\n",
    "import bond_pricing as bp\n",
    "import scipy.interpolate as interpolate"
   ]
  },
  {
   "cell_type": "code",
   "execution_count": 15,
   "metadata": {
    "collapsed": false
   },
   "outputs": [
    {
     "name": "stdout",
     "output_type": "stream",
     "text": [
      "8.0000000000 / ( 1 + 7.0000000000/100)**(1)\n",
      "9.0000000000 / ( 1 + 7.0000000000/100)**(1)\n",
      "9.0000000000 / ( 1 + 8.0403964854/100)**(2)\n",
      "10.0000000000 / ( 1 + 7.0000000000/100)**(1)\n",
      "10.0000000000 / ( 1 + 8.0403964854/100)**(2)\n",
      "10.0000000000 / ( 1 + 9.1252553099/100)**(3)\n"
     ]
    }
   ],
   "source": [
    "spot_curve = bp.BondPricing.spot_from_par()"
   ]
  },
  {
   "cell_type": "code",
   "execution_count": 108,
   "metadata": {
    "collapsed": false
   },
   "outputs": [],
   "source": [
    "def forward_rates(spot_curve):\n",
    "    maturities = spot_curve['Maturity']\n",
    "    spots = spot_curve['spot_rate']\n",
    "    \n",
    "    if len(maturities) != len(spots):\n",
    "        raise AttributeError('maturity and rate vector lengths must match')\n",
    "\n",
    "    size = len(spots) -1\n",
    "    forward = maturities[1:] - maturities[0]\n",
    "    forward.name = 'Forward'\n",
    "    print(forward)\n",
    "    frame = pd.DataFrame(np.full((size,size),np.nan),columns=forward,index=maturities[:-1])\n",
    "\n",
    "    for i in range(len(maturities)-1):\n",
    "        for j in range(1,len(maturities)):\n",
    "            #print(i,j)\n",
    "            try:\n",
    "                r2 = spots[i+j] / 100\n",
    "                r1 = spots[i] / 100\n",
    "                t2 = maturities[i+j]\n",
    "                t1 = maturities[i]\n",
    "\n",
    "                forward_rate = ((((1 + r2)**t2) / ((1 + r1)**t1)) ** (1/(t2-t1)) - 1) * 100\n",
    "                frame.loc[t2-t1, t1] = forward_rate\n",
    "                #print('r2: {}\\nr1: {}\\nt2: {}\\nt1:{}'.format(r2,r1,t2,t1))\n",
    "            except:\n",
    "                pass\n",
    "                #print('loop')\n",
    "\n",
    "    return frame"
   ]
  },
  {
   "cell_type": "code",
   "execution_count": 109,
   "metadata": {
    "collapsed": false
   },
   "outputs": [
    {
     "name": "stdout",
     "output_type": "stream",
     "text": [
      "1    1.0\n",
      "2    2.0\n",
      "3    3.0\n",
      "Name: Forward, dtype: float64\n"
     ]
    }
   ],
   "source": [
    "forwards = forward_rates(spot_curve)"
   ]
  },
  {
   "cell_type": "code",
   "execution_count": 110,
   "metadata": {
    "collapsed": false
   },
   "outputs": [
    {
     "name": "stdout",
     "output_type": "stream",
     "text": [
      "1    1.0\n",
      "2    2.0\n",
      "3    9.0\n",
      "Name: Forward, dtype: float64\n"
     ]
    }
   ],
   "source": [
    "spot_curve2 = spot_curve.copy()\n",
    "spot_curve2.loc[2,'spot_rate'] = 11\n",
    "spot_curve2.loc[3,'Maturity'] = 10\n",
    "forwards = forward_rates(spot_curve2)"
   ]
  },
  {
   "cell_type": "code",
   "execution_count": 103,
   "metadata": {
    "collapsed": false
   },
   "outputs": [
    {
     "data": {
      "text/html": [
       "<div>\n",
       "<table border=\"1\" class=\"dataframe\">\n",
       "  <thead>\n",
       "    <tr style=\"text-align: right;\">\n",
       "      <th>Forward</th>\n",
       "      <th>1.0</th>\n",
       "      <th>2.0</th>\n",
       "      <th>9.0</th>\n",
       "      <th>3.0</th>\n",
       "    </tr>\n",
       "    <tr>\n",
       "      <th>Maturity</th>\n",
       "      <th></th>\n",
       "      <th></th>\n",
       "      <th></th>\n",
       "      <th></th>\n",
       "    </tr>\n",
       "  </thead>\n",
       "  <tbody>\n",
       "    <tr>\n",
       "      <th>1.0</th>\n",
       "      <td>9.090909</td>\n",
       "      <td>17.164650</td>\n",
       "      <td>NaN</td>\n",
       "      <td>NaN</td>\n",
       "    </tr>\n",
       "    <tr>\n",
       "      <th>2.0</th>\n",
       "      <td>13.055730</td>\n",
       "      <td>NaN</td>\n",
       "      <td>NaN</td>\n",
       "      <td>NaN</td>\n",
       "    </tr>\n",
       "    <tr>\n",
       "      <th>3.0</th>\n",
       "      <td>NaN</td>\n",
       "      <td>NaN</td>\n",
       "      <td>NaN</td>\n",
       "      <td>NaN</td>\n",
       "    </tr>\n",
       "    <tr>\n",
       "      <th>9.0</th>\n",
       "      <td>10.642082</td>\n",
       "      <td>NaN</td>\n",
       "      <td>NaN</td>\n",
       "      <td>NaN</td>\n",
       "    </tr>\n",
       "    <tr>\n",
       "      <th>8.0</th>\n",
       "      <td>NaN</td>\n",
       "      <td>10.837523</td>\n",
       "      <td>NaN</td>\n",
       "      <td>NaN</td>\n",
       "    </tr>\n",
       "    <tr>\n",
       "      <th>7.0</th>\n",
       "      <td>NaN</td>\n",
       "      <td>NaN</td>\n",
       "      <td>NaN</td>\n",
       "      <td>9.961981</td>\n",
       "    </tr>\n",
       "  </tbody>\n",
       "</table>\n",
       "</div>"
      ],
      "text/plain": [
       "Forward         1.0        2.0  9.0       3.0\n",
       "Maturity                                     \n",
       "1.0        9.090909  17.164650  NaN       NaN\n",
       "2.0       13.055730        NaN  NaN       NaN\n",
       "3.0             NaN        NaN  NaN       NaN\n",
       "9.0       10.642082        NaN  NaN       NaN\n",
       "8.0             NaN  10.837523  NaN       NaN\n",
       "7.0             NaN        NaN  NaN  9.961981"
      ]
     },
     "execution_count": 103,
     "metadata": {},
     "output_type": "execute_result"
    }
   ],
   "source": [
    "forwards"
   ]
  },
  {
   "cell_type": "code",
   "execution_count": 1,
   "metadata": {
    "collapsed": true
   },
   "outputs": [],
   "source": [
    "import xlwings as xw\n",
    "import collateral_waterfall as cw\n",
    "wb = xw.Book('C:/Users/Adam/Desktop/mbs waterfall.xlsx')"
   ]
  },
  {
   "cell_type": "code",
   "execution_count": 14,
   "metadata": {
    "collapsed": false
   },
   "outputs": [
    {
     "name": "stdout",
     "output_type": "stream",
     "text": [
      "1 loop, best of 3: 466 ms per loop\n"
     ]
    }
   ],
   "source": [
    "%%timeit\n",
    "\n",
    "sheet1 = wb.sheets(1)\n",
    "balance = sheet1.range('B1').value\n",
    "WAM = int(sheet1.range('B2').value)\n",
    "WAC = sheet1.range('B3').value\n",
    "ptc = sheet1.range('B4').value\n",
    "speed = sheet1.range('B5').value\n",
    "cpr = sheet1.range('B6').value\n",
    "\n",
    "anchor = sheet1.range('A9')\n",
    "\n",
    "waterfall = cw.create_waterfall(original_balance=balance,\n",
    "                               wam=WAM,\n",
    "                               wac=WAC,\n",
    "                               pass_thru_cpn=ptc,\n",
    "                               psa_speed=speed,\n",
    "                               cpr_description=cpr)\n",
    "anchor.expand().value = \"\"\n",
    "anchor.value = waterfall"
   ]
  },
  {
   "cell_type": "code",
   "execution_count": 28,
   "metadata": {
    "collapsed": false
   },
   "outputs": [],
   "source": [
    "sheet1 = wb.sheets(1)\n",
    "    values = sheet1.range('B1:B6').value\n",
    "\n",
    "    balance = values[0]\n",
    "    WAM = int(values[1])\n",
    "    WAC = values[2]\n",
    "    ptc = values[3]\n",
    "    speed = values[4]\n",
    "    cpr = values[5]\n",
    "\n",
    "    anchor = sheet1.range('A9')\n",
    "\n",
    "    waterfall = cw.create_waterfall(original_balance=balance,\n",
    "                                   wam=WAM,\n",
    "                                   wac=WAC,\n",
    "                                   pass_thru_cpn=ptc,\n",
    "                                   psa_speed=speed,\n",
    "                                   cpr_description=cpr)\n",
    "    anchor.expand().value = \"\"\n",
    "    anchor.value = waterfall"
   ]
  },
  {
   "cell_type": "code",
   "execution_count": 29,
   "metadata": {
    "collapsed": false
   },
   "outputs": [],
   "source": [
    "ax = waterfall['beginning_balance'].plot()"
   ]
  },
  {
   "cell_type": "code",
   "execution_count": 33,
   "metadata": {
    "collapsed": false
   },
   "outputs": [
    {
     "ename": "TypeError",
     "evalue": "Don't know what to do with that image object",
     "traceback": [
      "\u001b[0;31m---------------------------------------------------------------------------\u001b[0m",
      "\u001b[0;31mTypeError\u001b[0m                                 Traceback (most recent call last)",
      "\u001b[0;32m<ipython-input-33-b48d5a48a2cc>\u001b[0m in \u001b[0;36m<module>\u001b[0;34m()\u001b[0m\n\u001b[0;32m----> 1\u001b[0;31m \u001b[0msheet1\u001b[0m\u001b[1;33m.\u001b[0m\u001b[0mpictures\u001b[0m\u001b[1;33m.\u001b[0m\u001b[0madd\u001b[0m\u001b[1;33m(\u001b[0m\u001b[0max\u001b[0m\u001b[1;33m,\u001b[0m \u001b[0mname\u001b[0m\u001b[1;33m=\u001b[0m\u001b[1;34m'Adam'\u001b[0m\u001b[1;33m,\u001b[0m\u001b[0mupdate\u001b[0m\u001b[1;33m=\u001b[0m\u001b[1;32mTrue\u001b[0m\u001b[1;33m)\u001b[0m\u001b[1;33m\u001b[0m\u001b[0m\n\u001b[0m",
      "\u001b[0;32mC:\\ProgramData\\Anaconda3\\lib\\site-packages\\xlwings\\main.py\u001b[0m in \u001b[0;36madd\u001b[0;34m(self, image, link_to_file, save_with_document, left, top, width, height, name, update)\u001b[0m\n\u001b[1;32m   2439\u001b[0m                     \u001b[1;32mpass\u001b[0m\u001b[1;33m\u001b[0m\u001b[0m\n\u001b[1;32m   2440\u001b[0m \u001b[1;33m\u001b[0m\u001b[0m\n\u001b[0;32m-> 2441\u001b[0;31m         \u001b[0mfilename\u001b[0m\u001b[1;33m,\u001b[0m \u001b[0mwidth\u001b[0m\u001b[1;33m,\u001b[0m \u001b[0mheight\u001b[0m \u001b[1;33m=\u001b[0m \u001b[0mutils\u001b[0m\u001b[1;33m.\u001b[0m\u001b[0mprocess_image\u001b[0m\u001b[1;33m(\u001b[0m\u001b[0mimage\u001b[0m\u001b[1;33m,\u001b[0m \u001b[0mwidth\u001b[0m\u001b[1;33m,\u001b[0m \u001b[0mheight\u001b[0m\u001b[1;33m)\u001b[0m\u001b[1;33m\u001b[0m\u001b[0m\n\u001b[0m\u001b[1;32m   2442\u001b[0m \u001b[1;33m\u001b[0m\u001b[0m\n\u001b[1;32m   2443\u001b[0m         \u001b[1;32mif\u001b[0m \u001b[1;32mnot\u001b[0m \u001b[1;33m(\u001b[0m\u001b[0mlink_to_file\u001b[0m \u001b[1;32mor\u001b[0m \u001b[0msave_with_document\u001b[0m\u001b[1;33m)\u001b[0m\u001b[1;33m:\u001b[0m\u001b[1;33m\u001b[0m\u001b[0m\n",
      "\u001b[0;32mC:\\ProgramData\\Anaconda3\\lib\\site-packages\\xlwings\\utils.py\u001b[0m in \u001b[0;36mprocess_image\u001b[0;34m(image, width, height)\u001b[0m\n\u001b[1;32m    188\u001b[0m         \u001b[1;32mreturn\u001b[0m \u001b[0mfilename\u001b[0m\u001b[1;33m,\u001b[0m \u001b[0mwidth\u001b[0m\u001b[1;33m,\u001b[0m \u001b[0mheight\u001b[0m\u001b[1;33m\u001b[0m\u001b[0m\n\u001b[1;32m    189\u001b[0m     \u001b[1;32melse\u001b[0m\u001b[1;33m:\u001b[0m\u001b[1;33m\u001b[0m\u001b[0m\n\u001b[0;32m--> 190\u001b[0;31m         \u001b[1;32mraise\u001b[0m \u001b[0mTypeError\u001b[0m\u001b[1;33m(\u001b[0m\u001b[1;34m\"Don't know what to do with that image object\"\u001b[0m\u001b[1;33m)\u001b[0m\u001b[1;33m\u001b[0m\u001b[0m\n\u001b[0m",
      "\u001b[0;31mTypeError\u001b[0m: Don't know what to do with that image object"
     ],
     "output_type": "error"
    }
   ],
   "source": [
    "sheet1.pictures.add(ax, name='Adam',update=True)"
   ]
  },
  {
   "cell_type": "code",
   "execution_count": null,
   "metadata": {
    "collapsed": true
   },
   "outputs": [],
   "source": [
    ""
   ]
  }
 ],
 "metadata": {
  "kernelspec": {
   "display_name": "Python 3",
   "language": "python",
   "name": "python3"
  },
  "language_info": {
   "codemirror_mode": {
    "name": "ipython",
    "version": 3.0
   },
   "file_extension": ".py",
   "mimetype": "text/x-python",
   "name": "python",
   "nbconvert_exporter": "python",
   "pygments_lexer": "ipython3",
   "version": "3.6.0"
  }
 },
 "nbformat": 4,
 "nbformat_minor": 0
}