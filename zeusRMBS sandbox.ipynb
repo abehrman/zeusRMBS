{
 "cells": [
  {
   "cell_type": "code",
   "execution_count": 20,
   "metadata": {
    "collapsed": false
   },
   "outputs": [
    {
     "name": "stdout",
     "output_type": "stream",
     "text": [
      "The autoreload extension is already loaded. To reload it, use:\n",
      "  %reload_ext autoreload\n"
     ]
    }
   ],
   "source": [
    "%load_ext autoreload \n",
    "%autoreload 2\n",
    "\n",
    "%aimport -pandas\n",
    "%aimport -scipy.stats\n",
    "%aimport -numpy\n",
    "%aimport -matplotlib.pyplot\n",
    "\n",
    "\n",
    "import default_calcs as default\n",
    "import numpy as np\n",
    "import pandas as pd\n",
    "import matplotlib.pyplot as plt\n",
    "import matplotlib.lines as lines\n",
    "import scipy.stats as stats\n",
    "import pandas"
   ]
  },
  {
   "cell_type": "code",
   "execution_count": null,
   "metadata": {
    "collapsed": true
   },
   "outputs": [],
   "source": [
    "default.default_rate_normal_dist(-2,.3,.01)"
   ]
  },
  {
   "cell_type": "code",
   "execution_count": null,
   "metadata": {
    "collapsed": true
   },
   "outputs": [],
   "source": [
    "a  = stats.norm.ppf(.01)"
   ]
  },
  {
   "cell_type": "code",
   "execution_count": null,
   "metadata": {
    "collapsed": true
   },
   "outputs": [],
   "source": [
    "# x = effects of economic driver\n",
    "x = np.linspace(-3,3,100)"
   ]
  },
  {
   "cell_type": "code",
   "execution_count": null,
   "metadata": {
    "collapsed": true
   },
   "outputs": [],
   "source": [
    "x_dist = stats.norm.pdf(x)"
   ]
  },
  {
   "cell_type": "code",
   "execution_count": null,
   "metadata": {
    "collapsed": true
   },
   "outputs": [],
   "source": [
    "plt.plot(x,a_dist)\n",
    "plt.show()"
   ]
  },
  {
   "cell_type": "code",
   "execution_count": null,
   "metadata": {
    "collapsed": true
   },
   "outputs": [],
   "source": [
    "defaults= default.default_rate_normal_dist(x,.5,.01)"
   ]
  },
  {
   "cell_type": "code",
   "execution_count": null,
   "metadata": {
    "collapsed": true
   },
   "outputs": [],
   "source": [
    "plt.plot(x,defaults)\n",
    "plt.show()"
   ]
  },
  {
   "cell_type": "code",
   "execution_count": null,
   "metadata": {
    "collapsed": true
   },
   "outputs": [],
   "source": [
    "# cum default probability\n",
    "cum_def = default.inv_default_rate_normal_dist(.01,.3,defaults)"
   ]
  },
  {
   "cell_type": "code",
   "execution_count": null,
   "metadata": {
    "collapsed": true
   },
   "outputs": [],
   "source": [
    "df = pandas.DataFrame(data=[defaults,(cum_def)]).T\n",
    "df.columns=['defaults','cum_def']"
   ]
  },
  {
   "cell_type": "code",
   "execution_count": null,
   "metadata": {
    "collapsed": true
   },
   "outputs": [],
   "source": [
    "df.tail()"
   ]
  },
  {
   "cell_type": "code",
   "execution_count": null,
   "metadata": {
    "collapsed": true
   },
   "outputs": [],
   "source": [
    "plt.plot(defaults,x_dist.cumsum())\n",
    "plt.show()"
   ]
  },
  {
   "cell_type": "code",
   "execution_count": null,
   "metadata": {
    "collapsed": true
   },
   "outputs": [],
   "source": []
  },
  {
   "cell_type": "code",
   "execution_count": null,
   "metadata": {
    "collapsed": true
   },
   "outputs": [],
   "source": [
    "len(cum_def)"
   ]
  },
  {
   "cell_type": "code",
   "execution_count": null,
   "metadata": {
    "collapsed": true
   },
   "outputs": [],
   "source": [
    "import prepayment_calcs as pc\n",
    "import numpy as np\n",
    "import pandas as pd\n",
    "import matplotlib.pyplot as plt"
   ]
  },
  {
   "cell_type": "code",
   "execution_count": null,
   "metadata": {
    "collapsed": true
   },
   "outputs": [],
   "source": [
    "fast_smm = np.random.randint(50,100,size=60)/1000"
   ]
  },
  {
   "cell_type": "code",
   "execution_count": null,
   "metadata": {
    "collapsed": true
   },
   "outputs": [],
   "source": [
    "a = pc.prepayment_curve_from_passive_active_composition(.09, .8, .01, .2, 60)"
   ]
  },
  {
   "cell_type": "code",
   "execution_count": null,
   "metadata": {
    "collapsed": true
   },
   "outputs": [],
   "source": [
    "a.plot(a.index,['fast_amount','pool_cpr'])\n",
    "plt.grid()\n",
    "plt.show()"
   ]
  },
  {
   "cell_type": "code",
   "execution_count": null,
   "metadata": {
    "collapsed": true
   },
   "outputs": [],
   "source": [
    "a['total'] = a.fast_amount + a.slow_amount"
   ]
  },
  {
   "cell_type": "code",
   "execution_count": null,
   "metadata": {
    "collapsed": true
   },
   "outputs": [],
   "source": [
    "a.head()"
   ]
  },
  {
   "cell_type": "code",
   "execution_count": null,
   "metadata": {
    "collapsed": true
   },
   "outputs": [],
   "source": [
    "from bs4 import BeautifulSoup\n",
    "import requests"
   ]
  },
  {
   "cell_type": "code",
   "execution_count": null,
   "metadata": {
    "collapsed": true
   },
   "outputs": [],
   "source": [
    "USD_LIBOR = BeautifulSoup(requests.get(\"http://www.global-rates.com/interest-rates/libor/american-dollar/american-dollar.aspx\").text,\n",
    "                         \"html.parser\")"
   ]
  },
  {
   "cell_type": "code",
   "execution_count": null,
   "metadata": {
    "collapsed": true
   },
   "outputs": [],
   "source": [
    "USD_LIBOR.title"
   ]
  },
  {
   "cell_type": "code",
   "execution_count": null,
   "metadata": {
    "collapsed": true
   },
   "outputs": [],
   "source": [
    "balances = np.array([[50000],[100000],[150000],[200000],[250000]])\n",
    "coupon = np.array([0.04,0.06,0.08,0.10,0.12,.14])"
   ]
  },
  {
   "cell_type": "code",
   "execution_count": null,
   "metadata": {
    "collapsed": true
   },
   "outputs": [],
   "source": [
    "df = pd.DataFrame(np.pmt(rate=coupon/12,nper=360,pv=balances)).T"
   ]
  },
  {
   "cell_type": "code",
   "execution_count": null,
   "metadata": {
    "collapsed": true
   },
   "outputs": [],
   "source": [
    "np.arange(1,10)"
   ]
  },
  {
   "cell_type": "code",
   "execution_count": null,
   "metadata": {
    "collapsed": true
   },
   "outputs": [],
   "source": [
    "nper=360\n",
    "pv=400000\n",
    "cpn=0.055/12\n",
    "df = pd.DataFrame(data=np.zeros([nper+1,1]),columns=['scheduled_balance'],\n",
    "                 index =[np.arange(0,nper+1)])\n",
    "df.loc[0,'scheduled_balance'] = pv"
   ]
  },
  {
   "cell_type": "code",
   "execution_count": null,
   "metadata": {
    "collapsed": true
   },
   "outputs": [],
   "source": [
    "def scheduled_balances(rate, nper, pv):\n",
    "    df = pd.DataFrame(data=np.zeros([nper + 1, 1]), columns=['scheduled_balance'],\n",
    "                      index=[np.arange(0, nper + 1)])\n",
    "    df.loc[0, 'scheduled_balance'] = pv\n",
    "\n",
    "    df['bal_percent'] = (1 - ((((1 + rate) ** np.array(df.index)) - 1) /\n",
    "                           (((1 + rate) ** df.index.max()) - 1)))\n",
    "\n",
    "    df.loc[:, 'scheduled_balance'] = df['bal_percent'] * df.loc[0,'scheduled_balance']\n",
    "\n",
    "    return df"
   ]
  },
  {
   "cell_type": "code",
   "execution_count": null,
   "metadata": {
    "collapsed": true
   },
   "outputs": [],
   "source": [
    "df1 = scheduled_balances(0.055/12,360,400000)"
   ]
  },
  {
   "cell_type": "code",
   "execution_count": null,
   "metadata": {
    "collapsed": true
   },
   "outputs": [],
   "source": [
    "def scheduled_balance_percent(rate, nper, age):\n",
    "    return (1 - ((((1 + rate) ** age) - 1) /\n",
    "          (((1 + rate) ** nper) - 1)))"
   ]
  },
  {
   "cell_type": "code",
   "execution_count": null,
   "metadata": {
    "collapsed": true
   },
   "outputs": [],
   "source": [
    "scheduled_balance_percent(0.06/12,360,60)"
   ]
  },
  {
   "cell_type": "code",
   "execution_count": null,
   "metadata": {
    "collapsed": true
   },
   "outputs": [],
   "source": [
    "coupon = list([0.06, 0.08, 0.10])\n",
    "age = list([60,120,180,240,300,359])"
   ]
  },
  {
   "cell_type": "code",
   "execution_count": null,
   "metadata": {
    "collapsed": true
   },
   "outputs": [],
   "source": [
    "results = []\n",
    "for i in coupon:\n",
    "    column = []\n",
    "    for j in age:\n",
    "        column.append(scheduled_balance_percent(i/12, 360, j))\n",
    "    results.append(column)"
   ]
  },
  {
   "cell_type": "code",
   "execution_count": null,
   "metadata": {
    "collapsed": true
   },
   "outputs": [],
   "source": [
    "df = pd.DataFrame(results).T\n",
    "df.columns=coupon\n",
    "df.index=age"
   ]
  },
  {
   "cell_type": "code",
   "execution_count": null,
   "metadata": {
    "collapsed": true
   },
   "outputs": [],
   "source": [
    "df"
   ]
  },
  {
   "cell_type": "code",
   "execution_count": null,
   "metadata": {
    "collapsed": true
   },
   "outputs": [],
   "source": [
    "df = pd.DataFrame(data=np.zeros([nper + 1, 1]), columns=['scheduled_balance'],\n",
    "                      index=[np.arange(0, nper + 1)])\n",
    "df.loc[0, 'scheduled_balance'] = pv"
   ]
  },
  {
   "cell_type": "code",
   "execution_count": null,
   "metadata": {
    "collapsed": true
   },
   "outputs": [],
   "source": [
    "rate = 0.055\n",
    "nper = 360\n",
    "\n",
    "df['bal_percent'] = df.reset_index()['index'].apply(lambda x: \n",
    "                                                    scheduled_balance_percent(\n",
    "                                                    rate/12, nper, x))"
   ]
  },
  {
   "cell_type": "code",
   "execution_count": null,
   "metadata": {
    "collapsed": true
   },
   "outputs": [],
   "source": [
    "def scheduled_balances(rate, nper, pv):\n",
    "    \"\"\" Returns data frame of scheduled balances and each periods scheduled balance as a %\n",
    "    of the original balance\"\"\"\n",
    "\n",
    "    df = pd.DataFrame(data=np.zeros([nper + 1, 1]), columns=['scheduled_balance'],\n",
    "                      index=[np.arange(0, nper + 1)])\n",
    "    df.loc[0, 'scheduled_balance'] = pv\n",
    "\n",
    "    df['bal_percent'] = df.reset_index()['index'].apply(lambda x:\n",
    "                                                        scheduled_balance_percent(\n",
    "                                                            rate / 12, nper, x))\n",
    "\n",
    "    df.loc[:, 'scheduled_balance'] = df['bal_percent'] * df.loc[0,'scheduled_balance']\n",
    "\n",
    "    return df"
   ]
  },
  {
   "cell_type": "code",
   "execution_count": null,
   "metadata": {
    "collapsed": true
   },
   "outputs": [],
   "source": [
    "def scheduled_balances(rate, nper, pv):\n",
    "    \"\"\" Returns data frame of scheduled balances and each periods scheduled balance as a %\n",
    "    of the original balance\"\"\"\n",
    "\n",
    "    df = pd.DataFrame(data=np.zeros([nper + 1, 1]), columns=['scheduled_balance'],\n",
    "                      index=[np.arange(0, nper + 1)])\n",
    "    df.loc[0, 'scheduled_balance'] = pv\n",
    "    \n",
    "    df['bal_percent'] = (1 - (((1 + rate/12) ** np.array(df.index) - 1) / \n",
    "                        ((1 + rate/12) ** nper - 1)))\n",
    "\n",
    "    df.loc[:, 'scheduled_balance'] = df['bal_percent'] * df.loc[0,'scheduled_balance']\n",
    "\n",
    "    return df"
   ]
  },
  {
   "cell_type": "code",
   "execution_count": null,
   "metadata": {
    "collapsed": true
   },
   "outputs": [],
   "source": [
    "%time df = scheduled_balances(0.055, 358, 400000000)"
   ]
  },
  {
   "cell_type": "code",
   "execution_count": null,
   "metadata": {
    "collapsed": true
   },
   "outputs": [],
   "source": [
    "df.head()"
   ]
  },
  {
   "cell_type": "code",
   "execution_count": null,
   "metadata": {
    "collapsed": true
   },
   "outputs": [],
   "source": [
    "df = pd.DataFrame(data=np.zeros([nper + 1, 1]), columns=['scheduled_balance'],\n",
    "                      index=[np.arange(0, nper + 1)])\n",
    "df.loc[0, 'scheduled_balance'] = pv\n",
    "df.loc[1:,'interest'] = np.ipmt(cpn/12,per=nper,pv=df.loc[1:].shift(-1))"
   ]
  },
  {
   "cell_type": "code",
   "execution_count": null,
   "metadata": {
    "collapsed": true
   },
   "outputs": [],
   "source": [
    "import collateral_waterfall as cw\n",
    "import prepayment_calcs as pc\n",
    "import numpy as np\n",
    "import pandas as pd"
   ]
  },
  {
   "cell_type": "code",
   "execution_count": null,
   "metadata": {
    "collapsed": true
   },
   "outputs": [],
   "source": [
    "a=pc.cpr_curve_creator()"
   ]
  },
  {
   "cell_type": "code",
   "execution_count": null,
   "metadata": {
    "collapsed": true
   },
   "outputs": [],
   "source": [
    "factor = []\n",
    "factor.append(1-pc.SMM(a[0]))\n",
    "\n",
    "for i in range(1,len(a)):\n",
    "    factor.append(factor[i-1] * (1-pc.SMM(a[i])))"
   ]
  },
  {
   "cell_type": "code",
   "execution_count": null,
   "metadata": {
    "collapsed": true
   },
   "outputs": [],
   "source": [
    "sched = cw.schedule_of_ending_balances(0.09, 360, 200000)['scheduled_balance']"
   ]
  },
  {
   "cell_type": "code",
   "execution_count": null,
   "metadata": {
    "collapsed": true
   },
   "outputs": [],
   "source": [
    "sched.head()"
   ]
  },
  {
   "cell_type": "code",
   "execution_count": null,
   "metadata": {
    "collapsed": true
   },
   "outputs": [],
   "source": [
    "waterfall = cw.create_waterfall(original_balance=4e8, pass_thru_cpn=0.055,\n",
    "                                psa_speed=0,wam=360, wac=0.055)"
   ]
  },
  {
   "cell_type": "code",
   "execution_count": null,
   "metadata": {
    "collapsed": true
   },
   "outputs": [],
   "source": [
    "waterfall.tail()"
   ]
  },
  {
   "cell_type": "code",
   "execution_count": null,
   "metadata": {
    "collapsed": true
   },
   "outputs": [],
   "source": [
    "cpr = pc.cpr_curve_creator()"
   ]
  },
  {
   "cell_type": "code",
   "execution_count": null,
   "metadata": {
    "collapsed": true
   },
   "outputs": [],
   "source": [
    "smm = [0.01]*360"
   ]
  },
  {
   "cell_type": "code",
   "execution_count": null,
   "metadata": {
    "collapsed": true
   },
   "outputs": [],
   "source": [
    "age = 361-len(sched)\n",
    "ab = sched['scheduled_balance'][:-1] * (1-0.01)"
   ]
  },
  {
   "cell_type": "code",
   "execution_count": null,
   "metadata": {
    "collapsed": true
   },
   "outputs": [],
   "source": [
    "ab.head()"
   ]
  },
  {
   "cell_type": "code",
   "execution_count": null,
   "metadata": {
    "collapsed": true
   },
   "outputs": [],
   "source": [
    "sched['scheduled_balance'][:-1].tail()"
   ]
  },
  {
   "cell_type": "code",
   "execution_count": null,
   "metadata": {
    "collapsed": true
   },
   "outputs": [],
   "source": [
    "import collateral_waterfall as cw\n",
    "import prepayment_calcs as pc\n",
    "import numpy as np\n",
    "import pandas as pd\n",
    "\n",
    "scheduled_ending = cw.schedule_of_ending_balances(0.09, \n",
    "                                       360, \n",
    "                                       150000)['scheduled_balance']\n",
    "\n",
    "smm = [.01]\n",
    "\n",
    "actual_ending = cw.actual_balances(scheduled_ending, smm)\n",
    "df = pd.DataFrame(\n",
    "    data=[scheduled_ending, actual_ending]).T.fillna(0)\n",
    "df.columns=['scheduled','actual']\n",
    "df = df.applymap('${:,.2f}'.format)\n",
    "print(df.head())\n",
    "\n",
    "cpr = pc.cpr_curve_creator()\n",
    "smm = [pc.SMM(.10)]\n",
    "\n",
    "actual_ending = cw.actual_balances(scheduled_ending, smm)\n",
    "df = pd.DataFrame(\n",
    "    data=[scheduled_ending, actual_ending]).T.fillna(0)\n",
    "df.columns=['scheduled','actual']\n",
    "df = df.applymap('${:,.2f}'.format)\n",
    "print(df.head())"
   ]
  },
  {
   "cell_type": "code",
   "execution_count": null,
   "metadata": {
    "collapsed": true
   },
   "outputs": [],
   "source": [
    "pc.SMM(0.4) * 1.5"
   ]
  },
  {
   "cell_type": "code",
   "execution_count": null,
   "metadata": {
    "collapsed": true
   },
   "outputs": [],
   "source": [
    "pd.options.display.float_format = '{:,.2f}'.format\n",
    "waterfall = cw.create_waterfall(original_balance=200000, \n",
    "                    psa_speed=3, \n",
    "                    pass_thru_cpn=0.075, \n",
    "                    wac=0.075,\n",
    "                    wam=360)"
   ]
  },
  {
   "cell_type": "code",
   "execution_count": null,
   "metadata": {
    "collapsed": true
   },
   "outputs": [],
   "source": []
  },
  {
   "cell_type": "code",
   "execution_count": null,
   "metadata": {
    "collapsed": true
   },
   "outputs": [],
   "source": [
    "waterfall = {}\n",
    "\n",
    "figure, axes = plt.subplots()\n",
    "for i in range(15):\n",
    "    for j in range(4):\n",
    "        waterfall[i,j] = cw.create_waterfall(original_balance=200000, \n",
    "                        psa_speed=i + (j * 0.25), \n",
    "                        pass_thru_cpn=0.075, \n",
    "                        wac=0.075,\n",
    "                        wam=360)\n",
    "        waterfall[i,j].beginning_balance.plot(ax=axes)\n",
    "plt.show()"
   ]
  },
  {
   "cell_type": "code",
   "execution_count": null,
   "metadata": {
    "collapsed": true
   },
   "outputs": [],
   "source": [
    "def arm_coupons(rate_curve, \n",
    "                gross_margin, \n",
    "                total_fees, \n",
    "                initial_coupon,\n",
    "                periodic_cap):\n",
    "    df = pd.DataFrame(index=pd.Index(range(len(rate_curve))),\n",
    "                     columns=['rates','Gross','Net'])\n",
    "    df.rates=rate_curve\n",
    "    df.loc[0,'Gross'] = initial_coupon\n",
    "    \n",
    "    for i in range(1,df.index.max()+1):\n",
    "        if df.rates[i] + 1.75 <= df.Gross[i-1] + 1:\n",
    "            df.loc[i, 'Gross'] = df.rates[i] + 1.75 \n",
    "        else:\n",
    "            df.loc[i, 'Gross'] = df.Gross[i-1] + 1 \n",
    "    \n",
    "    df.loc[:,'Net'] = df.Gross - total_fees\n",
    "    \n",
    "    return df"
   ]
  },
  {
   "cell_type": "code",
   "execution_count": null,
   "metadata": {
    "collapsed": true
   },
   "outputs": [],
   "source": [
    "rates = [None,8.2,5.,5.75,4.]\n",
    "df = arm_coupons(rates,1.75,0.65,5.1,1)"
   ]
  },
  {
   "cell_type": "code",
   "execution_count": null,
   "metadata": {
    "collapsed": true
   },
   "outputs": [],
   "source": [
    "df"
   ]
  },
  {
   "cell_type": "code",
   "execution_count": null,
   "metadata": {
    "collapsed": true
   },
   "outputs": [],
   "source": [
    "df.plot()\n",
    "plt.show()"
   ]
  },
  {
   "cell_type": "code",
   "execution_count": null,
   "metadata": {
    "collapsed": true
   },
   "outputs": [],
   "source": [
    "1e6 * ((1.085) ** (14/365) - 1)"
   ]
  },
  {
   "cell_type": "code",
   "execution_count": null,
   "metadata": {
    "collapsed": true
   },
   "outputs": [],
   "source": [
    "mey = np.irr([-99,5,105])\n",
    "mey = 0.0\n",
    "bey = 2 * ((1+mey/12)**6-1)"
   ]
  },
  {
   "cell_type": "code",
   "execution_count": null,
   "metadata": {
    "collapsed": true
   },
   "outputs": [],
   "source": [
    "print('%f,%f' % (mey,bey))"
   ]
  },
  {
   "cell_type": "code",
   "execution_count": null,
   "metadata": {
    "collapsed": true
   },
   "outputs": [],
   "source": [
    "time = np.array([1,2,3,4,5])\n",
    "principal = np.array([5,10,20,40,80])"
   ]
  },
  {
   "cell_type": "code",
   "execution_count": null,
   "metadata": {
    "collapsed": true
   },
   "outputs": [],
   "source": [
    "WAL = ((time * principal) / principal.sum()).sum()"
   ]
  },
  {
   "cell_type": "code",
   "execution_count": null,
   "metadata": {
    "collapsed": true
   },
   "outputs": [],
   "source": [
    "WAL"
   ]
  },
  {
   "cell_type": "code",
   "execution_count": null,
   "metadata": {
    "collapsed": true
   },
   "outputs": [],
   "source": [
    "def macauley_duration(price, times, cash_flows, yld):\n",
    "    return (1 / price) * ((times * cash_flows) /\n",
    "                        (1 + yld/2)**(2*times)).sum()\n",
    "\n",
    "\n",
    "def modified_duration(duration, yld):\n",
    "    return duration / (1 + yld/2)\n",
    "\n",
    "\n",
    "def effective_duration(price, delta_down_price, delta_up_price, yld_delta):\n",
    "    return (-100/price) * ((delta_down_price - delta_up_price) / (2 * yld_delta))"
   ]
  },
  {
   "cell_type": "code",
   "execution_count": null,
   "metadata": {
    "collapsed": true
   },
   "outputs": [],
   "source": [
    "duration = macauley_duration(price,times,cash_flows,yld)\n",
    "modified_duration = modified_duration(duration,yld)"
   ]
  },
  {
   "cell_type": "code",
   "execution_count": null,
   "metadata": {
    "collapsed": true
   },
   "outputs": [],
   "source": [
    "modified_duration"
   ]
  },
  {
   "cell_type": "code",
   "execution_count": null,
   "metadata": {
    "collapsed": true
   },
   "outputs": [],
   "source": [
    "effective_duration(100,99.75,100.25,.01)"
   ]
  },
  {
   "cell_type": "code",
   "execution_count": null,
   "metadata": {
    "collapsed": true
   },
   "outputs": [],
   "source": [
    "speeds = [.5,1,2,5]\n",
    "curves = [pc.cpr_curve_creator()*np.array(speed) for speed in speeds]"
   ]
  },
  {
   "cell_type": "code",
   "execution_count": null,
   "metadata": {
    "collapsed": true
   },
   "outputs": [],
   "source": [
    "fig, ax = plt.subplots()\n",
    "for curve in curves:\n",
    "    print(ax.plot(curve))"
   ]
  },
  {
   "cell_type": "code",
   "execution_count": null,
   "metadata": {
    "collapsed": true
   },
   "outputs": [],
   "source": [
    "plt.show()"
   ]
  },
  {
   "cell_type": "code",
   "execution_count": null,
   "metadata": {
    "collapsed": true
   },
   "outputs": [],
   "source": [
    "def schedule_of_ending_balance_percent_for_period(rate, nper, age):\n",
    "    return (1. - ((((1 + rate) ** age) - 1.) /\n",
    "                  (((1 + rate) ** nper) - 1.)))"
   ]
  },
  {
   "cell_type": "code",
   "execution_count": null,
   "metadata": {
    "collapsed": true
   },
   "outputs": [],
   "source": [
    "def example_matrix_of_balance_outstanding_by_age_and_term():\n",
    "    coupon = 0.08\n",
    "    terms = [180,360]\n",
    "    ages = [24,48,72,96,120,144,168]\n",
    "    \n",
    "    df = pd.DataFrame(index=ages, columns=[terms]).unstack()\n",
    "    \n",
    "    return results"
   ]
  },
  {
   "cell_type": "code",
   "execution_count": null,
   "metadata": {
    "collapsed": true
   },
   "outputs": [],
   "source": [
    "results = {}\n",
    "\n",
    "coupon = 0.08/12.\n",
    "terms = [180,360]\n",
    "ages = [24,48,72,96,120,144,168]\n",
    "    \n",
    "for term in terms:\n",
    "    for age in ages:\n",
    "        results[term,age] = scheduled_balance_percent(\n",
    "        coupon, term, age)"
   ]
  },
  {
   "cell_type": "code",
   "execution_count": null,
   "metadata": {
    "collapsed": true
   },
   "outputs": [],
   "source": [
    "results"
   ]
  },
  {
   "cell_type": "code",
   "execution_count": null,
   "metadata": {
    "collapsed": true
   },
   "outputs": [],
   "source": [
    "original_balance=150000\n",
    "pass_thru_coupon=0.08\n",
    "wac=0.08\n",
    "wam=360\n",
    "\n",
    "first_wf = cw.create_waterfall(original_balance=original_balance, \n",
    "                               pass_thru_cpn=pass_thru_coupon,\n",
    "                              wac=wac,\n",
    "                              wam=wam,\n",
    "                              cpr_description='7')\n",
    "first_wf['CPR']=first_wf['SMM'].apply(pc.cpr)\n",
    "first_wf.head()"
   ]
  },
  {
   "cell_type": "code",
   "execution_count": null,
   "metadata": {
    "collapsed": true
   },
   "outputs": [],
   "source": [
    "original_balance=150000\n",
    "pass_thru_coupon=0.08\n",
    "wac=0.08\n",
    "wam=360\n",
    "\n",
    "second_wf = cw.create_waterfall(original_balance=original_balance, \n",
    "                               pass_thru_cpn=pass_thru_coupon,\n",
    "                              wac=wac,\n",
    "                              wam=wam,\n",
    "                              psa_speed=3)\n",
    "second_wf['CPR']=second_wf['SMM'].apply(pc.cpr)\n",
    "second_wf.head()"
   ]
  },
  {
   "cell_type": "code",
   "execution_count": null,
   "metadata": {
    "collapsed": true
   },
   "outputs": [],
   "source": [
    "def example_matrix_of_balance_outstanding_by_age_and_coupon():\n",
    "    coupon = list([0.06, 0.08, 0.10])\n",
    "    age = list([60, 120, 180, 240, 300, 359])\n",
    "\n",
    "    results = []\n",
    "    for i in coupon:\n",
    "        column = []\n",
    "        for j in age:\n",
    "            column.append(schedule_of_ending_balance_percent_for_period(i / 12, 360, j))\n",
    "        results.append(column)\n",
    "\n",
    "    df = pd.DataFrame(results).T\n",
    "    df.columns = coupon\n",
    "    df.index = age\n",
    "    return df"
   ]
  },
  {
   "cell_type": "code",
   "execution_count": 13,
   "metadata": {
    "collapsed": true
   },
   "outputs": [],
   "source": [
    "import numpy as np\n",
    "import pandas as pd\n",
    "import bond_pricing as bp"
   ]
  },
  {
   "cell_type": "code",
   "execution_count": 14,
   "metadata": {
    "collapsed": true
   },
   "outputs": [],
   "source": [
    "bonds = pd.DataFrame([\n",
    "    {'Face': 100, 'Maturity': 0.25, 'Coupon': 0, 'Price': 97.50},\n",
    "    {'Face': 100, 'Maturity': 0.5, 'Coupon': 0, 'Price': 94.90},\n",
    "    {'Face': 100, 'Maturity': 1.0, 'Coupon': 0, 'Price': 90.00},\n",
    "    {'Face': 100, 'Maturity': 1.5, 'Coupon': 8, 'Price': 96.00},\n",
    "    {'Face': 100, 'Maturity': 2.0, 'Coupon': 12, 'Price': 101.60}\n",
    "])\n",
    "\n",
    "bonds['coupon_freq'] = 1\n",
    "\n",
    "bonds = bp.BondPricing(bonds).bonds"
   ]
  },
  {
   "cell_type": "code",
   "execution_count": 15,
   "metadata": {
    "collapsed": true
   },
   "outputs": [],
   "source": [
    "bonds = pd.DataFrame([\n",
    "    {'Face': 100, 'Maturity': 1., 'Coupon': 7, 'Price': 100.},\n",
    "    {'Face': 100, 'Maturity': 2., 'Coupon': 8, 'Price': 100.},\n",
    "    {'Face': 100, 'Maturity': 3., 'Coupon': 9, 'Price': 100.},\n",
    "    {'Face': 100, 'Maturity': 4., 'Coupon': 10, 'Price': 100.}\n",
    "])\n",
    "\n",
    "bonds['coupon_freq'] = 1"
   ]
  },
  {
   "cell_type": "code",
   "execution_count": 16,
   "metadata": {
    "collapsed": false
   },
   "outputs": [
    {
     "data": {
      "text/html": [
       "<div>\n",
       "<table border=\"1\" class=\"dataframe\">\n",
       "  <thead>\n",
       "    <tr style=\"text-align: right;\">\n",
       "      <th></th>\n",
       "      <th>Coupon</th>\n",
       "      <th>Face</th>\n",
       "      <th>Maturity</th>\n",
       "      <th>Price</th>\n",
       "      <th>coupon_freq</th>\n",
       "    </tr>\n",
       "  </thead>\n",
       "  <tbody>\n",
       "    <tr>\n",
       "      <th>0</th>\n",
       "      <td>7</td>\n",
       "      <td>100</td>\n",
       "      <td>1.0</td>\n",
       "      <td>100.0</td>\n",
       "      <td>1</td>\n",
       "    </tr>\n",
       "    <tr>\n",
       "      <th>1</th>\n",
       "      <td>8</td>\n",
       "      <td>100</td>\n",
       "      <td>2.0</td>\n",
       "      <td>100.0</td>\n",
       "      <td>1</td>\n",
       "    </tr>\n",
       "    <tr>\n",
       "      <th>2</th>\n",
       "      <td>9</td>\n",
       "      <td>100</td>\n",
       "      <td>3.0</td>\n",
       "      <td>100.0</td>\n",
       "      <td>1</td>\n",
       "    </tr>\n",
       "    <tr>\n",
       "      <th>3</th>\n",
       "      <td>10</td>\n",
       "      <td>100</td>\n",
       "      <td>4.0</td>\n",
       "      <td>100.0</td>\n",
       "      <td>1</td>\n",
       "    </tr>\n",
       "  </tbody>\n",
       "</table>\n",
       "</div>"
      ],
      "text/plain": [
       "   Coupon  Face  Maturity  Price  coupon_freq\n",
       "0       7   100       1.0  100.0            1\n",
       "1       8   100       2.0  100.0            1\n",
       "2       9   100       3.0  100.0            1\n",
       "3      10   100       4.0  100.0            1"
      ]
     },
     "execution_count": 16,
     "metadata": {},
     "output_type": "execute_result"
    }
   ],
   "source": [
    "bonds"
   ]
  },
  {
   "cell_type": "code",
   "execution_count": 26,
   "metadata": {
    "collapsed": true
   },
   "outputs": [],
   "source": [
    "bonds = pd.DataFrame([\n",
    "    {'Maturity': 1., 'Yield': 7.},\n",
    "    {'Maturity': 2., 'Yield': 8.},\n",
    "    {'Maturity': 3., 'Yield': 9.},\n",
    "    {'Maturity': 4., 'Yield': 10.},\n",
    "])"
   ]
  },
  {
   "cell_type": "code",
   "execution_count": 27,
   "metadata": {
    "collapsed": true
   },
   "outputs": [],
   "source": [
    "def spot_from_par(bonds):\n",
    "    bonds.loc[0,'spot_rate'] = bonds.loc[0,'Yield']\n",
    "    for i in np.arange(1,len(bonds)):\n",
    "        result = 0\n",
    "        for j in range(i):\n",
    "            #print(i,j)\n",
    "            print('{0:.10f} / ( 1 + {1:.10f}/100)**({2:.0f})'.format(bonds.loc[i,'Yield'],\n",
    "                                                                       bonds.loc[j,'spot_rate'],\n",
    "                                                                       j+1))\n",
    "            a = bonds.loc[i,'Yield'] / (1. + bonds.loc[j,'spot_rate']/100.)**(j + 1.)\n",
    "            result += a\n",
    "        bonds.loc[i,'spot_rate'] = (((100.+bonds.loc[i,'Yield']) / (100. - result)) ** (1./ (i+1.)) - 1.) * 100\n",
    "    return bonds"
   ]
  },
  {
   "cell_type": "code",
   "execution_count": 28,
   "metadata": {
    "collapsed": false
   },
   "outputs": [
    {
     "name": "stdout",
     "output_type": "stream",
     "text": [
      "8.0000000000 / ( 1 + 7.0000000000/100)**(1)\n",
      "9.0000000000 / ( 1 + 7.0000000000/100)**(1)\n",
      "9.0000000000 / ( 1 + 8.0403964854/100)**(2)\n",
      "10.0000000000 / ( 1 + 7.0000000000/100)**(1)\n",
      "10.0000000000 / ( 1 + 8.0403964854/100)**(2)\n",
      "10.0000000000 / ( 1 + 9.1252553099/100)**(3)\n"
     ]
    }
   ],
   "source": [
    "a = spot_from_par(bonds)"
   ]
  },
  {
   "cell_type": "code",
   "execution_count": 47,
   "metadata": {
    "collapsed": false
   },
   "outputs": [
    {
     "name": "stdout",
     "output_type": "stream",
     "text": [
      "<class 'matplotlib.axes._subplots.AxesSubplot'>\n"
     ]
    },
    {
     "data": {
      "image/png": "[encoded data removed]",
      "text/plain": [
       "<matplotlib.figure.Figure at 0x250a27f7438>"
      ]
     },
     "metadata": {},
     "output_type": "display_data"
    },
    {
     "data": {
      "image/png": "[encoded data removed]",
      "text/plain": [
       "<matplotlib.figure.Figure at 0x250a2789c50>"
      ]
     },
     "metadata": {},
     "output_type": "display_data"
    }
   ],
   "source": [
    "fig,ax = plt.subplots()\n",
    "ax = a.plot(ax=ax,legend=False)\n",
    "print(type(ax))\n",
    "hl = ax.get_legend_handles_labels()\n",
    "\n",
    "fig.legend(hl[0],hl[1])\n",
    "\n",
    "plt.show()"
   ]
  },
  {
   "cell_type": "code",
   "execution_count": 49,
   "metadata": {
    "collapsed": false
   },
   "outputs": [
    {
     "name": "stdout",
     "output_type": "stream",
     "text": [
      "['Maturity', 'Yield', 'spot_rate']\n"
     ]
    }
   ],
   "source": [
    "print(hl[1])"
   ]
  },
  {
   "cell_type": "code",
   "execution_count": 190,
   "metadata": {
    "collapsed": false
   },
   "outputs": [
    {
     "data": {
      "text/plain": [
       "7.710280373834972"
      ]
     },
     "execution_count": 190,
     "metadata": {},
     "output_type": "execute_result"
    }
   ],
   "source": [
    "9.0000000000 / ( 1 + 8.0403964854/100.)**(1 + 1)"
   ]
  },
  {
   "cell_type": "code",
   "execution_count": 203,
   "metadata": {
    "collapsed": false
   },
   "outputs": [
    {
     "data": {
      "text/plain": [
       "1.080403964854224"
      ]
     },
     "execution_count": 203,
     "metadata": {},
     "output_type": "execute_result"
    }
   ],
   "source": [
    "c ** .5"
   ]
  },
  {
   "cell_type": "code",
   "execution_count": 166,
   "metadata": {
    "collapsed": false
   },
   "outputs": [
    {
     "data": {
      "text/plain": [
       "16.121495327106"
      ]
     },
     "execution_count": 166,
     "metadata": {},
     "output_type": "execute_result"
    }
   ],
   "source": [
    "9/b + 9.0000000000 / ( 1 + 8.0403964854/100)**(1 + 1)"
   ]
  },
  {
   "cell_type": "code",
   "execution_count": 64,
   "metadata": {
    "collapsed": true
   },
   "outputs": [],
   "source": [
    "b= 1.07"
   ]
  },
  {
   "cell_type": "code",
   "execution_count": 65,
   "metadata": {
    "collapsed": true
   },
   "outputs": [],
   "source": [
    "c = (108 / (100 - (8 / b)))"
   ]
  },
  {
   "cell_type": "code",
   "execution_count": null,
   "metadata": {
    "collapsed": true
   },
   "outputs": [],
   "source": []
  },
  {
   "cell_type": "code",
   "execution_count": 66,
   "metadata": {
    "collapsed": true
   },
   "outputs": [],
   "source": [
    "d = (109 / (100 - (9/c + 9/b)))"
   ]
  },
  {
   "cell_type": "code",
   "execution_count": 75,
   "metadata": {
    "collapsed": true
   },
   "outputs": [],
   "source": [
    "e = (110 / (100 - (10/d + 10/c + 10/b)))"
   ]
  },
  {
   "cell_type": "code",
   "execution_count": 77,
   "metadata": {
    "collapsed": false
   },
   "outputs": [
    {
     "data": {
      "text/html": [
       "<div>\n",
       "<table border=\"1\" class=\"dataframe\">\n",
       "  <thead>\n",
       "    <tr style=\"text-align: right;\">\n",
       "      <th></th>\n",
       "      <th>Maturity</th>\n",
       "      <th>Yield</th>\n",
       "      <th>spot_rate</th>\n",
       "    </tr>\n",
       "  </thead>\n",
       "  <tbody>\n",
       "    <tr>\n",
       "      <th>0</th>\n",
       "      <td>1.0</td>\n",
       "      <td>7.0</td>\n",
       "      <td>7.000000</td>\n",
       "    </tr>\n",
       "    <tr>\n",
       "      <th>1</th>\n",
       "      <td>2.0</td>\n",
       "      <td>8.0</td>\n",
       "      <td>8.040396</td>\n",
       "    </tr>\n",
       "    <tr>\n",
       "      <th>2</th>\n",
       "      <td>3.0</td>\n",
       "      <td>9.0</td>\n",
       "      <td>9.127757</td>\n",
       "    </tr>\n",
       "    <tr>\n",
       "      <th>3</th>\n",
       "      <td>4.0</td>\n",
       "      <td>10.0</td>\n",
       "      <td>10.284585</td>\n",
       "    </tr>\n",
       "  </tbody>\n",
       "</table>\n",
       "</div>"
      ],
      "text/plain": [
       "   Maturity  Yield  spot_rate\n",
       "0       1.0    7.0   7.000000\n",
       "1       2.0    8.0   8.040396\n",
       "2       3.0    9.0   9.127757\n",
       "3       4.0   10.0  10.284585"
      ]
     },
     "execution_count": 77,
     "metadata": {},
     "output_type": "execute_result"
    }
   ],
   "source": [
    "a"
   ]
  },
  {
   "cell_type": "code",
   "execution_count": 76,
   "metadata": {
    "collapsed": false
   },
   "outputs": [
    {
     "name": "stdout",
     "output_type": "stream",
     "text": [
      "1.07 1.080403964854224 1.0912525530985964 1.102723634972019\n"
     ]
    }
   ],
   "source": [
    "print(b, c**.5, d**(1/3),e**.25 )"
   ]
  },
  {
   "cell_type": "code",
   "execution_count": 11,
   "metadata": {
    "collapsed": true
   },
   "outputs": [],
   "source": [
    "import collateral_waterfall as cw\n",
    "import prepayment_calcs as pc\n",
    "import bond_pricing as bp\n",
    "import scipy.interpolate as interpolate"
   ]
  },
  {
   "cell_type": "code",
   "execution_count": 15,
   "metadata": {
    "collapsed": false
   },
   "outputs": [
    {
     "name": "stdout",
     "output_type": "stream",
     "text": [
      "8.0000000000 / ( 1 + 7.0000000000/100)**(1)\n",
      "9.0000000000 / ( 1 + 7.0000000000/100)**(1)\n",
      "9.0000000000 / ( 1 + 8.0403964854/100)**(2)\n",
      "10.0000000000 / ( 1 + 7.0000000000/100)**(1)\n",
      "10.0000000000 / ( 1 + 8.0403964854/100)**(2)\n",
      "10.0000000000 / ( 1 + 9.1252553099/100)**(3)\n"
     ]
    }
   ],
   "source": [
    "spot_curve = bp.BondPricing.spot_from_par()"
   ]
  },
  {
   "cell_type": "code",
   "execution_count": 108,
   "metadata": {
    "collapsed": false
   },
   "outputs": [],
   "source": [
    "def forward_rates(spot_curve):\n",
    "    maturities = spot_curve['Maturity']\n",
    "    spots = spot_curve['spot_rate']\n",
    "    \n",
    "    if len(maturities) != len(spots):\n",
    "        raise AttributeError('maturity and rate vector lengths must match')\n",
    "\n",
    "    size = len(spots) -1\n",
    "    forward = maturities[1:] - maturities[0]\n",
    "    forward.name = 'Forward'\n",
    "    print(forward)\n",
    "    frame = pd.DataFrame(np.full((size,size),np.nan),columns=forward,index=maturities[:-1])\n",
    "\n",
    "    for i in range(len(maturities)-1):\n",
    "        for j in range(1,len(maturities)):\n",
    "            #print(i,j)\n",
    "            try:\n",
    "                r2 = spots[i+j] / 100\n",
    "                r1 = spots[i] / 100\n",
    "                t2 = maturities[i+j]\n",
    "                t1 = maturities[i]\n",
    "\n",
    "                forward_rate = ((((1 + r2)**t2) / ((1 + r1)**t1)) ** (1/(t2-t1)) - 1) * 100\n",
    "                frame.loc[t2-t1, t1] = forward_rate\n",
    "                #print('r2: {}\\nr1: {}\\nt2: {}\\nt1:{}'.format(r2,r1,t2,t1))\n",
    "            except:\n",
    "                pass\n",
    "                #print('loop')\n",
    "\n",
    "    return frame"
   ]
  },
  {
   "cell_type": "code",
   "execution_count": 109,
   "metadata": {
    "collapsed": false
   },
   "outputs": [
    {
     "name": "stdout",
     "output_type": "stream",
     "text": [
      "1    1.0\n",
      "2    2.0\n",
      "3    3.0\n",
      "Name: Forward, dtype: float64\n"
     ]
    }
   ],
   "source": [
    "forwards = forward_rates(spot_curve)"
   ]
  },
  {
   "cell_type": "code",
   "execution_count": 110,
   "metadata": {
    "collapsed": false,
    "scrolled": true
   },
   "outputs": [
    {
     "name": "stdout",
     "output_type": "stream",
     "text": [
      "1    1.0\n",
      "2    2.0\n",
      "3    9.0\n",
      "Name: Forward, dtype: float64\n"
     ]
    }
   ],
   "source": [
    "spot_curve2 = spot_curve.copy()\n",
    "spot_curve2.loc[2,'spot_rate'] = 11\n",
    "spot_curve2.loc[3,'Maturity'] = 10\n",
    "forwards = forward_rates(spot_curve2)"
   ]
  },
  {
   "cell_type": "code",
   "execution_count": 103,
   "metadata": {
    "collapsed": false
   },
   "outputs": [
    {
     "data": {
      "text/html": [
       "<div>\n",
       "<table border=\"1\" class=\"dataframe\">\n",
       "  <thead>\n",
       "    <tr style=\"text-align: right;\">\n",
       "      <th>Forward</th>\n",
       "      <th>1.0</th>\n",
       "      <th>2.0</th>\n",
       "      <th>9.0</th>\n",
       "      <th>3.0</th>\n",
       "    </tr>\n",
       "    <tr>\n",
       "      <th>Maturity</th>\n",
       "      <th></th>\n",
       "      <th></th>\n",
       "      <th></th>\n",
       "      <th></th>\n",
       "    </tr>\n",
       "  </thead>\n",
       "  <tbody>\n",
       "    <tr>\n",
       "      <th>1.0</th>\n",
       "      <td>9.090909</td>\n",
       "      <td>17.164650</td>\n",
       "      <td>NaN</td>\n",
       "      <td>NaN</td>\n",
       "    </tr>\n",
       "    <tr>\n",
       "      <th>2.0</th>\n",
       "      <td>13.055730</td>\n",
       "      <td>NaN</td>\n",
       "      <td>NaN</td>\n",
       "      <td>NaN</td>\n",
       "    </tr>\n",
       "    <tr>\n",
       "      <th>3.0</th>\n",
       "      <td>NaN</td>\n",
       "      <td>NaN</td>\n",
       "      <td>NaN</td>\n",
       "      <td>NaN</td>\n",
       "    </tr>\n",
       "    <tr>\n",
       "      <th>9.0</th>\n",
       "      <td>10.642082</td>\n",
       "      <td>NaN</td>\n",
       "      <td>NaN</td>\n",
       "      <td>NaN</td>\n",
       "    </tr>\n",
       "    <tr>\n",
       "      <th>8.0</th>\n",
       "      <td>NaN</td>\n",
       "      <td>10.837523</td>\n",
       "      <td>NaN</td>\n",
       "      <td>NaN</td>\n",
       "    </tr>\n",
       "    <tr>\n",
       "      <th>7.0</th>\n",
       "      <td>NaN</td>\n",
       "      <td>NaN</td>\n",
       "      <td>NaN</td>\n",
       "      <td>9.961981</td>\n",
       "    </tr>\n",
       "  </tbody>\n",
       "</table>\n",
       "</div>"
      ],
      "text/plain": [
       "Forward         1.0        2.0  9.0       3.0\n",
       "Maturity                                     \n",
       "1.0        9.090909  17.164650  NaN       NaN\n",
       "2.0       13.055730        NaN  NaN       NaN\n",
       "3.0             NaN        NaN  NaN       NaN\n",
       "9.0       10.642082        NaN  NaN       NaN\n",
       "8.0             NaN  10.837523  NaN       NaN\n",
       "7.0             NaN        NaN  NaN  9.961981"
      ]
     },
     "execution_count": 103,
     "metadata": {},
     "output_type": "execute_result"
    }
   ],
   "source": [
    "forwards"
   ]
  },
  {
   "cell_type": "code",
   "execution_count": 2,
   "metadata": {
    "collapsed": false
   },
   "outputs": [
    {
     "ename": "FileNotFoundError",
     "evalue": "No such file: 'mbs waterfall.xlsx'",
     "output_type": "error",
     "traceback": [
      "\u001b[0;31m---------------------------------------------------------------------------\u001b[0m",
      "\u001b[0;31mFileNotFoundError\u001b[0m                         Traceback (most recent call last)",
      "\u001b[0;32m<ipython-input-2-ea66ed0d9c7b>\u001b[0m in \u001b[0;36m<module>\u001b[0;34m()\u001b[0m\n\u001b[1;32m      1\u001b[0m \u001b[0;32mimport\u001b[0m \u001b[0mxlwings\u001b[0m \u001b[0;32mas\u001b[0m \u001b[0mxw\u001b[0m\u001b[0;34m\u001b[0m\u001b[0m\n\u001b[1;32m      2\u001b[0m \u001b[0;32mimport\u001b[0m \u001b[0mcollateral_waterfall\u001b[0m \u001b[0;32mas\u001b[0m \u001b[0mcw\u001b[0m\u001b[0;34m\u001b[0m\u001b[0m\n\u001b[0;32m----> 3\u001b[0;31m \u001b[0mwb\u001b[0m \u001b[0;34m=\u001b[0m \u001b[0mxw\u001b[0m\u001b[0;34m.\u001b[0m\u001b[0mBook\u001b[0m\u001b[0;34m(\u001b[0m\u001b[0;34m'mbs waterfall.xlsx'\u001b[0m\u001b[0;34m)\u001b[0m\u001b[0;34m\u001b[0m\u001b[0m\n\u001b[0m",
      "\u001b[0;32m/Users/ab4017/anaconda/lib/python3.6/site-packages/xlwings/main.py\u001b[0m in \u001b[0;36m__init__\u001b[0;34m(self, fullname, impl)\u001b[0m\n\u001b[1;32m    478\u001b[0m                     \u001b[0;32mif\u001b[0m \u001b[0;32mnot\u001b[0m \u001b[0mapp\u001b[0m\u001b[0;34m:\u001b[0m\u001b[0;34m\u001b[0m\u001b[0m\n\u001b[1;32m    479\u001b[0m                         \u001b[0mapp\u001b[0m \u001b[0;34m=\u001b[0m \u001b[0mApp\u001b[0m\u001b[0;34m(\u001b[0m\u001b[0madd_book\u001b[0m\u001b[0;34m=\u001b[0m\u001b[0;32mFalse\u001b[0m\u001b[0;34m)\u001b[0m\u001b[0;34m\u001b[0m\u001b[0m\n\u001b[0;32m--> 480\u001b[0;31m                     \u001b[0mimpl\u001b[0m \u001b[0;34m=\u001b[0m \u001b[0mapp\u001b[0m\u001b[0;34m.\u001b[0m\u001b[0mbooks\u001b[0m\u001b[0;34m.\u001b[0m\u001b[0mopen\u001b[0m\u001b[0;34m(\u001b[0m\u001b[0mfullname\u001b[0m\u001b[0;34m)\u001b[0m\u001b[0;34m.\u001b[0m\u001b[0mimpl\u001b[0m\u001b[0;34m\u001b[0m\u001b[0m\n\u001b[0m\u001b[1;32m    481\u001b[0m                 \u001b[0;32melif\u001b[0m \u001b[0mlen\u001b[0m\u001b[0;34m(\u001b[0m\u001b[0mcandidates\u001b[0m\u001b[0;34m)\u001b[0m \u001b[0;34m>\u001b[0m \u001b[0;36m1\u001b[0m\u001b[0;34m:\u001b[0m\u001b[0;34m\u001b[0m\u001b[0m\n\u001b[1;32m    482\u001b[0m                     \u001b[0;32mraise\u001b[0m \u001b[0mException\u001b[0m\u001b[0;34m(\u001b[0m\u001b[0;34m\"Workbook '%s' is open in more than one Excel instance.\"\u001b[0m \u001b[0;34m%\u001b[0m \u001b[0mfullname\u001b[0m\u001b[0;34m)\u001b[0m\u001b[0;34m\u001b[0m\u001b[0m\n",
      "\u001b[0;32m/Users/ab4017/anaconda/lib/python3.6/site-packages/xlwings/main.py\u001b[0m in \u001b[0;36mopen\u001b[0;34m(self, fullname)\u001b[0m\n\u001b[1;32m   2735\u001b[0m         \u001b[0;32mif\u001b[0m \u001b[0;32mnot\u001b[0m \u001b[0mos\u001b[0m\u001b[0;34m.\u001b[0m\u001b[0mpath\u001b[0m\u001b[0;34m.\u001b[0m\u001b[0mexists\u001b[0m\u001b[0;34m(\u001b[0m\u001b[0mfullname\u001b[0m\u001b[0;34m)\u001b[0m\u001b[0;34m:\u001b[0m\u001b[0;34m\u001b[0m\u001b[0m\n\u001b[1;32m   2736\u001b[0m             \u001b[0;32mif\u001b[0m \u001b[0mPY3\u001b[0m\u001b[0;34m:\u001b[0m\u001b[0;34m\u001b[0m\u001b[0m\n\u001b[0;32m-> 2737\u001b[0;31m                 \u001b[0;32mraise\u001b[0m \u001b[0mFileNotFoundError\u001b[0m\u001b[0;34m(\u001b[0m\u001b[0;34m\"No such file: '%s'\"\u001b[0m \u001b[0;34m%\u001b[0m \u001b[0mfullname\u001b[0m\u001b[0;34m)\u001b[0m\u001b[0;34m\u001b[0m\u001b[0m\n\u001b[0m\u001b[1;32m   2738\u001b[0m             \u001b[0;32melse\u001b[0m\u001b[0;34m:\u001b[0m\u001b[0;34m\u001b[0m\u001b[0m\n\u001b[1;32m   2739\u001b[0m                 \u001b[0;32mraise\u001b[0m \u001b[0mIOError\u001b[0m\u001b[0;34m(\u001b[0m\u001b[0;34m\"No such file: '%s'\"\u001b[0m \u001b[0;34m%\u001b[0m \u001b[0mfullname\u001b[0m\u001b[0;34m)\u001b[0m\u001b[0;34m\u001b[0m\u001b[0m\n",
      "\u001b[0;31mFileNotFoundError\u001b[0m: No such file: 'mbs waterfall.xlsx'"
     ]
    }
   ],
   "source": [
    "import xlwings as xw\n",
    "import collateral_waterfall as cw\n",
    "wb = xw.Book('mbs waterfall.xlsx')"
   ]
  },
  {
   "cell_type": "code",
   "execution_count": 50,
   "metadata": {
    "collapsed": false
   },
   "outputs": [],
   "source": [
    "sheet1 = wb.sheets(1)\n",
    "values = sheet1.range('B1:B6').value\n",
    "\n",
    "balance = values[0]\n",
    "WAM = int(values[1])\n",
    "WAC = values[2]\n",
    "ptc = values[3]\n",
    "speed = values[4]\n",
    "cpr = values[5]\n",
    "\n",
    "anchor = sheet1.range('A9')\n",
    "\n",
    "waterfall = cw.create_waterfall(original_balance=balance,\n",
    "                               wam=WAM,\n",
    "                               wac=WAC,\n",
    "                               pass_thru_cpn=ptc,\n",
    "                               psa_speed=speed,\n",
    "                               cpr_description=cpr)\n",
    "anchor.expand().value = \"\"\n",
    "anchor.value = waterfall"
   ]
  },
  {
   "cell_type": "code",
   "execution_count": 51,
   "metadata": {
    "collapsed": false
   },
   "outputs": [],
   "source": [
    "plt.close()\n",
    "ax = waterfall['beginning_balance'].plot()\n",
    "fig = ax.get_figure()"
   ]
  },
  {
   "cell_type": "code",
   "execution_count": 52,
   "metadata": {
    "collapsed": false
   },
   "outputs": [
    {
     "data": {
      "text/plain": [
       "<Picture 'Adam' in <Sheet [mbs waterfall.xlsx]Sheet1>>"
      ]
     },
     "execution_count": 52,
     "metadata": {},
     "output_type": "execute_result"
    }
   ],
   "source": [
    "sheet1.pictures.add(fig, name='Adam',update=True)"
   ]
  },
  {
   "cell_type": "code",
   "execution_count": 53,
   "metadata": {
    "collapsed": true
   },
   "outputs": [],
   "source": [
    "wb = xw.Book()"
   ]
  },
  {
   "cell_type": "code",
   "execution_count": 142,
   "metadata": {
    "collapsed": false
   },
   "outputs": [
    {
     "data": {
      "text/html": [
       "<div>\n",
       "<table border=\"1\" class=\"dataframe\">\n",
       "  <thead>\n",
       "    <tr style=\"text-align: right;\">\n",
       "      <th></th>\n",
       "      <th>Yield</th>\n",
       "    </tr>\n",
       "    <tr>\n",
       "      <th>Date</th>\n",
       "      <th></th>\n",
       "    </tr>\n",
       "  </thead>\n",
       "  <tbody>\n",
       "    <tr>\n",
       "      <th>1995-02-13</th>\n",
       "      <td>6.82</td>\n",
       "    </tr>\n",
       "    <tr>\n",
       "      <th>1995-02-14</th>\n",
       "      <td>6.73</td>\n",
       "    </tr>\n",
       "    <tr>\n",
       "      <th>1995-02-15</th>\n",
       "      <td>6.64</td>\n",
       "    </tr>\n",
       "    <tr>\n",
       "      <th>1995-02-16</th>\n",
       "      <td>6.57</td>\n",
       "    </tr>\n",
       "    <tr>\n",
       "      <th>1995-02-17</th>\n",
       "      <td>6.61</td>\n",
       "    </tr>\n",
       "  </tbody>\n",
       "</table>\n",
       "</div>"
      ],
      "text/plain": [
       "            Yield\n",
       "Date             \n",
       "1995-02-13   6.82\n",
       "1995-02-14   6.73\n",
       "1995-02-15   6.64\n",
       "1995-02-16   6.57\n",
       "1995-02-17   6.61"
      ]
     },
     "execution_count": 142,
     "metadata": {},
     "output_type": "execute_result"
    }
   ],
   "source": [
    "OneYear = wb.sheets(1).range('OneYear').expand().options(pd.DataFrame).value\n",
    "ThirtyYear = wb.sheets(1).range('ThirtyYear').expand().options(pd.DataFrame).value\n",
    "OneYear.head()"
   ]
  },
  {
   "cell_type": "code",
   "execution_count": 141,
   "metadata": {
    "collapsed": false
   },
   "outputs": [
    {
     "data": {
      "text/plain": [
       "<Picture 'Picture 26' in <Sheet [Book1]Sheet1>>"
      ]
     },
     "execution_count": 141,
     "metadata": {},
     "output_type": "execute_result"
    }
   ],
   "source": [
    "plt.close()\n",
    "ax1=None\n",
    "ax2=None\n",
    "fig1=None\n",
    "fig2=None\n",
    "ax1 = (OneYear/OneYear.shift(1)-1).plot()\n",
    "ax1 = (ThirtyYear/ThirtyYear.shift(1)-1).plot(ax=ax1)\n",
    "ax2 = (OneYear/OneYear[:1].values[0]).plot()\n",
    "ax2 = (ThirtyYear/ThirtyYear[:1].values[0]).plot(ax=ax2)\n",
    "\n",
    "fig1 = ax1.get_figure()\n",
    "fig2 = ax2.get_figure()\n",
    "\n",
    "wb.sheets(1).pictures.add(fig1)\n",
    "wb.sheets(1).pictures.add(fig2)\n"
   ]
  },
  {
   "cell_type": "code",
   "execution_count": 245,
   "metadata": {
    "collapsed": false
   },
   "outputs": [],
   "source": [
    "from IPython import display\n",
    "def ex_4_3(quotes):\n",
    "    df = pd.DataFrame(data=quotes,index=quotes.index, columns=['Yield'])\n",
    "    df['Y_i/Y_i-1'] = quotes / quotes.shift(1)\n",
    "    df['ln(Y_i/Y_i-1)'] = np.log(df['Y_i/Y_i-1'])\n",
    "    stats = df.describe()\n",
    "    stats.loc['ann_std'] = stats.ix['std'] * np.sqrt(250)\n",
    "    stats = stats.loc[['mean','std','ann_std']]\n",
    "    SD_in_BP = stats.loc['mean','Yield'] * stats.loc['ann_std','ln(Y_i/Y_i-1)'] * 100\n",
    "    return df, stats, SD_in_BP"
   ]
  },
  {
   "cell_type": "code",
   "execution_count": 248,
   "metadata": {
    "collapsed": false
   },
   "outputs": [
    {
     "data": {
      "text/html": [
       "<div>\n",
       "<table border=\"1\" class=\"dataframe\">\n",
       "  <thead>\n",
       "    <tr style=\"text-align: right;\">\n",
       "      <th></th>\n",
       "      <th>Yield</th>\n",
       "      <th>Y_i/Y_i-1</th>\n",
       "      <th>ln(Y_i/Y_i-1)</th>\n",
       "    </tr>\n",
       "    <tr>\n",
       "      <th>Date</th>\n",
       "      <th></th>\n",
       "      <th></th>\n",
       "      <th></th>\n",
       "    </tr>\n",
       "  </thead>\n",
       "  <tbody>\n",
       "    <tr>\n",
       "      <th>1995-02-13</th>\n",
       "      <td>6.82</td>\n",
       "      <td>NaN</td>\n",
       "      <td>NaN</td>\n",
       "    </tr>\n",
       "    <tr>\n",
       "      <th>1995-02-14</th>\n",
       "      <td>6.73</td>\n",
       "      <td>0.986804</td>\n",
       "      <td>-0.013284</td>\n",
       "    </tr>\n",
       "    <tr>\n",
       "      <th>1995-02-15</th>\n",
       "      <td>6.64</td>\n",
       "      <td>0.986627</td>\n",
       "      <td>-0.013463</td>\n",
       "    </tr>\n",
       "    <tr>\n",
       "      <th>1995-02-16</th>\n",
       "      <td>6.57</td>\n",
       "      <td>0.989458</td>\n",
       "      <td>-0.010598</td>\n",
       "    </tr>\n",
       "    <tr>\n",
       "      <th>1995-02-17</th>\n",
       "      <td>6.61</td>\n",
       "      <td>1.006088</td>\n",
       "      <td>0.006070</td>\n",
       "    </tr>\n",
       "    <tr>\n",
       "      <th>1995-02-20</th>\n",
       "      <td>6.60</td>\n",
       "      <td>0.998487</td>\n",
       "      <td>-0.001514</td>\n",
       "    </tr>\n",
       "    <tr>\n",
       "      <th>1995-02-21</th>\n",
       "      <td>6.65</td>\n",
       "      <td>1.007576</td>\n",
       "      <td>0.007547</td>\n",
       "    </tr>\n",
       "    <tr>\n",
       "      <th>1995-02-22</th>\n",
       "      <td>6.46</td>\n",
       "      <td>0.971429</td>\n",
       "      <td>-0.028988</td>\n",
       "    </tr>\n",
       "    <tr>\n",
       "      <th>1995-02-23</th>\n",
       "      <td>6.50</td>\n",
       "      <td>1.006192</td>\n",
       "      <td>0.006173</td>\n",
       "    </tr>\n",
       "    <tr>\n",
       "      <th>1995-02-24</th>\n",
       "      <td>6.47</td>\n",
       "      <td>0.995385</td>\n",
       "      <td>-0.004626</td>\n",
       "    </tr>\n",
       "  </tbody>\n",
       "</table>\n",
       "</div>"
      ],
      "text/plain": [
       "            Yield  Y_i/Y_i-1  ln(Y_i/Y_i-1)\n",
       "Date                                       \n",
       "1995-02-13   6.82        NaN            NaN\n",
       "1995-02-14   6.73   0.986804      -0.013284\n",
       "1995-02-15   6.64   0.986627      -0.013463\n",
       "1995-02-16   6.57   0.989458      -0.010598\n",
       "1995-02-17   6.61   1.006088       0.006070\n",
       "1995-02-20   6.60   0.998487      -0.001514\n",
       "1995-02-21   6.65   1.007576       0.007547\n",
       "1995-02-22   6.46   0.971429      -0.028988\n",
       "1995-02-23   6.50   1.006192       0.006173\n",
       "1995-02-24   6.47   0.995385      -0.004626"
      ]
     },
     "metadata": {},
     "output_type": "display_data"
    },
    {
     "data": {
      "text/html": [
       "<div>\n",
       "<table border=\"1\" class=\"dataframe\">\n",
       "  <thead>\n",
       "    <tr style=\"text-align: right;\">\n",
       "      <th></th>\n",
       "      <th>Yield</th>\n",
       "      <th>Y_i/Y_i-1</th>\n",
       "      <th>ln(Y_i/Y_i-1)</th>\n",
       "    </tr>\n",
       "  </thead>\n",
       "  <tbody>\n",
       "    <tr>\n",
       "      <th>mean</th>\n",
       "      <td>6.605000</td>\n",
       "      <td>0.994227</td>\n",
       "      <td>-0.005854</td>\n",
       "    </tr>\n",
       "    <tr>\n",
       "      <th>std</th>\n",
       "      <td>0.113847</td>\n",
       "      <td>0.011921</td>\n",
       "      <td>0.012029</td>\n",
       "    </tr>\n",
       "    <tr>\n",
       "      <th>ann_std</th>\n",
       "      <td>1.800077</td>\n",
       "      <td>0.188490</td>\n",
       "      <td>0.190192</td>\n",
       "    </tr>\n",
       "  </tbody>\n",
       "</table>\n",
       "</div>"
      ],
      "text/plain": [
       "            Yield  Y_i/Y_i-1  ln(Y_i/Y_i-1)\n",
       "mean     6.605000   0.994227      -0.005854\n",
       "std      0.113847   0.011921       0.012029\n",
       "ann_std  1.800077   0.188490       0.190192"
      ]
     },
     "metadata": {},
     "output_type": "display_data"
    },
    {
     "data": {
      "text/plain": [
       "1.2562178068871441"
      ]
     },
     "metadata": {},
     "output_type": "display_data"
    },
    {
     "data": {
      "text/html": [
       "<div>\n",
       "<table border=\"1\" class=\"dataframe\">\n",
       "  <thead>\n",
       "    <tr style=\"text-align: right;\">\n",
       "      <th></th>\n",
       "      <th>Yield</th>\n",
       "      <th>Y_i/Y_i-1</th>\n",
       "      <th>ln(Y_i/Y_i-1)</th>\n",
       "    </tr>\n",
       "    <tr>\n",
       "      <th>Date</th>\n",
       "      <th></th>\n",
       "      <th></th>\n",
       "      <th></th>\n",
       "    </tr>\n",
       "  </thead>\n",
       "  <tbody>\n",
       "    <tr>\n",
       "      <th>1995-02-13</th>\n",
       "      <td>7.67</td>\n",
       "      <td>NaN</td>\n",
       "      <td>NaN</td>\n",
       "    </tr>\n",
       "    <tr>\n",
       "      <th>1995-02-14</th>\n",
       "      <td>7.61</td>\n",
       "      <td>0.992177</td>\n",
       "      <td>-0.007853</td>\n",
       "    </tr>\n",
       "    <tr>\n",
       "      <th>1995-02-15</th>\n",
       "      <td>7.56</td>\n",
       "      <td>0.993430</td>\n",
       "      <td>-0.006592</td>\n",
       "    </tr>\n",
       "    <tr>\n",
       "      <th>1995-02-16</th>\n",
       "      <td>7.57</td>\n",
       "      <td>1.001323</td>\n",
       "      <td>0.001322</td>\n",
       "    </tr>\n",
       "    <tr>\n",
       "      <th>1995-02-17</th>\n",
       "      <td>7.59</td>\n",
       "      <td>1.002642</td>\n",
       "      <td>0.002639</td>\n",
       "    </tr>\n",
       "    <tr>\n",
       "      <th>1995-02-20</th>\n",
       "      <td>7.59</td>\n",
       "      <td>1.000000</td>\n",
       "      <td>0.000000</td>\n",
       "    </tr>\n",
       "    <tr>\n",
       "      <th>1995-02-21</th>\n",
       "      <td>7.61</td>\n",
       "      <td>1.002635</td>\n",
       "      <td>0.002632</td>\n",
       "    </tr>\n",
       "    <tr>\n",
       "      <th>1995-02-22</th>\n",
       "      <td>7.54</td>\n",
       "      <td>0.990802</td>\n",
       "      <td>-0.009241</td>\n",
       "    </tr>\n",
       "    <tr>\n",
       "      <th>1995-02-23</th>\n",
       "      <td>7.55</td>\n",
       "      <td>1.001326</td>\n",
       "      <td>0.001325</td>\n",
       "    </tr>\n",
       "    <tr>\n",
       "      <th>1995-02-24</th>\n",
       "      <td>7.53</td>\n",
       "      <td>0.997351</td>\n",
       "      <td>-0.002653</td>\n",
       "    </tr>\n",
       "  </tbody>\n",
       "</table>\n",
       "</div>"
      ],
      "text/plain": [
       "            Yield  Y_i/Y_i-1  ln(Y_i/Y_i-1)\n",
       "Date                                       \n",
       "1995-02-13   7.67        NaN            NaN\n",
       "1995-02-14   7.61   0.992177      -0.007853\n",
       "1995-02-15   7.56   0.993430      -0.006592\n",
       "1995-02-16   7.57   1.001323       0.001322\n",
       "1995-02-17   7.59   1.002642       0.002639\n",
       "1995-02-20   7.59   1.000000       0.000000\n",
       "1995-02-21   7.61   1.002635       0.002632\n",
       "1995-02-22   7.54   0.990802      -0.009241\n",
       "1995-02-23   7.55   1.001326       0.001325\n",
       "1995-02-24   7.53   0.997351      -0.002653"
      ]
     },
     "metadata": {},
     "output_type": "display_data"
    },
    {
     "data": {
      "text/html": [
       "<div>\n",
       "<table border=\"1\" class=\"dataframe\">\n",
       "  <thead>\n",
       "    <tr style=\"text-align: right;\">\n",
       "      <th></th>\n",
       "      <th>Yield</th>\n",
       "      <th>Y_i/Y_i-1</th>\n",
       "      <th>ln(Y_i/Y_i-1)</th>\n",
       "    </tr>\n",
       "  </thead>\n",
       "  <tbody>\n",
       "    <tr>\n",
       "      <th>mean</th>\n",
       "      <td>7.582000</td>\n",
       "      <td>0.997965</td>\n",
       "      <td>-0.002047</td>\n",
       "    </tr>\n",
       "    <tr>\n",
       "      <th>std</th>\n",
       "      <td>0.041580</td>\n",
       "      <td>0.004692</td>\n",
       "      <td>0.004707</td>\n",
       "    </tr>\n",
       "    <tr>\n",
       "      <th>ann_std</th>\n",
       "      <td>0.657436</td>\n",
       "      <td>0.074195</td>\n",
       "      <td>0.074424</td>\n",
       "    </tr>\n",
       "  </tbody>\n",
       "</table>\n",
       "</div>"
      ],
      "text/plain": [
       "            Yield  Y_i/Y_i-1  ln(Y_i/Y_i-1)\n",
       "mean     7.582000   0.997965      -0.002047\n",
       "std      0.041580   0.004692       0.004707\n",
       "ann_std  0.657436   0.074195       0.074424"
      ]
     },
     "metadata": {},
     "output_type": "display_data"
    },
    {
     "data": {
      "text/plain": [
       "0.5642855091055845"
      ]
     },
     "metadata": {},
     "output_type": "display_data"
    }
   ],
   "source": [
    "df, stats, SD_in_BP = ex_4_3(OneYear)\n",
    "display.display(df, stats, SD_in_BP)\n",
    "df, stats, SD_in_BP = ex_4_3(ThirtyYear)\n",
    "display.display(df, stats, SD_in_BP)\n"
   ]
  },
  {
   "cell_type": "code",
   "execution_count": 247,
   "metadata": {
    "collapsed": false
   },
   "outputs": [
    {
     "data": {
      "text/html": [
       "<div>\n",
       "<table border=\"1\" class=\"dataframe\">\n",
       "  <thead>\n",
       "    <tr style=\"text-align: right;\">\n",
       "      <th></th>\n",
       "      <th>Yield</th>\n",
       "      <th>Y_i/Y_i-1</th>\n",
       "      <th>ln(Y_i/Y_i-1)</th>\n",
       "    </tr>\n",
       "    <tr>\n",
       "      <th>Date</th>\n",
       "      <th></th>\n",
       "      <th></th>\n",
       "      <th></th>\n",
       "    </tr>\n",
       "  </thead>\n",
       "  <tbody>\n",
       "    <tr>\n",
       "      <th>1995-02-13</th>\n",
       "      <td>6.82</td>\n",
       "      <td>NaN</td>\n",
       "      <td>NaN</td>\n",
       "    </tr>\n",
       "    <tr>\n",
       "      <th>1995-02-14</th>\n",
       "      <td>6.73</td>\n",
       "      <td>0.986804</td>\n",
       "      <td>-0.013284</td>\n",
       "    </tr>\n",
       "    <tr>\n",
       "      <th>1995-02-15</th>\n",
       "      <td>6.64</td>\n",
       "      <td>0.986627</td>\n",
       "      <td>-0.013463</td>\n",
       "    </tr>\n",
       "    <tr>\n",
       "      <th>1995-02-16</th>\n",
       "      <td>6.57</td>\n",
       "      <td>0.989458</td>\n",
       "      <td>-0.010598</td>\n",
       "    </tr>\n",
       "    <tr>\n",
       "      <th>1995-02-17</th>\n",
       "      <td>6.61</td>\n",
       "      <td>1.006088</td>\n",
       "      <td>0.006070</td>\n",
       "    </tr>\n",
       "    <tr>\n",
       "      <th>1995-02-20</th>\n",
       "      <td>6.60</td>\n",
       "      <td>0.998487</td>\n",
       "      <td>-0.001514</td>\n",
       "    </tr>\n",
       "    <tr>\n",
       "      <th>1995-02-21</th>\n",
       "      <td>6.65</td>\n",
       "      <td>1.007576</td>\n",
       "      <td>0.007547</td>\n",
       "    </tr>\n",
       "    <tr>\n",
       "      <th>1995-02-22</th>\n",
       "      <td>6.46</td>\n",
       "      <td>0.971429</td>\n",
       "      <td>-0.028988</td>\n",
       "    </tr>\n",
       "    <tr>\n",
       "      <th>1995-02-23</th>\n",
       "      <td>6.50</td>\n",
       "      <td>1.006192</td>\n",
       "      <td>0.006173</td>\n",
       "    </tr>\n",
       "    <tr>\n",
       "      <th>1995-02-24</th>\n",
       "      <td>6.47</td>\n",
       "      <td>0.995385</td>\n",
       "      <td>-0.004626</td>\n",
       "    </tr>\n",
       "  </tbody>\n",
       "</table>\n",
       "</div>"
      ],
      "text/plain": [
       "            Yield  Y_i/Y_i-1  ln(Y_i/Y_i-1)\n",
       "Date                                       \n",
       "1995-02-13   6.82        NaN            NaN\n",
       "1995-02-14   6.73   0.986804      -0.013284\n",
       "1995-02-15   6.64   0.986627      -0.013463\n",
       "1995-02-16   6.57   0.989458      -0.010598\n",
       "1995-02-17   6.61   1.006088       0.006070\n",
       "1995-02-20   6.60   0.998487      -0.001514\n",
       "1995-02-21   6.65   1.007576       0.007547\n",
       "1995-02-22   6.46   0.971429      -0.028988\n",
       "1995-02-23   6.50   1.006192       0.006173\n",
       "1995-02-24   6.47   0.995385      -0.004626"
      ]
     },
     "metadata": {},
     "output_type": "display_data"
    },
    {
     "data": {
      "text/html": [
       "<div>\n",
       "<table border=\"1\" class=\"dataframe\">\n",
       "  <thead>\n",
       "    <tr style=\"text-align: right;\">\n",
       "      <th></th>\n",
       "      <th>Yield</th>\n",
       "      <th>Y_i/Y_i-1</th>\n",
       "      <th>ln(Y_i/Y_i-1)</th>\n",
       "    </tr>\n",
       "  </thead>\n",
       "  <tbody>\n",
       "    <tr>\n",
       "      <th>mean</th>\n",
       "      <td>6.605000</td>\n",
       "      <td>0.994227</td>\n",
       "      <td>-0.005854</td>\n",
       "    </tr>\n",
       "    <tr>\n",
       "      <th>std</th>\n",
       "      <td>0.113847</td>\n",
       "      <td>0.011921</td>\n",
       "      <td>0.012029</td>\n",
       "    </tr>\n",
       "    <tr>\n",
       "      <th>ann_std</th>\n",
       "      <td>1.800077</td>\n",
       "      <td>0.188490</td>\n",
       "      <td>0.190192</td>\n",
       "    </tr>\n",
       "  </tbody>\n",
       "</table>\n",
       "</div>"
      ],
      "text/plain": [
       "            Yield  Y_i/Y_i-1  ln(Y_i/Y_i-1)\n",
       "mean     6.605000   0.994227      -0.005854\n",
       "std      0.113847   0.011921       0.012029\n",
       "ann_std  1.800077   0.188490       0.190192"
      ]
     },
     "metadata": {},
     "output_type": "display_data"
    },
    {
     "data": {
      "text/plain": [
       "1.2562178068871441"
      ]
     },
     "metadata": {},
     "output_type": "display_data"
    }
   ],
   "source": []
  },
  {
   "cell_type": "code",
   "execution_count": 238,
   "metadata": {
    "collapsed": false
   },
   "outputs": [
    {
     "data": {
      "text/plain": [
       "1.25621816"
      ]
     },
     "execution_count": 238,
     "metadata": {},
     "output_type": "execute_result"
    }
   ],
   "source": [
    "6.605000 * 0.190192"
   ]
  },
  {
   "cell_type": "code",
   "execution_count": 259,
   "metadata": {
    "collapsed": false
   },
   "outputs": [
    {
     "data": {
      "text/plain": [
       "97.692790494455949"
      ]
     },
     "execution_count": 259,
     "metadata": {},
     "output_type": "execute_result"
    }
   ],
   "source": [
    "106 / (1+ 0.057 * np.exp(.40) )"
   ]
  },
  {
   "cell_type": "code",
   "execution_count": 272,
   "metadata": {
    "collapsed": false
   },
   "outputs": [],
   "source": [
    "x1 = np.array([1,5,9])\n",
    "x2 = np.array([4,5,6])"
   ]
  },
  {
   "cell_type": "code",
   "execution_count": 280,
   "metadata": {
    "collapsed": false
   },
   "outputs": [
    {
     "name": "stdout",
     "output_type": "stream",
     "text": [
      "\tSet1\tSet2\n",
      "avg:\t5.0\t5.0\n",
      "1/av(x)\t0.2\t0.2\n",
      "1/av(x)\t0.44\t0.21\n"
     ]
    }
   ],
   "source": [
    "print('\\tSet1\\tSet2')\n",
    "print('avg:\\t{}\\t{}'.format(x1.mean(),x2.mean()))\n",
    "print('1/av(x)\\t{}\\t{}'.format(1/x1.mean(),1/x2.mean()))\n",
    "print('1/av(x)\\t{:.2f}\\t{:.2f}'.format(np.mean(1/x1),np.mean(1/x2)))"
   ]
  },
  {
   "cell_type": "code",
   "execution_count": 281,
   "metadata": {
    "collapsed": false
   },
   "outputs": [
    {
     "data": {
      "text/plain": [
       "array([ 1.        ,  0.2       ,  0.11111111])"
      ]
     },
     "execution_count": 281,
     "metadata": {},
     "output_type": "execute_result"
    }
   ],
   "source": [
    "1/x1"
   ]
  },
  {
   "cell_type": "code",
   "execution_count": 282,
   "metadata": {
    "collapsed": false
   },
   "outputs": [
    {
     "data": {
      "text/plain": [
       "0.43703703703703706"
      ]
     },
     "execution_count": 282,
     "metadata": {},
     "output_type": "execute_result"
    }
   ],
   "source": [
    "np.mean(1/x1)"
   ]
  },
  {
   "cell_type": "code",
   "execution_count": 283,
   "metadata": {
    "collapsed": false
   },
   "outputs": [
    {
     "data": {
      "text/plain": [
       "0.085034007765552408"
      ]
     },
     "execution_count": 283,
     "metadata": {},
     "output_type": "execute_result"
    }
   ],
   "source": [
    "0.057 * np.exp(.4)"
   ]
  },
  {
   "cell_type": "code",
   "execution_count": 284,
   "metadata": {
    "collapsed": true
   },
   "outputs": [],
   "source": [
    "prepay_sheet = wb.sheets('prepays')"
   ]
  },
  {
   "cell_type": "code",
   "execution_count": 308,
   "metadata": {
    "collapsed": true
   },
   "outputs": [],
   "source": [
    "CPR_diff = prepay_sheet.range('X1').expand().options(pd.DataFrame).value"
   ]
  },
  {
   "cell_type": "code",
   "execution_count": 331,
   "metadata": {
    "collapsed": false
   },
   "outputs": [
    {
     "data": {
      "image/png": "[encoded data removed]",
      "text/plain": [
       "<matplotlib.figure.Figure at 0x1ece2b54ac8>"
      ]
     },
     "metadata": {},
     "output_type": "display_data"
    }
   ],
   "source": [
    "ax = CPR_diff.plot()\n",
    "fig = ax.get_figure()\n",
    "ax.set_title('CPR% v (WAC - CC)')\n",
    "ax.set_xlabel('DIFF')\n",
    "ax.set_ylabel('CPR%')\n",
    "prepay_sheet.pictures.add(fig, name='CPR_DIFF', update=True, \n",
    "                          width=600, height=300)\n",
    "plt.show()"
   ]
  },
  {
   "cell_type": "code",
   "execution_count": 346,
   "metadata": {
    "collapsed": false
   },
   "outputs": [],
   "source": [
    "CPRs = prepay_sheet.range('N1').expand().options(pd.DataFrame).value\n",
    "Rates = prepay_sheet.range('D1').expand().options(pd.DataFrame).value"
   ]
  },
  {
   "cell_type": "code",
   "execution_count": 25,
   "metadata": {
    "collapsed": false
   },
   "outputs": [
    {
     "name": "stdout",
     "output_type": "stream",
     "text": [
      "<class 'matplotlib.axes._subplots.AxesSubplot'>\n",
      "[]\n"
     ]
    },
    {
     "data": {
      "image/png": "[encoded data removed]",
      "text/plain": [
       "<matplotlib.figure.Figure at 0x250a2b1a400>"
      ]
     },
     "metadata": {},
     "output_type": "display_data"
    }
   ],
   "source": [
    "linestyles = [':','--','-.','--',':']\n",
    "fig, ax = plt.subplots()\n",
    "for col, linestyle in zip(CPRs.columns, linestyles):\n",
    "    CPRs[col].plot(linestyle=linestyle, ax=ax, legend=False)\n",
    "ax1 = Rates.plot(ax=ax, secondary_y=True, legend=True)\n",
    "ax.set_ylabel('CPR%')\n",
    "ax1.set_ylabel('Current Coupon')\n",
    "ax.grid()\n",
    "ax.set_title('CPR v. Diff')\n",
    "handles, labels = ax.get_legend_handles_labels()\n",
    "fig.legend(handles=handles, labels=labels,shadow=True,\n",
    "          fancybox=True, bbox_to_anchor=(0.25,0.60), title='CPNs')\n",
    "prepay_sheet.pictures.add(fig,name='fig1',update=True)\n",
    "plt.show()"
   ]
  },
  {
   "cell_type": "code",
   "execution_count": 21,
   "metadata": {
    "collapsed": false
   },
   "outputs": [
    {
     "ename": "NameError",
     "evalue": "name 'CPRs' is not defined",
     "output_type": "error",
     "traceback": [
      "\u001b[0;31m---------------------------------------------------------------------------\u001b[0m",
      "\u001b[0;31mNameError\u001b[0m                                 Traceback (most recent call last)",
      "\u001b[0;32m<ipython-input-21-c4e17a7fd38b>\u001b[0m in \u001b[0;36m<module>\u001b[0;34m()\u001b[0m\n\u001b[0;32m----> 1\u001b[0;31m \u001b[0mgroup\u001b[0m \u001b[0;34m=\u001b[0m \u001b[0mpd\u001b[0m\u001b[0;34m.\u001b[0m\u001b[0mgroupby\u001b[0m\u001b[0;34m(\u001b[0m\u001b[0mCPRs\u001b[0m\u001b[0;34m,\u001b[0m\u001b[0mby\u001b[0m\u001b[0;34m=\u001b[0m\u001b[0;34m[\u001b[0m\u001b[0mCPRs\u001b[0m\u001b[0;34m.\u001b[0m\u001b[0mindex\u001b[0m\u001b[0;34m.\u001b[0m\u001b[0mmonth\u001b[0m\u001b[0;34m]\u001b[0m\u001b[0;34m)\u001b[0m\u001b[0;34m\u001b[0m\u001b[0m\n\u001b[0m",
      "\u001b[0;31mNameError\u001b[0m: name 'CPRs' is not defined"
     ]
    }
   ],
   "source": [
    "group = pd.groupby(CPRs,by=[CPRs.index.month])"
   ]
  },
  {
   "cell_type": "code",
   "execution_count": 244,
   "metadata": {
    "collapsed": false
   },
   "outputs": [],
   "source": [
    "ex5_9 = pd.read_json('{\"Current Coupon\":{\"0\":8,\"1\":7,\"2\":6,\"3\":8,\"4\":9,\"5\":7},\"WAC\":{\"0\":9,\"1\":9,\"2\":9,\"3\":10,\"4\":7,\"5\":14},\"Age\":{\"0\":24,\"1\":50,\"2\":75,\"3\":50,\"4\":10,\"5\":120},\"Factor\":{\"0\":0.9,\"1\":0.8,\"2\":0.7,\"3\":0.6,\"4\":0.8,\"5\":0.4},\"Month\":{\"0\":\"Jan\",\"1\":\"Jul\",\"2\":\"Mar\",\"3\":\"Feb\",\"4\":\"Oct\",\"5\":\"Nov\"}}')\n",
    "seasonality = pd.read_json('{\"Month\":{\"0\":\"Jan\",\"1\":\"Feb\",\"2\":\"Mar\",\"3\":\"Apr\",\"4\":\"May\",\"5\":\"Jun\",\"6\":\"Jul\",\"7\":\"Aug\",\"8\":\"Sep\",\"9\":\"Oct\",\"10\":\"Nov\",\"11\":\"Dec\",\"12\":\"Average\"},\"Average\":{\"0\":4.8725,\"1\":4.6275,\"2\":6.165,\"3\":6.505,\"4\":7.0975,\"5\":7.565,\"6\":7.2825,\"7\":8.4375,\"8\":6.95,\"9\":6.945,\"10\":5.84,\"11\":5.72,\"12\":6.5025},\"Factor\":{\"0\":0.749526683,\"1\":0.711838836,\"2\":0.948349308,\"3\":1.000650811,\"4\":1.091793871,\"5\":1.163708437,\"6\":1.120252041,\"7\":1.297923323,\"8\":1.069104248,\"9\":1.068335108,\"10\":0.898355224,\"11\":0.87989587,\"12\":1.000266241}}')"
   ]
  },
  {
   "cell_type": "code",
   "execution_count": 125,
   "metadata": {
    "collapsed": false
   },
   "outputs": [
    {
     "data": {
      "text/plain": [
       "0.74952668300000003"
      ]
     },
     "execution_count": 125,
     "metadata": {},
     "output_type": "execute_result"
    }
   ],
   "source": [
    "seasonality.loc[seasonality['Month'] == 'Jan','Factor'][0]"
   ]
  },
  {
   "cell_type": "code",
   "execution_count": 114,
   "metadata": {
    "collapsed": false
   },
   "outputs": [],
   "source": [
    "def age_perc(age, e=30):\n",
    "    return min(age/e, 1)"
   ]
  },
  {
   "cell_type": "code",
   "execution_count": 251,
   "metadata": {
    "collapsed": false
   },
   "outputs": [],
   "source": [
    "def simple_model(current_coupon, wac, age, burn, month):\n",
    "    diff = (wac - current_coupon) * 100\n",
    "    interest_effect = interest_rate_effect(0.5,\n",
    "                                             0.06,\n",
    "                                             200,\n",
    "                                             .006,\n",
    "                                             diff)\n",
    "    seasonal = seasonality.loc[seasonality['Month'] == month\n",
    "                               ,'Factor'].values[0]\n",
    "    features = {'Interest': interest_effect[4],\n",
    "           'Age': age_perc(age=age),\n",
    "           'Burnout': burn_perc(factor=burn),\n",
    "           'Seasonal': seasonal}\n",
    "    \n",
    "    return features"
   ]
  },
  {
   "cell_type": "code",
   "execution_count": 252,
   "metadata": {
    "collapsed": true
   },
   "outputs": [],
   "source": [
    "def burn_perc(factor, f=0.7):\n",
    "    return 1 - f * (1 - factor)"
   ]
  },
  {
   "cell_type": "code",
   "execution_count": 253,
   "metadata": {
    "collapsed": false
   },
   "outputs": [],
   "source": [
    "def interest_rate_effect(max_CPR, min_CPR, midpoint_diff, max_slope, diff=0):\n",
    "    a = (max_CPR + min_CPR) / 2\n",
    "    b = (max_CPR - a) / (np.pi/2)\n",
    "    d = max_slope/b\n",
    "    c = -d * midpoint_diff\n",
    "    try:\n",
    "        result = a + b * (np.arctan(c + d * diff))\n",
    "    except Exception as e:\n",
    "        print(e)\n",
    "        result = 0\n",
    "    return a, b, c, d, result "
   ]
  },
  {
   "cell_type": "code",
   "execution_count": 254,
   "metadata": {
    "collapsed": false
   },
   "outputs": [],
   "source": [
    "a, b, c, d, result = interest_rate_effect(0.5,0.06,200,.006,100)"
   ]
  },
  {
   "cell_type": "code",
   "execution_count": 255,
   "metadata": {
    "collapsed": false
   },
   "outputs": [
    {
     "data": {
      "text/html": [
       "<div>\n",
       "<table border=\"1\" class=\"dataframe\">\n",
       "  <thead>\n",
       "    <tr style=\"text-align: right;\">\n",
       "      <th></th>\n",
       "      <th>Interest</th>\n",
       "      <th>Age</th>\n",
       "      <th>Burnout</th>\n",
       "      <th>Seasonal</th>\n",
       "      <th>Total</th>\n",
       "    </tr>\n",
       "  </thead>\n",
       "  <tbody>\n",
       "    <tr>\n",
       "      <th>0</th>\n",
       "      <td>0.092118</td>\n",
       "      <td>0.800000</td>\n",
       "      <td>0.93</td>\n",
       "      <td>0.749527</td>\n",
       "      <td>0.051369</td>\n",
       "    </tr>\n",
       "    <tr>\n",
       "      <th>1</th>\n",
       "      <td>0.280000</td>\n",
       "      <td>1.000000</td>\n",
       "      <td>0.86</td>\n",
       "      <td>1.120252</td>\n",
       "      <td>0.269757</td>\n",
       "    </tr>\n",
       "    <tr>\n",
       "      <th>2</th>\n",
       "      <td>0.467882</td>\n",
       "      <td>1.000000</td>\n",
       "      <td>0.79</td>\n",
       "      <td>0.948349</td>\n",
       "      <td>0.350535</td>\n",
       "    </tr>\n",
       "    <tr>\n",
       "      <th>3</th>\n",
       "      <td>0.280000</td>\n",
       "      <td>1.000000</td>\n",
       "      <td>0.72</td>\n",
       "      <td>0.711839</td>\n",
       "      <td>0.143507</td>\n",
       "    </tr>\n",
       "    <tr>\n",
       "      <th>4</th>\n",
       "      <td>0.068164</td>\n",
       "      <td>0.333333</td>\n",
       "      <td>0.86</td>\n",
       "      <td>1.068335</td>\n",
       "      <td>0.020876</td>\n",
       "    </tr>\n",
       "    <tr>\n",
       "      <th>5</th>\n",
       "      <td>0.493466</td>\n",
       "      <td>1.000000</td>\n",
       "      <td>0.58</td>\n",
       "      <td>0.898355</td>\n",
       "      <td>0.257119</td>\n",
       "    </tr>\n",
       "  </tbody>\n",
       "</table>\n",
       "</div>"
      ],
      "text/plain": [
       "   Interest       Age  Burnout  Seasonal     Total\n",
       "0  0.092118  0.800000     0.93  0.749527  0.051369\n",
       "1  0.280000  1.000000     0.86  1.120252  0.269757\n",
       "2  0.467882  1.000000     0.79  0.948349  0.350535\n",
       "3  0.280000  1.000000     0.72  0.711839  0.143507\n",
       "4  0.068164  0.333333     0.86  1.068335  0.020876\n",
       "5  0.493466  1.000000     0.58  0.898355  0.257119"
      ]
     },
     "execution_count": 255,
     "metadata": {},
     "output_type": "execute_result"
    }
   ],
   "source": [
    "results = pd.DataFrame(columns=['Interest',\n",
    "                                'Age',\n",
    "                                'Burnout',\n",
    "                                'Seasonal',\n",
    "                                'Total'])\n",
    "\n",
    "results = results.append(list(ex5_9.apply(lambda x: simple_model(x['Current Coupon'],\n",
    "                                       x['WAC'],\n",
    "                                       x['Age'],\n",
    "                                       x['Factor'],\n",
    "                                       x['Month']), axis=1)),\n",
    "              ignore_index=True)\n",
    "results['Total'] = results.apply(lambda x:\n",
    "                                x['Interest'] * x['Age']\n",
    "                                * x['Burnout'] * x['Seasonal'],\n",
    "                                axis=1)\n",
    "\n",
    "results"
   ]
  },
  {
   "cell_type": "code",
   "execution_count": 259,
   "metadata": {
    "collapsed": false
   },
   "outputs": [
    {
     "name": "stdout",
     "output_type": "stream",
     "text": [
      "   Age  Current Coupon  Factor Month  WAC\n",
      "0   24               8     0.9   Jan    9\n",
      "1   50               7     0.8   Jul    9\n",
      "2   75               6     0.7   Mar    9\n",
      "3   50               8     0.6   Feb   10\n",
      "4   10               9     0.8   Oct    7\n",
      "5  120               7     0.4   Nov   14\n",
      "   Interest       Age  Burnout  Seasonal     Total\n",
      "0  0.092118  0.800000     0.93  0.749527  0.051369\n",
      "1  0.280000  1.000000     0.86  1.120252  0.269757\n",
      "2  0.467882  1.000000     0.79  0.948349  0.350535\n",
      "3  0.280000  1.000000     0.72  0.711839  0.143507\n",
      "4  0.068164  0.333333     0.86  1.068335  0.020876\n",
      "5  0.493466  1.000000     0.58  0.898355  0.257119\n"
     ]
    }
   ],
   "source": [
    "from IPython import display\n",
    "print(ex5_9)\n",
    "print(results)"
   ]
  },
  {
   "cell_type": "code",
   "execution_count": null,
   "metadata": {
    "collapsed": true
   },
   "outputs": [],
   "source": []
  }
 ],
 "metadata": {
  "kernelspec": {
   "display_name": "Python 3",
   "language": "python",
   "name": "python3"
  },
  "language_info": {
   "codemirror_mode": {
    "name": "ipython",
    "version": 3
   },
   "file_extension": ".py",
   "mimetype": "text/x-python",
   "name": "python",
   "nbconvert_exporter": "python",
   "pygments_lexer": "ipython3",
   "version": "3.6.0"
  }
 },
 "nbformat": 4,
 "nbformat_minor": 0
}
